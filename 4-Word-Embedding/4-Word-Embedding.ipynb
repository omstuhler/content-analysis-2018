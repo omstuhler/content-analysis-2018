{
 "cells": [
  {
   "cell_type": "markdown",
   "metadata": {},
   "source": [
    "# Week 4 - Word Embeddings\n",
    "\n",
    "This week, we build on last week's topic modeling techniques by taking a text corpus we have developed, specifying an underlying number of dimensions, and training a model with a neural network auto-encoder (one of Google's word2vec  algorithms) that best describes corpus words in their local linguistic contexts, and exploring their locations in the resulting space to learn about the discursive culture that produced them. Documents here are represented as densely indexed locations in dimensions, rather than sparse mixtures of topics (as in LDA topic modeling), so that distances between those documents (and words) are consistently superior, though they require the full vector of dimension loadings (rather than just a few selected topic loadings) to describe. We will explore these spaces to understand complex, semantic relationships between words, index documents with descriptive words, identify the likelihood that a given document would have been produced by a given vector model, and explore how semantic categories can help us understand the cultures that produced them.\n",
    "\n",
    "For this notebook we will be using the following packages"
   ]
  },
  {
   "cell_type": "code",
   "execution_count": 5,
   "metadata": {
    "collapsed": true
   },
   "outputs": [],
   "source": [
    "#Special module written for this class\n",
    "#This provides access to data and to helper functions from previous weeks\n",
    "#Make sure you update it before starting this notebook\n",
    "import lucem_illud #pip install -U git+git://github.com/Computational-Content-Analysis-2018/lucem_illud.git\n",
    "\n",
    "#All these packages need to be installed from pip\n",
    "import gensim#For word2vec, etc\n",
    "import requests #For downloading our datasets\n",
    "import nltk #For stop words and stemmers\n",
    "import numpy as np #For arrays\n",
    "import pandas #Gives us DataFrames\n",
    "import matplotlib.pyplot as plt #For graphics\n",
    "import seaborn #Makes the graphics look nicer\n",
    "import sklearn.metrics.pairwise #For cosine similarity\n",
    "import sklearn.manifold #For T-SNE\n",
    "import sklearn.decomposition #For PCA\n",
    "\n",
    "#gensim uses a couple of deprecated features\n",
    "#we can't do anything about them so lets ignore them \n",
    "import warnings\n",
    "warnings.filterwarnings(\"ignore\", category=DeprecationWarning) \n",
    "\n",
    "#This 'magic' command makes the plots work better\n",
    "#in the notebook, don't use it outside of a notebook.\n",
    "#Also you can ignore the warning\n",
    "%matplotlib inline\n",
    "\n",
    "import os #For looking through files\n",
    "import os.path #For managing file paths"
   ]
  },
  {
   "cell_type": "markdown",
   "metadata": {},
   "source": [
    "# Getting our corpora\n",
    "\n",
    "Instead of downloading our corpora, we have download them in advance; a subset of the [senate press releases](https://github.com/lintool/GrimmerSenatePressReleases) are in `grimmerPressReleases`. We will load them into a DataFrame, using a function from a couple weeks ago `loadTextDirectory`:"
   ]
  },
  {
   "cell_type": "code",
   "execution_count": 6,
   "metadata": {},
   "outputs": [
    {
     "data": {
      "text/html": [
       "<div>\n",
       "<style scoped>\n",
       "    .dataframe tbody tr th:only-of-type {\n",
       "        vertical-align: middle;\n",
       "    }\n",
       "\n",
       "    .dataframe tbody tr th {\n",
       "        vertical-align: top;\n",
       "    }\n",
       "\n",
       "    .dataframe thead th {\n",
       "        text-align: right;\n",
       "    }\n",
       "</style>\n",
       "<table border=\"1\" class=\"dataframe\">\n",
       "  <thead>\n",
       "    <tr style=\"text-align: right;\">\n",
       "      <th></th>\n",
       "      <th>text</th>\n",
       "    </tr>\n",
       "  </thead>\n",
       "  <tbody>\n",
       "    <tr>\n",
       "      <th>01Apr2005Kennedy14.txt</th>\n",
       "      <td>FOR IMMEDIATE RELEASE   FOR IMMEDIATE...</td>\n",
       "    </tr>\n",
       "    <tr>\n",
       "      <th>01Aug2005Kennedy12.txt</th>\n",
       "      <td>FOR IMMEDIATE RELEASE   FOR IMMEDIATE...</td>\n",
       "    </tr>\n",
       "    <tr>\n",
       "      <th>01Aug2006Kennedy10.txt</th>\n",
       "      <td>FOR IMMEDIATE RELEASE  FOR IMMEDIATE ...</td>\n",
       "    </tr>\n",
       "    <tr>\n",
       "      <th>01Aug2006Kennedy11.txt</th>\n",
       "      <td>FOR IMMEDIATE RELEASE  FOR IMMEDIATE ...</td>\n",
       "    </tr>\n",
       "    <tr>\n",
       "      <th>01Aug2006Kennedy12.txt</th>\n",
       "      <td>FOR IMMEDIATE RELEASE  FOR IMMEDIATE ...</td>\n",
       "    </tr>\n",
       "  </tbody>\n",
       "</table>\n",
       "</div>"
      ],
      "text/plain": [
       "                                                                     text\n",
       "01Apr2005Kennedy14.txt           FOR IMMEDIATE RELEASE   FOR IMMEDIATE...\n",
       "01Aug2005Kennedy12.txt           FOR IMMEDIATE RELEASE   FOR IMMEDIATE...\n",
       "01Aug2006Kennedy10.txt           FOR IMMEDIATE RELEASE  FOR IMMEDIATE ...\n",
       "01Aug2006Kennedy11.txt           FOR IMMEDIATE RELEASE  FOR IMMEDIATE ...\n",
       "01Aug2006Kennedy12.txt           FOR IMMEDIATE RELEASE  FOR IMMEDIATE ..."
      ]
     },
     "execution_count": 6,
     "metadata": {},
     "output_type": "execute_result"
    }
   ],
   "source": [
    "kennedyDF = lucem_illud.loadTextDirectory('../data/grimmerPressReleases/Kennedy/')\n",
    "kennedyDF[:5]"
   ]
  },
  {
   "cell_type": "markdown",
   "metadata": {},
   "source": [
    "This gets us one Senator's data, but with no metadata, we can add a category column with a simple command:"
   ]
  },
  {
   "cell_type": "code",
   "execution_count": 7,
   "metadata": {},
   "outputs": [
    {
     "data": {
      "text/html": [
       "<div>\n",
       "<style scoped>\n",
       "    .dataframe tbody tr th:only-of-type {\n",
       "        vertical-align: middle;\n",
       "    }\n",
       "\n",
       "    .dataframe tbody tr th {\n",
       "        vertical-align: top;\n",
       "    }\n",
       "\n",
       "    .dataframe thead th {\n",
       "        text-align: right;\n",
       "    }\n",
       "</style>\n",
       "<table border=\"1\" class=\"dataframe\">\n",
       "  <thead>\n",
       "    <tr style=\"text-align: right;\">\n",
       "      <th></th>\n",
       "      <th>text</th>\n",
       "      <th>category</th>\n",
       "    </tr>\n",
       "  </thead>\n",
       "  <tbody>\n",
       "    <tr>\n",
       "      <th>01Apr2005Kennedy14.txt</th>\n",
       "      <td>FOR IMMEDIATE RELEASE   FOR IMMEDIATE...</td>\n",
       "      <td>Kennedy</td>\n",
       "    </tr>\n",
       "    <tr>\n",
       "      <th>01Aug2005Kennedy12.txt</th>\n",
       "      <td>FOR IMMEDIATE RELEASE   FOR IMMEDIATE...</td>\n",
       "      <td>Kennedy</td>\n",
       "    </tr>\n",
       "    <tr>\n",
       "      <th>01Aug2006Kennedy10.txt</th>\n",
       "      <td>FOR IMMEDIATE RELEASE  FOR IMMEDIATE ...</td>\n",
       "      <td>Kennedy</td>\n",
       "    </tr>\n",
       "    <tr>\n",
       "      <th>01Aug2006Kennedy11.txt</th>\n",
       "      <td>FOR IMMEDIATE RELEASE  FOR IMMEDIATE ...</td>\n",
       "      <td>Kennedy</td>\n",
       "    </tr>\n",
       "    <tr>\n",
       "      <th>01Aug2006Kennedy12.txt</th>\n",
       "      <td>FOR IMMEDIATE RELEASE  FOR IMMEDIATE ...</td>\n",
       "      <td>Kennedy</td>\n",
       "    </tr>\n",
       "  </tbody>\n",
       "</table>\n",
       "</div>"
      ],
      "text/plain": [
       "                                                                     text  \\\n",
       "01Apr2005Kennedy14.txt           FOR IMMEDIATE RELEASE   FOR IMMEDIATE...   \n",
       "01Aug2005Kennedy12.txt           FOR IMMEDIATE RELEASE   FOR IMMEDIATE...   \n",
       "01Aug2006Kennedy10.txt           FOR IMMEDIATE RELEASE  FOR IMMEDIATE ...   \n",
       "01Aug2006Kennedy11.txt           FOR IMMEDIATE RELEASE  FOR IMMEDIATE ...   \n",
       "01Aug2006Kennedy12.txt           FOR IMMEDIATE RELEASE  FOR IMMEDIATE ...   \n",
       "\n",
       "                       category  \n",
       "01Apr2005Kennedy14.txt  Kennedy  \n",
       "01Aug2005Kennedy12.txt  Kennedy  \n",
       "01Aug2006Kennedy10.txt  Kennedy  \n",
       "01Aug2006Kennedy11.txt  Kennedy  \n",
       "01Aug2006Kennedy12.txt  Kennedy  "
      ]
     },
     "execution_count": 7,
     "metadata": {},
     "output_type": "execute_result"
    }
   ],
   "source": [
    "kennedyDF['category'] = 'Kennedy'\n",
    "kennedyDF[:5]"
   ]
  },
  {
   "cell_type": "markdown",
   "metadata": {},
   "source": [
    "We also will be wanting to load all the senators so we will need to loop over all the directories"
   ]
  },
  {
   "cell_type": "code",
   "execution_count": 8,
   "metadata": {},
   "outputs": [
    {
     "data": {
      "text/html": [
       "<div>\n",
       "<style scoped>\n",
       "    .dataframe tbody tr th:only-of-type {\n",
       "        vertical-align: middle;\n",
       "    }\n",
       "\n",
       "    .dataframe tbody tr th {\n",
       "        vertical-align: top;\n",
       "    }\n",
       "\n",
       "    .dataframe thead th {\n",
       "        text-align: right;\n",
       "    }\n",
       "</style>\n",
       "<table border=\"1\" class=\"dataframe\">\n",
       "  <thead>\n",
       "    <tr style=\"text-align: right;\">\n",
       "      <th></th>\n",
       "      <th>text</th>\n",
       "      <th>category</th>\n",
       "    </tr>\n",
       "  </thead>\n",
       "  <tbody>\n",
       "    <tr>\n",
       "      <th>01Apr2005Kennedy14.txt</th>\n",
       "      <td>FOR IMMEDIATE RELEASE   FOR IMMEDIATE...</td>\n",
       "      <td>Kennedy</td>\n",
       "    </tr>\n",
       "    <tr>\n",
       "      <th>01Aug2005Kennedy12.txt</th>\n",
       "      <td>FOR IMMEDIATE RELEASE   FOR IMMEDIATE...</td>\n",
       "      <td>Kennedy</td>\n",
       "    </tr>\n",
       "    <tr>\n",
       "      <th>01Aug2006Kennedy10.txt</th>\n",
       "      <td>FOR IMMEDIATE RELEASE  FOR IMMEDIATE ...</td>\n",
       "      <td>Kennedy</td>\n",
       "    </tr>\n",
       "    <tr>\n",
       "      <th>01Aug2006Kennedy11.txt</th>\n",
       "      <td>FOR IMMEDIATE RELEASE  FOR IMMEDIATE ...</td>\n",
       "      <td>Kennedy</td>\n",
       "    </tr>\n",
       "    <tr>\n",
       "      <th>01Aug2006Kennedy12.txt</th>\n",
       "      <td>FOR IMMEDIATE RELEASE  FOR IMMEDIATE ...</td>\n",
       "      <td>Kennedy</td>\n",
       "    </tr>\n",
       "  </tbody>\n",
       "</table>\n",
       "</div>"
      ],
      "text/plain": [
       "                                                                     text  \\\n",
       "01Apr2005Kennedy14.txt           FOR IMMEDIATE RELEASE   FOR IMMEDIATE...   \n",
       "01Aug2005Kennedy12.txt           FOR IMMEDIATE RELEASE   FOR IMMEDIATE...   \n",
       "01Aug2006Kennedy10.txt           FOR IMMEDIATE RELEASE  FOR IMMEDIATE ...   \n",
       "01Aug2006Kennedy11.txt           FOR IMMEDIATE RELEASE  FOR IMMEDIATE ...   \n",
       "01Aug2006Kennedy12.txt           FOR IMMEDIATE RELEASE  FOR IMMEDIATE ...   \n",
       "\n",
       "                       category  \n",
       "01Apr2005Kennedy14.txt  Kennedy  \n",
       "01Aug2005Kennedy12.txt  Kennedy  \n",
       "01Aug2006Kennedy10.txt  Kennedy  \n",
       "01Aug2006Kennedy11.txt  Kennedy  \n",
       "01Aug2006Kennedy12.txt  Kennedy  "
      ]
     },
     "execution_count": 8,
     "metadata": {},
     "output_type": "execute_result"
    }
   ],
   "source": [
    "dataDir = '../data/grimmerPressReleases'\n",
    "\n",
    "senReleasesDF = pandas.DataFrame()\n",
    "\n",
    "for senatorDir in (file for file in os.scandir(dataDir) if not file.name.startswith('.') and file.is_dir()):\n",
    "    senDF = lucem_illud.loadTextDirectory(senatorDir.path)\n",
    "    senDF['category'] = senatorDir.name\n",
    "    senReleasesDF = senReleasesDF.append(senDF, ignore_index = False)\n",
    "\n",
    "senReleasesDF[:5]"
   ]
  },
  {
   "cell_type": "markdown",
   "metadata": {},
   "source": [
    "We also want to remove stop words and stem. Tokenizing requires two steps. Word2Vec needs to retain the sentence structure so as to capture a \"continuous bag of words (CBOW)\" and all of the skip-grams within a word window. The algorithm tries to preserve the distances induced by one of these two local structures. This is very different from clustering and LDA topic modeling which extract unordered words alone. As such, tokenizing is slightly more involved, but we can still use `lucem_illud`."
   ]
  },
  {
   "cell_type": "code",
   "execution_count": 9,
   "metadata": {},
   "outputs": [
    {
     "data": {
      "text/html": [
       "<div>\n",
       "<style scoped>\n",
       "    .dataframe tbody tr th:only-of-type {\n",
       "        vertical-align: middle;\n",
       "    }\n",
       "\n",
       "    .dataframe tbody tr th {\n",
       "        vertical-align: top;\n",
       "    }\n",
       "\n",
       "    .dataframe thead th {\n",
       "        text-align: right;\n",
       "    }\n",
       "</style>\n",
       "<table border=\"1\" class=\"dataframe\">\n",
       "  <thead>\n",
       "    <tr style=\"text-align: right;\">\n",
       "      <th></th>\n",
       "      <th>text</th>\n",
       "      <th>category</th>\n",
       "      <th>tokenized_sents</th>\n",
       "      <th>normalized_sents</th>\n",
       "    </tr>\n",
       "  </thead>\n",
       "  <tbody>\n",
       "    <tr>\n",
       "      <th>01Apr2005Kennedy14.txt</th>\n",
       "      <td>FOR IMMEDIATE RELEASE   FOR IMMEDIATE...</td>\n",
       "      <td>Kennedy</td>\n",
       "      <td>[[FOR, IMMEDIATE, RELEASE, FOR, IMMEDIATE, REL...</td>\n",
       "      <td>[[immediate, release, immediate, release, cont...</td>\n",
       "    </tr>\n",
       "    <tr>\n",
       "      <th>01Aug2005Kennedy12.txt</th>\n",
       "      <td>FOR IMMEDIATE RELEASE   FOR IMMEDIATE...</td>\n",
       "      <td>Kennedy</td>\n",
       "      <td>[[FOR, IMMEDIATE, RELEASE, FOR, IMMEDIATE, REL...</td>\n",
       "      <td>[[immediate, release, immediate, release, cont...</td>\n",
       "    </tr>\n",
       "    <tr>\n",
       "      <th>01Aug2006Kennedy10.txt</th>\n",
       "      <td>FOR IMMEDIATE RELEASE  FOR IMMEDIATE ...</td>\n",
       "      <td>Kennedy</td>\n",
       "      <td>[[FOR, IMMEDIATE, RELEASE, FOR, IMMEDIATE, REL...</td>\n",
       "      <td>[[immediate, release, immediate, release, wash...</td>\n",
       "    </tr>\n",
       "    <tr>\n",
       "      <th>01Aug2006Kennedy11.txt</th>\n",
       "      <td>FOR IMMEDIATE RELEASE  FOR IMMEDIATE ...</td>\n",
       "      <td>Kennedy</td>\n",
       "      <td>[[FOR, IMMEDIATE, RELEASE, FOR, IMMEDIATE, REL...</td>\n",
       "      <td>[[immediate, release, immediate, release, wash...</td>\n",
       "    </tr>\n",
       "    <tr>\n",
       "      <th>01Aug2006Kennedy12.txt</th>\n",
       "      <td>FOR IMMEDIATE RELEASE  FOR IMMEDIATE ...</td>\n",
       "      <td>Kennedy</td>\n",
       "      <td>[[FOR, IMMEDIATE, RELEASE, FOR, IMMEDIATE, REL...</td>\n",
       "      <td>[[immediate, release, immediate, release, cont...</td>\n",
       "    </tr>\n",
       "  </tbody>\n",
       "</table>\n",
       "</div>"
      ],
      "text/plain": [
       "                                                                     text  \\\n",
       "01Apr2005Kennedy14.txt           FOR IMMEDIATE RELEASE   FOR IMMEDIATE...   \n",
       "01Aug2005Kennedy12.txt           FOR IMMEDIATE RELEASE   FOR IMMEDIATE...   \n",
       "01Aug2006Kennedy10.txt           FOR IMMEDIATE RELEASE  FOR IMMEDIATE ...   \n",
       "01Aug2006Kennedy11.txt           FOR IMMEDIATE RELEASE  FOR IMMEDIATE ...   \n",
       "01Aug2006Kennedy12.txt           FOR IMMEDIATE RELEASE  FOR IMMEDIATE ...   \n",
       "\n",
       "                       category  \\\n",
       "01Apr2005Kennedy14.txt  Kennedy   \n",
       "01Aug2005Kennedy12.txt  Kennedy   \n",
       "01Aug2006Kennedy10.txt  Kennedy   \n",
       "01Aug2006Kennedy11.txt  Kennedy   \n",
       "01Aug2006Kennedy12.txt  Kennedy   \n",
       "\n",
       "                                                          tokenized_sents  \\\n",
       "01Apr2005Kennedy14.txt  [[FOR, IMMEDIATE, RELEASE, FOR, IMMEDIATE, REL...   \n",
       "01Aug2005Kennedy12.txt  [[FOR, IMMEDIATE, RELEASE, FOR, IMMEDIATE, REL...   \n",
       "01Aug2006Kennedy10.txt  [[FOR, IMMEDIATE, RELEASE, FOR, IMMEDIATE, REL...   \n",
       "01Aug2006Kennedy11.txt  [[FOR, IMMEDIATE, RELEASE, FOR, IMMEDIATE, REL...   \n",
       "01Aug2006Kennedy12.txt  [[FOR, IMMEDIATE, RELEASE, FOR, IMMEDIATE, REL...   \n",
       "\n",
       "                                                         normalized_sents  \n",
       "01Apr2005Kennedy14.txt  [[immediate, release, immediate, release, cont...  \n",
       "01Aug2005Kennedy12.txt  [[immediate, release, immediate, release, cont...  \n",
       "01Aug2006Kennedy10.txt  [[immediate, release, immediate, release, wash...  \n",
       "01Aug2006Kennedy11.txt  [[immediate, release, immediate, release, wash...  \n",
       "01Aug2006Kennedy12.txt  [[immediate, release, immediate, release, cont...  "
      ]
     },
     "execution_count": 9,
     "metadata": {},
     "output_type": "execute_result"
    }
   ],
   "source": [
    "#Apply our functions, notice each row is a list of lists now\n",
    "senReleasesDF['tokenized_sents'] = senReleasesDF['text'].apply(lambda x: \n",
    "                                                               [nltk.word_tokenize(s) for s in nltk.sent_tokenize(x)])\n",
    "senReleasesDF['normalized_sents'] = senReleasesDF['tokenized_sents'].apply(lambda x: \n",
    "                                                                           [lucem_illud.normalizeTokens(s, \n",
    "                                                                                           stopwordLst = lucem_illud.stop_words_basic, \n",
    "                                                                                           stemmer = None) \n",
    "                                                                            for s in x])\n",
    "\n",
    "senReleasesDF[:5]"
   ]
  },
  {
   "cell_type": "markdown",
   "metadata": {},
   "source": [
    "# Word2Vec\n",
    "\n",
    "We will be using the gensim implementation of [Word2Vec](https://radimrehurek.com/gensim/models/word2vec.html#gensim.models.word2vec.Word2Vec).\n",
    "\n",
    "To load our data, we give all the sentences to the trainer. We just need to add the words as a list of sentences:"
   ]
  },
  {
   "cell_type": "code",
   "execution_count": 10,
   "metadata": {
    "collapsed": true
   },
   "outputs": [],
   "source": [
    "senReleasesW2V = gensim.models.word2vec.Word2Vec(senReleasesDF['normalized_sents'].sum())"
   ]
  },
  {
   "cell_type": "markdown",
   "metadata": {},
   "source": [
    "Inside the word2vec object, the words each have a vector. To access the vector directly, use the square braces (`__getitem__`) method:"
   ]
  },
  {
   "cell_type": "code",
   "execution_count": 11,
   "metadata": {},
   "outputs": [
    {
     "name": "stdout",
     "output_type": "stream",
     "text": [
      "A 100 dimesional vector:\n"
     ]
    },
    {
     "data": {
      "text/plain": [
       "array([-0.81149024, -1.2290177 ,  0.3571562 , -1.6087767 ,  1.549572  ,\n",
       "       -1.8439343 , -1.839542  , -0.89825237, -1.2386342 ,  0.37271133,\n",
       "        0.15502964, -2.1492555 , -0.25375944, -0.4244906 ,  1.5611672 ,\n",
       "        0.702179  , -0.9590893 ,  0.20478864,  0.99705875,  0.41076255,\n",
       "       -0.41031268, -1.7104361 , -2.7788546 ,  1.7116729 ,  0.4626932 ,\n",
       "       -1.589162  ,  2.8817399 ,  0.765546  ,  0.70763266, -0.9575431 ,\n",
       "        1.2644348 ,  0.9081932 , -1.8250339 , -1.0759275 ,  1.3988361 ,\n",
       "        2.037518  , -4.07965   ,  0.6588693 , -2.0764885 , -1.1843468 ,\n",
       "       -0.27857322, -0.03701935,  1.2392514 ,  2.4555376 ,  1.6806713 ,\n",
       "       -1.4816751 ,  1.0879822 ,  0.29574132,  2.567892  ,  2.4714482 ,\n",
       "        0.15362051,  0.7294509 , -0.5454583 , -1.3170463 ,  0.2988344 ,\n",
       "        0.44125378,  0.24630404,  0.23142874,  0.7956262 ,  0.49701527,\n",
       "       -0.8832795 , -0.0346157 , -1.2994642 ,  2.7716446 ,  2.272113  ,\n",
       "       -2.1326313 ,  2.0553555 , -0.9060296 ,  1.6222879 , -0.3618957 ,\n",
       "        2.836045  ,  0.44096547, -2.6983216 ,  0.00801675, -0.8019325 ,\n",
       "       -0.09190806, -1.522987  , -1.466467  , -0.15232846, -0.2658391 ,\n",
       "       -0.68918926,  0.7480043 ,  0.3754356 ,  0.74578744,  0.08900074,\n",
       "       -0.3781451 , -2.5386336 ,  2.4752111 , -0.78998727, -2.0541558 ,\n",
       "       -2.424987  ,  0.9230861 ,  2.1472378 ,  0.02069642, -0.83687943,\n",
       "        0.27578068, -0.10290517, -0.14288686, -2.4241486 ,  0.55756444],\n",
       "      dtype=float32)"
      ]
     },
     "execution_count": 11,
     "metadata": {},
     "output_type": "execute_result"
    }
   ],
   "source": [
    "print(\"A {} dimesional vector:\".format(senReleasesW2V['president'].shape[0]))\n",
    "senReleasesW2V['president']"
   ]
  },
  {
   "cell_type": "markdown",
   "metadata": {},
   "source": [
    "If you want the full matrix, `syn0` stores all the vectors:"
   ]
  },
  {
   "cell_type": "code",
   "execution_count": 12,
   "metadata": {},
   "outputs": [
    {
     "data": {
      "text/plain": [
       "array([[-1.3152279 , -0.5725087 ,  0.3384592 , ..., -0.5113823 ,\n",
       "        -1.2253925 , -0.45765156],\n",
       "       [-0.25754902,  0.99485123, -3.7005763 , ..., -1.1399765 ,\n",
       "        -1.7851036 , -1.8279567 ],\n",
       "       [ 0.00494273, -0.6956174 , -0.7788534 , ...,  0.47438586,\n",
       "        -1.3703517 , -1.0484085 ],\n",
       "       ...,\n",
       "       [ 0.04478177, -0.05100513, -0.01498114, ..., -0.04987178,\n",
       "         0.06700891, -0.05722584],\n",
       "       [-0.01228493, -0.07836239, -0.02476957, ..., -0.05275017,\n",
       "        -0.03281103, -0.00421972],\n",
       "       [ 0.0650178 , -0.09341248, -0.06496064, ..., -0.05011315,\n",
       "         0.03241272, -0.0356218 ]], dtype=float32)"
      ]
     },
     "execution_count": 12,
     "metadata": {},
     "output_type": "execute_result"
    }
   ],
   "source": [
    "senReleasesW2V.wv.syn0"
   ]
  },
  {
   "cell_type": "markdown",
   "metadata": {},
   "source": [
    "Then, `index2word` lets you translate from the matrix to words"
   ]
  },
  {
   "cell_type": "code",
   "execution_count": 13,
   "metadata": {},
   "outputs": [
    {
     "data": {
      "text/plain": [
       "'american'"
      ]
     },
     "execution_count": 13,
     "metadata": {},
     "output_type": "execute_result"
    }
   ],
   "source": [
    "senReleasesW2V.wv.index2word[10]"
   ]
  },
  {
   "cell_type": "markdown",
   "metadata": {},
   "source": [
    "Now we can look at a few things that come from the word vectors. The first is to find similar vectors (cosine similarity):"
   ]
  },
  {
   "cell_type": "code",
   "execution_count": 14,
   "metadata": {},
   "outputs": [
    {
     "data": {
      "text/plain": [
       "[('administration', 0.7797068953514099),\n",
       " ('presidents', 0.7715253233909607),\n",
       " ('administrations', 0.679747462272644),\n",
       " ('george', 0.5984493494033813),\n",
       " ('cheney', 0.5866602659225464),\n",
       " ('sims', 0.5349554419517517),\n",
       " ('responds', 0.5188573598861694),\n",
       " ('republican', 0.5166862607002258),\n",
       " ('rollback', 0.5086996555328369),\n",
       " ('ronald', 0.5015010237693787)]"
      ]
     },
     "execution_count": 14,
     "metadata": {},
     "output_type": "execute_result"
    }
   ],
   "source": [
    "senReleasesW2V.most_similar('president')"
   ]
  },
  {
   "cell_type": "code",
   "execution_count": 15,
   "metadata": {},
   "outputs": [
    {
     "data": {
      "text/plain": [
       "[('disobedience', 0.662090539932251),\n",
       " ('wars', 0.6591944098472595),\n",
       " ('unresisted', 0.6572111248970032),\n",
       " ('quagmire', 0.6202847361564636),\n",
       " ('afghanistan', 0.608261227607727),\n",
       " ('chaos', 0.6066281795501709),\n",
       " ('foment', 0.5919053554534912),\n",
       " ('battle', 0.5890461206436157),\n",
       " ('invasion', 0.5767768025398254),\n",
       " ('descending', 0.5751965045928955)]"
      ]
     },
     "execution_count": 15,
     "metadata": {},
     "output_type": "execute_result"
    }
   ],
   "source": [
    "senReleasesW2V.most_similar('war')"
   ]
  },
  {
   "cell_type": "markdown",
   "metadata": {},
   "source": [
    "Or we can get this directly (calculated slightly differently):"
   ]
  },
  {
   "cell_type": "code",
   "execution_count": 16,
   "metadata": {
    "collapsed": true
   },
   "outputs": [],
   "source": [
    "def cos_difference(embedding,word1,word2):\n",
    "    return sklearn.metrics.pairwise.cosine_similarity(embedding[word1].reshape(1,-1),embedding[word2].reshape(1,-1))"
   ]
  },
  {
   "cell_type": "code",
   "execution_count": 17,
   "metadata": {},
   "outputs": [
    {
     "data": {
      "text/plain": [
       "array([[0.5020533]], dtype=float32)"
      ]
     },
     "execution_count": 17,
     "metadata": {},
     "output_type": "execute_result"
    }
   ],
   "source": [
    "cos_difference(senReleasesW2V, 'war', 'unwinnable')"
   ]
  },
  {
   "cell_type": "markdown",
   "metadata": {},
   "source": [
    "We can also find which word least matches the others within a word set (cosine similarity):"
   ]
  },
  {
   "cell_type": "code",
   "execution_count": 18,
   "metadata": {},
   "outputs": [
    {
     "data": {
      "text/plain": [
       "'washington'"
      ]
     },
     "execution_count": 18,
     "metadata": {},
     "output_type": "execute_result"
    }
   ],
   "source": [
    "senReleasesW2V.doesnt_match(['administration', 'administrations', 'presidents', 'president', 'washington'])"
   ]
  },
  {
   "cell_type": "markdown",
   "metadata": {},
   "source": [
    "Find which word best matches the result of a semantic *equation* (here, we seek the words whose vectors best fit the missing entry from the equation: **X + Y - Z = _**."
   ]
  },
  {
   "cell_type": "code",
   "execution_count": 19,
   "metadata": {},
   "outputs": [
    {
     "data": {
      "text/plain": [
       "[('vetoed', 0.7249252200126648),\n",
       " ('veto', 0.7078449726104736),\n",
       " ('bush', 0.695367693901062),\n",
       " ('vetoes', 0.6835834980010986),\n",
       " ('blocked', 0.6745592355728149),\n",
       " ('bushs', 0.6605194807052612),\n",
       " ('signature', 0.6400466561317444),\n",
       " ('signed', 0.6294471025466919),\n",
       " ('proposing', 0.6206415891647339),\n",
       " ('stubbornly', 0.6128469705581665)]"
      ]
     },
     "execution_count": 19,
     "metadata": {},
     "output_type": "execute_result"
    }
   ],
   "source": [
    "senReleasesW2V.most_similar(positive=['clinton', 'republican'], negative = ['democrat'])"
   ]
  },
  {
   "cell_type": "markdown",
   "metadata": {},
   "source": [
    "Here we see that **Clinton + Republican - Democrat = Bush**. In other words, in this dataset and period, **Clinton** was to **Democrat** as **Bush** was to **Republican**. Whoah!"
   ]
  },
  {
   "cell_type": "markdown",
   "metadata": {},
   "source": [
    " But how do we argue that these are stable distances or associations?"
   ]
  },
  {
   "cell_type": "markdown",
   "metadata": {},
   "source": [
    "## Establishing Credible or Confidence Intervals"
   ]
  },
  {
   "cell_type": "markdown",
   "metadata": {},
   "source": [
    "### Boostrapping approach"
   ]
  },
  {
   "cell_type": "markdown",
   "metadata": {},
   "source": [
    "We propose well-established bootstrapping and subsampling methods to nonparametrically demonstrate the stability and significance of word associations within our embedding model. These allow us to establish conservative confidence intervals to both (a) distances between words in a model and (b) projections of words onto an induced dimension (e.g., man-woman). If we assume that the texts (e.g., newspapers, books) underlying our word embedding model are observations drawn from an independent and identically distributed (i.i.d.) population of cultural observations, then bootstrapping allows us to estimate the variance of word distances and projections by measuring those properties through sampling the empirical distribution of texts with replacement (Efron and Tibshirani 1994; Efron 2003). Operationally, if we wanted to bootstrap a 90% confidence interval of a word-word distance or word-dimension projection, we would sample a corpus the same size as the original corpus, but with replacement, 20 times, estimate word embedding models on each sample. Then we take the 2nd order (2nd smallest) statistic $s_{(2)}$--either distance or projection--as our confidence interval’s lower bound, and 19th order statistic $s_{(19)}$ as its upper bound. The distance between $s_{(2)}$ and $s_{(19)}$ across 20 bootstrap samples span the 5th to the 95th percentiles of the statistic’s variance, bounding the 90th confidence interval. A 95% confidence interval would span $s_{(2)}$ and $s_{(39)}$ in word embedding distances or projections estimated on 40 bootstrap samples of a corpus, tracing the 2.5th to 97.5th percentiles. "
   ]
  },
  {
   "cell_type": "code",
   "execution_count": 20,
   "metadata": {},
   "outputs": [
    {
     "data": {
      "text/plain": [
       "[0.26923078,\n",
       " 0.27201846,\n",
       " 0.27516064,\n",
       " 0.29312572,\n",
       " 0.32820043,\n",
       " 0.3324794,\n",
       " 0.38014576,\n",
       " 0.38472992,\n",
       " 0.39148164,\n",
       " 0.39764482,\n",
       " 0.42692098,\n",
       " 0.48849383,\n",
       " 0.49943203,\n",
       " 0.548226,\n",
       " 0.584587,\n",
       " 0.6217337,\n",
       " 0.6293011,\n",
       " 0.6506319]"
      ]
     },
     "execution_count": 20,
     "metadata": {},
     "output_type": "execute_result"
    }
   ],
   "source": [
    "estimatesB=[]\n",
    "for x in range(20):\n",
    "    senReleasesW2VB = gensim.models.word2vec.Word2Vec(senReleasesDF['normalized_sents'].sample(frac=1.0, replace=True).sum())\n",
    "    try:\n",
    "        estimatesB.append(cos_difference(senReleasesW2VB, 'war', 'unwinnable')[0,0])\n",
    "    except KeyError:\n",
    "        #Missing one of the words from the vocab\n",
    "        pass\n",
    "                                                      \n",
    "estimatesB.sort()         \n",
    "estimatesB"
   ]
  },
  {
   "cell_type": "code",
   "execution_count": 21,
   "metadata": {},
   "outputs": [
    {
     "name": "stdout",
     "output_type": "stream",
     "text": [
      "The 90% confidence interval for the cosine distance between war and unwinnable is:\n",
      " 0.27201846 0.6293011\n"
     ]
    }
   ],
   "source": [
    "print(\"The 90% confidence interval for the cosine distance between war and unwinnable is:\\n\",estimatesB[1], estimatesB[-2])"
   ]
  },
  {
   "cell_type": "markdown",
   "metadata": {},
   "source": [
    "### Subsampling approach"
   ]
  },
  {
   "cell_type": "markdown",
   "metadata": {},
   "source": [
    "If the corpus is large, then we may take a subsampling approach, which randomly partitions the corpus into non-overlapping samples, then estimates the word-embedding models on these subsets and calculates confidence intervals as a function of the empirical distribution of distance or projection statistics and number of texts in the subsample (Politis and Romano 1997). Subsampling requires the same i.i.d. assumption as the bootrap (Politis and Romano 1992; Politis and Romano 1994). For 90% confidence intervals, we randomly partition the corpus into 20 subcorpora, then calculate $B^k=\\sqrt{\\tau_k}\\left(s^k-\\bar{s}\\right)$ for each $k$th sample, where $k$ is the number of texts and $s^k$ is the embedding distance or projection for the $k$th sample, and $\\bar{s}$ is the average statistic for all samples. The 90% confidence interval spans the 5th to 95th percentile variances, inscribed by $\\bar{s}-\\frac{B_{(19)}^k}{\\sqrt{\\tau}}$ and $\\bar{s}-\\frac{B_{(2)}^k}{\\sqrt{\\tau}}$, where $\\tau$ the number of texts in the total corpus and $s$ is the average statistic across all subsamples. As with bootrapping, a 95% confidence interval would require 40 subsamples; a 99% confidence would require 200 (.5th to 99.5th percentiles)."
   ]
  },
  {
   "cell_type": "code",
   "execution_count": 22,
   "metadata": {},
   "outputs": [
    {
     "ename": "NameError",
     "evalue": "name 'sample_indices' is not defined",
     "output_type": "error",
     "traceback": [
      "\u001b[0;31m---------------------------------------------------------------------------\u001b[0m",
      "\u001b[0;31mNameError\u001b[0m                                 Traceback (most recent call last)",
      "\u001b[0;32m<ipython-input-22-693370b629df>\u001b[0m in \u001b[0;36m<module>\u001b[0;34m()\u001b[0m\n\u001b[0;32m----> 1\u001b[0;31m \u001b[0msenReleasesDF\u001b[0m\u001b[0;34m[\u001b[0m\u001b[0msample_indices\u001b[0m \u001b[0;34m==\u001b[0m \u001b[0mi\u001b[0m\u001b[0;34m]\u001b[0m\u001b[0;34m\u001b[0m\u001b[0m\n\u001b[0m",
      "\u001b[0;31mNameError\u001b[0m: name 'sample_indices' is not defined"
     ]
    }
   ],
   "source": [
    "senReleasesDF[sample_indices == i]"
   ]
  },
  {
   "cell_type": "code",
   "execution_count": 23,
   "metadata": {},
   "outputs": [
    {
     "name": "stdout",
     "output_type": "stream",
     "text": [
      "[0.97788167 0.98944855 0.97938037 0.93935525 0.97465312 0.99043369\n",
      " 0.98633349 0.98516196 0.95248353 0.9292016 ]\n",
      "[379. 391. 380. 406. 379. 378. 396. 432. 387. 376.]\n"
     ]
    }
   ],
   "source": [
    "n_samples = 10\n",
    "sample_indices = np.random.randint(0,n_samples,(len(senReleasesDF),))\n",
    "\n",
    "s_k =np.array([])\n",
    "tau_k=np.array([])\n",
    "\n",
    "for i in range(n_samples):\n",
    "    sample_w2v = gensim.models.word2vec.Word2Vec(senReleasesDF[sample_indices == i]['normalized_sents'].sum())\n",
    "    try:\n",
    "        #Need to use words present in most samples\n",
    "        s_k = np.append(s_k, cos_difference(sample_w2v, 'war', 'responsibility')[0,0])\n",
    "    except KeyError:\n",
    "        pass\n",
    "    else:\n",
    "        tau_k = np.append(tau_k, len(senReleasesDF[sample_indices == i]))\n",
    "\n",
    "print(s_k)\n",
    "print(tau_k)\n",
    "\n",
    "tau = tau_k.sum()\n",
    "s = s_k.mean()\n",
    "B_k = np.sqrt(tau_k) * s_k-s_k.mean()"
   ]
  },
  {
   "cell_type": "code",
   "execution_count": 24,
   "metadata": {},
   "outputs": [
    {
     "name": "stdout",
     "output_type": "stream",
     "text": [
      "The 90% confidence interval for the cosine distance between war and responsibility is:\n",
      " 0.6860774446816265 0.6728332811871922\n"
     ]
    }
   ],
   "source": [
    "print(\"The 90% confidence interval for the cosine distance between war and responsibility is:\\n\",s-B_k[-2]/np.sqrt(tau), s-B_k[1]/np.sqrt(tau))"
   ]
  },
  {
   "cell_type": "markdown",
   "metadata": {},
   "source": [
    "We can also save the vectors for later use:"
   ]
  },
  {
   "cell_type": "code",
   "execution_count": 25,
   "metadata": {
    "collapsed": true
   },
   "outputs": [],
   "source": [
    "senReleasesW2V.save(\"senpressreleasesWORD2Vec.mm\")\n",
    "#Load with senReleasesW2V = gensim.models.word2vec.Word2Vec.load('senpressreleasesWORD2Vec.mm')"
   ]
  },
  {
   "cell_type": "markdown",
   "metadata": {},
   "source": [
    "## Visualize"
   ]
  },
  {
   "cell_type": "markdown",
   "metadata": {},
   "source": [
    "We can also use dimension reduction to visulize the vectors. We will start by selecting a subset we want to plot. Let's look at the top words from the set:"
   ]
  },
  {
   "cell_type": "code",
   "execution_count": 26,
   "metadata": {
    "collapsed": true
   },
   "outputs": [],
   "source": [
    "numWords = 150\n",
    "targetWords = senReleasesW2V.wv.index2word[:numWords]"
   ]
  },
  {
   "cell_type": "markdown",
   "metadata": {},
   "source": [
    "We can then extract their vectors and create our own smaller matrix that preserved the distances from the original:"
   ]
  },
  {
   "cell_type": "code",
   "execution_count": 27,
   "metadata": {},
   "outputs": [
    {
     "data": {
      "text/plain": [
       "array([[-1.3152279 , -0.5725087 ,  0.3384592 , ..., -0.5113823 ,\n",
       "        -1.2253925 , -0.45765156],\n",
       "       [-0.25754902,  0.99485123, -3.7005763 , ..., -1.1399765 ,\n",
       "        -1.7851036 , -1.8279567 ],\n",
       "       [ 0.00494273, -0.6956174 , -0.7788534 , ...,  0.47438586,\n",
       "        -1.3703517 , -1.0484085 ],\n",
       "       ...,\n",
       "       [ 3.012069  ,  1.3523021 , -0.8992141 , ..., -1.4588729 ,\n",
       "         0.24005099, -0.38700715],\n",
       "       [-0.96595675, -0.6342935 , -0.16368112, ..., -0.0493205 ,\n",
       "         0.59089893,  0.28642973],\n",
       "       [ 0.7314977 , -0.11099504, -0.57101434, ...,  0.27714837,\n",
       "        -0.22707753, -0.7602694 ]], dtype=float32)"
      ]
     },
     "execution_count": 27,
     "metadata": {},
     "output_type": "execute_result"
    }
   ],
   "source": [
    "wordsSubMatrix = []\n",
    "for word in targetWords:\n",
    "    wordsSubMatrix.append(senReleasesW2V[word])\n",
    "wordsSubMatrix = np.array(wordsSubMatrix)\n",
    "wordsSubMatrix"
   ]
  },
  {
   "cell_type": "markdown",
   "metadata": {},
   "source": [
    "Then we can use PCA to reduce the dimesions (e.g., to 50), and [T-SNE](https://en.wikipedia.org/wiki/T-distributed_stochastic_neighbor_embedding) to project them down to the two we will visualize. We note that this is nondeterministic process, and so you can repeat and achieve alternative projectsions/visualizations of the words:"
   ]
  },
  {
   "cell_type": "code",
   "execution_count": 28,
   "metadata": {
    "collapsed": true
   },
   "outputs": [],
   "source": [
    "pcaWords = sklearn.decomposition.PCA(n_components = 50).fit(wordsSubMatrix)\n",
    "reducedPCA_data = pcaWords.transform(wordsSubMatrix)\n",
    "#T-SNE is theoretically better, but you should experiment\n",
    "tsneWords = sklearn.manifold.TSNE(n_components = 2, early_exaggeration = 25).fit_transform(reducedPCA_data)"
   ]
  },
  {
   "cell_type": "markdown",
   "metadata": {},
   "source": [
    "We now can plot the points"
   ]
  },
  {
   "cell_type": "code",
   "execution_count": 29,
   "metadata": {},
   "outputs": [
    {
     "data": {
      "image/png": "[encoded data removed]",
      "text/plain": [
       "<matplotlib.figure.Figure at 0x12319f080>"
      ]
     },
     "metadata": {},
     "output_type": "display_data"
    }
   ],
   "source": [
    "fig = plt.figure(figsize = (15,10))\n",
    "ax = fig.add_subplot(111)\n",
    "ax.set_frame_on(False)\n",
    "plt.scatter(tsneWords[:, 0], tsneWords[:, 1], alpha = 0)#Making the points invisible \n",
    "for i, word in enumerate(targetWords):\n",
    "    ax.annotate(word, \n",
    "                (tsneWords[:, 0][i],tsneWords[:, 1][i]), \n",
    "                size =  20 * (numWords - i) / numWords, \n",
    "                alpha = .8 * (numWords - i) / numWords + .2)\n",
    "plt.xticks(())\n",
    "plt.yticks(())\n",
    "plt.show()"
   ]
  },
  {
   "cell_type": "markdown",
   "metadata": {},
   "source": [
    "My visualization above puts ``iraq`` next to ``time`` and ``bill`` near ``help``. <img src='../data/examplewordcloud.svg'>"
   ]
  },
  {
   "cell_type": "markdown",
   "metadata": {},
   "source": [
    "What if a new senator come along with whose names starts with K? Could we analyse their releases too without rerunning the entire embedding? Lets try with Cardin in `../data/grimmerPressReleases_extra/Cardin`. First we need to load and proccess the releases:"
   ]
  },
  {
   "cell_type": "code",
   "execution_count": 30,
   "metadata": {},
   "outputs": [
    {
     "data": {
      "text/html": [
       "<div>\n",
       "<style scoped>\n",
       "    .dataframe tbody tr th:only-of-type {\n",
       "        vertical-align: middle;\n",
       "    }\n",
       "\n",
       "    .dataframe tbody tr th {\n",
       "        vertical-align: top;\n",
       "    }\n",
       "\n",
       "    .dataframe thead th {\n",
       "        text-align: right;\n",
       "    }\n",
       "</style>\n",
       "<table border=\"1\" class=\"dataframe\">\n",
       "  <thead>\n",
       "    <tr style=\"text-align: right;\">\n",
       "      <th></th>\n",
       "      <th>text</th>\n",
       "      <th>category</th>\n",
       "      <th>tokenized_sents</th>\n",
       "      <th>normalized_sents</th>\n",
       "    </tr>\n",
       "  </thead>\n",
       "  <tbody>\n",
       "    <tr>\n",
       "      <th>01Aug2007Cardin156.txt</th>\n",
       "      <td>...</td>\n",
       "      <td>Cardin</td>\n",
       "      <td>[[CARDIN, MIKULSKI, PRAISES, PASSAGE, OF, STRO...</td>\n",
       "      <td>[[cardin, mikulski, praises, passage, strong, ...</td>\n",
       "    </tr>\n",
       "    <tr>\n",
       "      <th>01Feb2007Cardin297.txt</th>\n",
       "      <td>...</td>\n",
       "      <td>Cardin</td>\n",
       "      <td>[[CARDIN, VOTES, TO, INCREASE, MINIMUM, WAGE, ...</td>\n",
       "      <td>[[cardin, votes, increase, minimum, wage, pay,...</td>\n",
       "    </tr>\n",
       "    <tr>\n",
       "      <th>01Feb2007Cardin298.txt</th>\n",
       "      <td>...</td>\n",
       "      <td>Cardin</td>\n",
       "      <td>[[S, 453, SEN, CARDIN, CO, SPONSORS, BILL, TO,...</td>\n",
       "      <td>[[sen, cardin, co, sponsors, bill, protect, vo...</td>\n",
       "    </tr>\n",
       "    <tr>\n",
       "      <th>01Feb2007Cardin299.txt</th>\n",
       "      <td>...</td>\n",
       "      <td>Cardin</td>\n",
       "      <td>[[S, 450, CARDIN, INTRODUCES, BILL, TO, ELIMIN...</td>\n",
       "      <td>[[cardin, introduces, bill, eliminate, arbitra...</td>\n",
       "    </tr>\n",
       "    <tr>\n",
       "      <th>01Jun2007Cardin199.txt</th>\n",
       "      <td>...</td>\n",
       "      <td>Cardin</td>\n",
       "      <td>[[CARDIN, MIKULSKI, ANNOUNCE, 7, 3, MILLION, F...</td>\n",
       "      <td>[[cardin, mikulski, announce, million, hagerst...</td>\n",
       "    </tr>\n",
       "    <tr>\n",
       "      <th>01Jun2007Cardin200.txt</th>\n",
       "      <td>...</td>\n",
       "      <td>Cardin</td>\n",
       "      <td>[[CARDIN, MIKULSKI, ANNOUNCE, 4, 6, MILLION, F...</td>\n",
       "      <td>[[cardin, mikulski, announce, million, salisbu...</td>\n",
       "    </tr>\n",
       "    <tr>\n",
       "      <th>01Mar2007Cardin279.txt</th>\n",
       "      <td>...</td>\n",
       "      <td>Cardin</td>\n",
       "      <td>[[SEN, CARDIN, FIGHTS, TO, IMPROVE, SECURITY, ...</td>\n",
       "      <td>[[sen, cardin, fights, improve, security, amer...</td>\n",
       "    </tr>\n",
       "    <tr>\n",
       "      <th>01Mar2007Cardin280.txt</th>\n",
       "      <td>...</td>\n",
       "      <td>Cardin</td>\n",
       "      <td>[[CARDIN, MIKULSKI, ANNOUNCE, 35, 000, FOR, WE...</td>\n",
       "      <td>[[cardin, mikulski, announce, western, marylan...</td>\n",
       "    </tr>\n",
       "    <tr>\n",
       "      <th>01May2007Cardin228.txt</th>\n",
       "      <td>...</td>\n",
       "      <td>Cardin</td>\n",
       "      <td>[[STATEMENT, BY, U, S, SENATOR, BENJAMIN, L, C...</td>\n",
       "      <td>[[statement, u, senator, benjamin, l, cardin, ...</td>\n",
       "    </tr>\n",
       "    <tr>\n",
       "      <th>01May2007Cardin229.txt</th>\n",
       "      <td>...</td>\n",
       "      <td>Cardin</td>\n",
       "      <td>[[CARDIN, TELLS, THE, AG, COMMITTEE, THAT, THE...</td>\n",
       "      <td>[[cardin, tells, ag, committee, farm, bill, co...</td>\n",
       "    </tr>\n",
       "  </tbody>\n",
       "</table>\n",
       "</div>"
      ],
      "text/plain": [
       "                                                                     text  \\\n",
       "01Aug2007Cardin156.txt                                                ...   \n",
       "01Feb2007Cardin297.txt                                                ...   \n",
       "01Feb2007Cardin298.txt                                                ...   \n",
       "01Feb2007Cardin299.txt                                                ...   \n",
       "01Jun2007Cardin199.txt                                                ...   \n",
       "01Jun2007Cardin200.txt                                                ...   \n",
       "01Mar2007Cardin279.txt                                                ...   \n",
       "01Mar2007Cardin280.txt                                                ...   \n",
       "01May2007Cardin228.txt                                                ...   \n",
       "01May2007Cardin229.txt                                                ...   \n",
       "\n",
       "                       category  \\\n",
       "01Aug2007Cardin156.txt   Cardin   \n",
       "01Feb2007Cardin297.txt   Cardin   \n",
       "01Feb2007Cardin298.txt   Cardin   \n",
       "01Feb2007Cardin299.txt   Cardin   \n",
       "01Jun2007Cardin199.txt   Cardin   \n",
       "01Jun2007Cardin200.txt   Cardin   \n",
       "01Mar2007Cardin279.txt   Cardin   \n",
       "01Mar2007Cardin280.txt   Cardin   \n",
       "01May2007Cardin228.txt   Cardin   \n",
       "01May2007Cardin229.txt   Cardin   \n",
       "\n",
       "                                                          tokenized_sents  \\\n",
       "01Aug2007Cardin156.txt  [[CARDIN, MIKULSKI, PRAISES, PASSAGE, OF, STRO...   \n",
       "01Feb2007Cardin297.txt  [[CARDIN, VOTES, TO, INCREASE, MINIMUM, WAGE, ...   \n",
       "01Feb2007Cardin298.txt  [[S, 453, SEN, CARDIN, CO, SPONSORS, BILL, TO,...   \n",
       "01Feb2007Cardin299.txt  [[S, 450, CARDIN, INTRODUCES, BILL, TO, ELIMIN...   \n",
       "01Jun2007Cardin199.txt  [[CARDIN, MIKULSKI, ANNOUNCE, 7, 3, MILLION, F...   \n",
       "01Jun2007Cardin200.txt  [[CARDIN, MIKULSKI, ANNOUNCE, 4, 6, MILLION, F...   \n",
       "01Mar2007Cardin279.txt  [[SEN, CARDIN, FIGHTS, TO, IMPROVE, SECURITY, ...   \n",
       "01Mar2007Cardin280.txt  [[CARDIN, MIKULSKI, ANNOUNCE, 35, 000, FOR, WE...   \n",
       "01May2007Cardin228.txt  [[STATEMENT, BY, U, S, SENATOR, BENJAMIN, L, C...   \n",
       "01May2007Cardin229.txt  [[CARDIN, TELLS, THE, AG, COMMITTEE, THAT, THE...   \n",
       "\n",
       "                                                         normalized_sents  \n",
       "01Aug2007Cardin156.txt  [[cardin, mikulski, praises, passage, strong, ...  \n",
       "01Feb2007Cardin297.txt  [[cardin, votes, increase, minimum, wage, pay,...  \n",
       "01Feb2007Cardin298.txt  [[sen, cardin, co, sponsors, bill, protect, vo...  \n",
       "01Feb2007Cardin299.txt  [[cardin, introduces, bill, eliminate, arbitra...  \n",
       "01Jun2007Cardin199.txt  [[cardin, mikulski, announce, million, hagerst...  \n",
       "01Jun2007Cardin200.txt  [[cardin, mikulski, announce, million, salisbu...  \n",
       "01Mar2007Cardin279.txt  [[sen, cardin, fights, improve, security, amer...  \n",
       "01Mar2007Cardin280.txt  [[cardin, mikulski, announce, western, marylan...  \n",
       "01May2007Cardin228.txt  [[statement, u, senator, benjamin, l, cardin, ...  \n",
       "01May2007Cardin229.txt  [[cardin, tells, ag, committee, farm, bill, co...  "
      ]
     },
     "execution_count": 30,
     "metadata": {},
     "output_type": "execute_result"
    }
   ],
   "source": [
    "cardinDF = lucem_illud.loadTextDirectory('../data/grimmerPressReleases_extra/Cardin')\n",
    "cardinDF['category'] = 'Cardin'\n",
    "\n",
    "cardinDF['tokenized_sents'] = cardinDF['text'].apply(lambda x: \n",
    "                                                               [nltk.word_tokenize(s) for s in nltk.sent_tokenize(x)])\n",
    "cardinDF['normalized_sents'] = cardinDF['tokenized_sents'].apply(lambda x: \n",
    "                                                                           [lucem_illud.normalizeTokens(s, \n",
    "                                                                                           stopwordLst = lucem_illud.stop_words_basic, \n",
    "                                                                                           stemmer = None) \n",
    "                                                                            for s in x])\n",
    "\n",
    "cardinDF[:10]"
   ]
  },
  {
   "cell_type": "markdown",
   "metadata": {},
   "source": [
    "We can now merge Cardin's releases with the rest. This can update all the weights in *w2v* model, so be careful."
   ]
  },
  {
   "cell_type": "code",
   "execution_count": 31,
   "metadata": {
    "collapsed": true
   },
   "outputs": [],
   "source": [
    "#This is using a newer API so we have to tell it a little bit more for it to work right\n",
    "senReleasesW2V.build_vocab(cardinDF['normalized_sents'].sum(), update=True)\n",
    "senReleasesW2V.train(cardinDF['normalized_sents'].sum(), \n",
    "                     total_examples=senReleasesW2V.corpus_count, \n",
    "                     epochs=senReleasesW2V.iter)\n",
    "senReleasesW2V.save(\"senpressreleasesWORD2Vec_new.mm\")"
   ]
  },
  {
   "cell_type": "markdown",
   "metadata": {},
   "source": [
    "As the model is updated by this, we need to load our old copy to do a comparison."
   ]
  },
  {
   "cell_type": "code",
   "execution_count": 32,
   "metadata": {
    "collapsed": true
   },
   "outputs": [],
   "source": [
    "senReleasesW2V_old = gensim.models.word2vec.Word2Vec.load('senpressreleasesWORD2Vec.mm')"
   ]
  },
  {
   "cell_type": "code",
   "execution_count": 33,
   "metadata": {},
   "outputs": [
    {
     "name": "stdout",
     "output_type": "stream",
     "text": [
      "A 100 dimesional vector:\n"
     ]
    },
    {
     "data": {
      "text/plain": [
       "array([-0.67804956, -1.1532807 ,  0.08255121, -1.7045455 ,  1.5699703 ,\n",
       "       -2.2034323 , -1.9495293 , -1.0140948 , -1.4356306 ,  0.1251191 ],\n",
       "      dtype=float32)"
      ]
     },
     "execution_count": 33,
     "metadata": {},
     "output_type": "execute_result"
    }
   ],
   "source": [
    "print(\"A {} dimesional vector:\".format(senReleasesW2V['president'].shape[0]))\n",
    "senReleasesW2V['president'][:10]"
   ]
  },
  {
   "cell_type": "code",
   "execution_count": 34,
   "metadata": {},
   "outputs": [
    {
     "name": "stdout",
     "output_type": "stream",
     "text": [
      "A 100 dimesional vector:\n"
     ]
    },
    {
     "data": {
      "text/plain": [
       "array([-0.81149024, -1.2290177 ,  0.3571562 , -1.6087767 ,  1.549572  ,\n",
       "       -1.8439343 , -1.839542  , -0.89825237, -1.2386342 ,  0.37271133],\n",
       "      dtype=float32)"
      ]
     },
     "execution_count": 34,
     "metadata": {},
     "output_type": "execute_result"
    }
   ],
   "source": [
    "print(\"A {} dimesional vector:\".format(senReleasesW2V_old['president'].shape[0]))\n",
    "senReleasesW2V_old['president'][:10]"
   ]
  },
  {
   "cell_type": "code",
   "execution_count": 35,
   "metadata": {},
   "outputs": [
    {
     "data": {
      "text/plain": [
       "array([-0.13344067, -0.075737  ,  0.27460498,  0.09576881, -0.02039826,\n",
       "        0.35949802,  0.10998726,  0.11584246,  0.19699633,  0.24759223],\n",
       "      dtype=float32)"
      ]
     },
     "execution_count": 35,
     "metadata": {},
     "output_type": "execute_result"
    }
   ],
   "source": [
    "(senReleasesW2V_old['president'] - senReleasesW2V['president'])[:10]"
   ]
  },
  {
   "cell_type": "markdown",
   "metadata": {},
   "source": [
    "As you can see the vector for 'president' has changed a little bit and the word cloud should also be a bit different too"
   ]
  },
  {
   "cell_type": "code",
   "execution_count": 36,
   "metadata": {
    "collapsed": true
   },
   "outputs": [],
   "source": [
    "pcaWords = sklearn.decomposition.PCA(n_components = 50).fit(wordsSubMatrix)\n",
    "reducedPCA_data = pcaWords.transform(wordsSubMatrix)\n",
    "#T-SNE is theoretically better, but you should experiment\n",
    "tsneWords = sklearn.manifold.TSNE(n_components = 2, early_exaggeration = 25).fit_transform(reducedPCA_data)"
   ]
  },
  {
   "cell_type": "code",
   "execution_count": 37,
   "metadata": {},
   "outputs": [
    {
     "data": {
      "image/png": "[encoded data removed]",
      "text/plain": [
       "<matplotlib.figure.Figure at 0x125d80da0>"
      ]
     },
     "metadata": {},
     "output_type": "display_data"
    }
   ],
   "source": [
    "fig = plt.figure(figsize = (15,10))\n",
    "ax = fig.add_subplot(111)\n",
    "ax.set_frame_on(False)\n",
    "plt.scatter(tsneWords[:, 0], tsneWords[:, 1], alpha = 0)#Making the points invisible \n",
    "for i, word in enumerate(targetWords):\n",
    "    ax.annotate(word, \n",
    "                (tsneWords[:, 0][i],tsneWords[:, 1][i]), \n",
    "                size =  20 * (numWords - i) / numWords, \n",
    "                alpha = .8 * (numWords - i) / numWords + .2)\n",
    "plt.xticks(())\n",
    "plt.yticks(())\n",
    "plt.show()"
   ]
  },
  {
   "cell_type": "markdown",
   "metadata": {},
   "source": [
    "Another thing to consider in training is how we know that our parameters for the model are correct. We can do this by looking at the training loss of the model. Let's tart by training a new model, but this time we will expose most of the options and train it one epoch at a time. Look [here](https://radimrehurek.com/gensim/models/word2vec.html#gensim.models.word2vec.Word2Vec) for more detail: "
   ]
  },
  {
   "cell_type": "code",
   "execution_count": 38,
   "metadata": {},
   "outputs": [
    {
     "data": {
      "text/plain": [
       "2021601.625"
      ]
     },
     "execution_count": 38,
     "metadata": {},
     "output_type": "execute_result"
    }
   ],
   "source": [
    "senReleasesW2V_loss = gensim.models.word2vec.Word2Vec(size = 100, #dimensions\n",
    "                                                      alpha=0.025,\n",
    "                                                      window=5,\n",
    "                                                      min_count=5,\n",
    "                                                      hs=0,  #hierarchical softmax toggle\n",
    "                                                      compute_loss = True,\n",
    "                                                     )\n",
    "senReleasesW2V_loss.build_vocab(senReleasesDF['normalized_sents'].sum())\n",
    "senReleasesW2V_loss.train(senReleasesDF['normalized_sents'].sum(), \n",
    "                     total_examples=senReleasesW2V.corpus_count, \n",
    "                     epochs=1, #This the running_training_loss is a total so we have to do 1 epoch at a time\n",
    "                    )\n",
    "#Using a list so we can capture every epoch\n",
    "losses = [senReleasesW2V_loss.running_training_loss]\n",
    "losses[0]"
   ]
  },
  {
   "cell_type": "markdown",
   "metadata": {},
   "source": [
    "Now we have the training loss and can optimize training to minimize it."
   ]
  },
  {
   "cell_type": "code",
   "execution_count": 39,
   "metadata": {},
   "outputs": [
    {
     "name": "stdout",
     "output_type": "stream",
     "text": [
      "Done epoch 20\r"
     ]
    }
   ],
   "source": [
    "for i in range(19):\n",
    "    senReleasesW2V_loss.train(senReleasesDF['normalized_sents'].sum(), \n",
    "                     total_examples=senReleasesW2V.corpus_count, \n",
    "                     epochs=1,\n",
    "                             )\n",
    "    losses.append(senReleasesW2V_loss.running_training_loss)\n",
    "    print(\"Done epoch {}\".format(i + 2), end = '\\r')"
   ]
  },
  {
   "cell_type": "markdown",
   "metadata": {},
   "source": [
    "Lets plot the loss vs epoch"
   ]
  },
  {
   "cell_type": "code",
   "execution_count": 40,
   "metadata": {},
   "outputs": [
    {
     "data": {
      "image/png": "[encoded data removed]",
      "text/plain": [
       "<matplotlib.figure.Figure at 0x125dbdb70>"
      ]
     },
     "metadata": {},
     "output_type": "display_data"
    }
   ],
   "source": [
    "lossesDF = pandas.DataFrame({'loss' : losses, 'epoch' : range(len(losses))})\n",
    "lossesDF.plot(y = 'loss', x = 'epoch', logy=False, figsize=(15, 7))\n",
    "plt.show()"
   ]
  },
  {
   "cell_type": "markdown",
   "metadata": {},
   "source": [
    "You should see that the loss is almost monotonic, but that the rate decreases as epoch increases. Since we are testing on our training data monotonicity is a common result and we must try to avoid over fitting. A simple way to do this is to stop training when there is significant change in the rate of decrease. In this run, that looks to be approximately 8 or 9. If we were to do another analysis, we might use an `iter=9` instead of the default 5."
   ]
  },
  {
   "cell_type": "markdown",
   "metadata": {},
   "source": [
    "Even more culturally interesting is how many dimensions are required to achieve an optimal embedding. The use of words in complex ways and contradictory contexts will require more dimensions to represent them with integrity. For example, if one word, $w_a$, is \"nearby\" $w_b$, but $w_b$ is not near the other words beside $w_a$, then a new dimension will be required for the two words to be uniquely together. "
   ]
  },
  {
   "cell_type": "code",
   "execution_count": 42,
   "metadata": {},
   "outputs": [
    {
     "ename": "KeyboardInterrupt",
     "evalue": "",
     "output_type": "error",
     "traceback": [
      "\u001b[0;31m---------------------------------------------------------------------------\u001b[0m",
      "\u001b[0;31mKeyboardInterrupt\u001b[0m                         Traceback (most recent call last)",
      "\u001b[0;32m<ipython-input-42-c4e04b0f0f56>\u001b[0m in \u001b[0;36m<module>\u001b[0;34m()\u001b[0m\n\u001b[1;32m     12\u001b[0m     senReleasesW2V_loss_dims.train(senReleasesDF['normalized_sents'].sum(), \n\u001b[1;32m     13\u001b[0m                      \u001b[0mtotal_examples\u001b[0m\u001b[0;34m=\u001b[0m\u001b[0msenReleasesW2V\u001b[0m\u001b[0;34m.\u001b[0m\u001b[0mcorpus_count\u001b[0m\u001b[0;34m,\u001b[0m\u001b[0;34m\u001b[0m\u001b[0m\n\u001b[0;32m---> 14\u001b[0;31m                      \u001b[0mepochs\u001b[0m\u001b[0;34m=\u001b[0m\u001b[0;36m7\u001b[0m\u001b[0;34m,\u001b[0m \u001b[0;31m#This the running_training_loss is a total so we have to do 1 epoch at a time\u001b[0m\u001b[0;34m\u001b[0m\u001b[0m\n\u001b[0m\u001b[1;32m     15\u001b[0m                     )\n\u001b[1;32m     16\u001b[0m     senReleasesW2V_loss_dims.train(senReleasesDF['normalized_sents'].sum(), \n",
      "\u001b[0;32m~/anaconda3/lib/python3.6/site-packages/gensim/models/word2vec.py\u001b[0m in \u001b[0;36mtrain\u001b[0;34m(self, sentences, total_examples, total_words, epochs, start_alpha, end_alpha, word_count, queue_factor, report_delay, compute_loss)\u001b[0m\n\u001b[1;32m   1074\u001b[0m \u001b[0;34m\u001b[0m\u001b[0m\n\u001b[1;32m   1075\u001b[0m         \u001b[0;32mwhile\u001b[0m \u001b[0munfinished_worker_count\u001b[0m \u001b[0;34m>\u001b[0m \u001b[0;36m0\u001b[0m\u001b[0;34m:\u001b[0m\u001b[0;34m\u001b[0m\u001b[0m\n\u001b[0;32m-> 1076\u001b[0;31m             \u001b[0mreport\u001b[0m \u001b[0;34m=\u001b[0m \u001b[0mprogress_queue\u001b[0m\u001b[0;34m.\u001b[0m\u001b[0mget\u001b[0m\u001b[0;34m(\u001b[0m\u001b[0;34m)\u001b[0m  \u001b[0;31m# blocks if workers too slow\u001b[0m\u001b[0;34m\u001b[0m\u001b[0m\n\u001b[0m\u001b[1;32m   1077\u001b[0m             \u001b[0;32mif\u001b[0m \u001b[0mreport\u001b[0m \u001b[0;32mis\u001b[0m \u001b[0;32mNone\u001b[0m\u001b[0;34m:\u001b[0m  \u001b[0;31m# a thread reporting that it finished\u001b[0m\u001b[0;34m\u001b[0m\u001b[0m\n\u001b[1;32m   1078\u001b[0m                 \u001b[0munfinished_worker_count\u001b[0m \u001b[0;34m-=\u001b[0m \u001b[0;36m1\u001b[0m\u001b[0;34m\u001b[0m\u001b[0m\n",
      "\u001b[0;32m~/anaconda3/lib/python3.6/queue.py\u001b[0m in \u001b[0;36mget\u001b[0;34m(self, block, timeout)\u001b[0m\n\u001b[1;32m    162\u001b[0m             \u001b[0;32melif\u001b[0m \u001b[0mtimeout\u001b[0m \u001b[0;32mis\u001b[0m \u001b[0;32mNone\u001b[0m\u001b[0;34m:\u001b[0m\u001b[0;34m\u001b[0m\u001b[0m\n\u001b[1;32m    163\u001b[0m                 \u001b[0;32mwhile\u001b[0m \u001b[0;32mnot\u001b[0m \u001b[0mself\u001b[0m\u001b[0;34m.\u001b[0m\u001b[0m_qsize\u001b[0m\u001b[0;34m(\u001b[0m\u001b[0;34m)\u001b[0m\u001b[0;34m:\u001b[0m\u001b[0;34m\u001b[0m\u001b[0m\n\u001b[0;32m--> 164\u001b[0;31m                     \u001b[0mself\u001b[0m\u001b[0;34m.\u001b[0m\u001b[0mnot_empty\u001b[0m\u001b[0;34m.\u001b[0m\u001b[0mwait\u001b[0m\u001b[0;34m(\u001b[0m\u001b[0;34m)\u001b[0m\u001b[0;34m\u001b[0m\u001b[0m\n\u001b[0m\u001b[1;32m    165\u001b[0m             \u001b[0;32melif\u001b[0m \u001b[0mtimeout\u001b[0m \u001b[0;34m<\u001b[0m \u001b[0;36m0\u001b[0m\u001b[0;34m:\u001b[0m\u001b[0;34m\u001b[0m\u001b[0m\n\u001b[1;32m    166\u001b[0m                 \u001b[0;32mraise\u001b[0m \u001b[0mValueError\u001b[0m\u001b[0;34m(\u001b[0m\u001b[0;34m\"'timeout' must be a non-negative number\"\u001b[0m\u001b[0;34m)\u001b[0m\u001b[0;34m\u001b[0m\u001b[0m\n",
      "\u001b[0;32m~/anaconda3/lib/python3.6/threading.py\u001b[0m in \u001b[0;36mwait\u001b[0;34m(self, timeout)\u001b[0m\n\u001b[1;32m    293\u001b[0m         \u001b[0;32mtry\u001b[0m\u001b[0;34m:\u001b[0m    \u001b[0;31m# restore state no matter what (e.g., KeyboardInterrupt)\u001b[0m\u001b[0;34m\u001b[0m\u001b[0m\n\u001b[1;32m    294\u001b[0m             \u001b[0;32mif\u001b[0m \u001b[0mtimeout\u001b[0m \u001b[0;32mis\u001b[0m \u001b[0;32mNone\u001b[0m\u001b[0;34m:\u001b[0m\u001b[0;34m\u001b[0m\u001b[0m\n\u001b[0;32m--> 295\u001b[0;31m                 \u001b[0mwaiter\u001b[0m\u001b[0;34m.\u001b[0m\u001b[0macquire\u001b[0m\u001b[0;34m(\u001b[0m\u001b[0;34m)\u001b[0m\u001b[0;34m\u001b[0m\u001b[0m\n\u001b[0m\u001b[1;32m    296\u001b[0m                 \u001b[0mgotit\u001b[0m \u001b[0;34m=\u001b[0m \u001b[0;32mTrue\u001b[0m\u001b[0;34m\u001b[0m\u001b[0m\n\u001b[1;32m    297\u001b[0m             \u001b[0;32melse\u001b[0m\u001b[0;34m:\u001b[0m\u001b[0;34m\u001b[0m\u001b[0m\n",
      "\u001b[0;31mKeyboardInterrupt\u001b[0m: "
     ]
    }
   ],
   "source": [
    "losses_dims=[]\n",
    "\n",
    "for d in [50,100,150,200,250,300,350,400,450,500, 550, 600, 650, 700, 750]:\n",
    "    senReleasesW2V_loss_dims = gensim.models.word2vec.Word2Vec(size = d, #dimensions\n",
    "                                                      alpha=0.025,\n",
    "                                                      window=5,\n",
    "                                                      min_count=5,\n",
    "                                                      hs=0,  #hierarchical softmax toggle\n",
    "                                                      compute_loss = True,\n",
    "                                                     )\n",
    "    senReleasesW2V_loss_dims.build_vocab(senReleasesDF['normalized_sents'].sum())\n",
    "    senReleasesW2V_loss_dims.train(senReleasesDF['normalized_sents'].sum(), \n",
    "                     total_examples=senReleasesW2V.corpus_count, \n",
    "                     epochs=7, #This the running_training_loss is a total so we have to do 1 epoch at a time\n",
    "                    )\n",
    "    senReleasesW2V_loss_dims.train(senReleasesDF['normalized_sents'].sum(), \n",
    "                     total_examples=senReleasesW2V.corpus_count, \n",
    "                     epochs=1, #This the running_training_loss is a total so we have to do 1 epoch at a time\n",
    "                    )\n",
    "    \n",
    "    losses_dims.append(senReleasesW2V_loss_dims.running_training_loss/(10+d*10))"
   ]
  },
  {
   "cell_type": "code",
   "execution_count": 43,
   "metadata": {},
   "outputs": [
    {
     "ename": "ValueError",
     "evalue": "arrays must all be same length",
     "output_type": "error",
     "traceback": [
      "\u001b[0;31m---------------------------------------------------------------------------\u001b[0m",
      "\u001b[0;31mValueError\u001b[0m                                Traceback (most recent call last)",
      "\u001b[0;32m<ipython-input-43-c0c951c95f81>\u001b[0m in \u001b[0;36m<module>\u001b[0;34m()\u001b[0m\n\u001b[0;32m----> 1\u001b[0;31m \u001b[0mlosses_dimsDF\u001b[0m \u001b[0;34m=\u001b[0m \u001b[0mpandas\u001b[0m\u001b[0;34m.\u001b[0m\u001b[0mDataFrame\u001b[0m\u001b[0;34m(\u001b[0m\u001b[0;34m{\u001b[0m\u001b[0;34m'loss'\u001b[0m \u001b[0;34m:\u001b[0m \u001b[0mlosses_dims\u001b[0m\u001b[0;34m,\u001b[0m \u001b[0;34m'dimensions'\u001b[0m \u001b[0;34m:\u001b[0m \u001b[0;34m[\u001b[0m\u001b[0;36m50\u001b[0m\u001b[0;34m,\u001b[0m\u001b[0;36m100\u001b[0m\u001b[0;34m,\u001b[0m\u001b[0;36m150\u001b[0m\u001b[0;34m,\u001b[0m\u001b[0;36m200\u001b[0m\u001b[0;34m,\u001b[0m\u001b[0;36m250\u001b[0m\u001b[0;34m,\u001b[0m\u001b[0;36m300\u001b[0m\u001b[0;34m,\u001b[0m\u001b[0;36m350\u001b[0m\u001b[0;34m,\u001b[0m\u001b[0;36m400\u001b[0m\u001b[0;34m,\u001b[0m\u001b[0;36m450\u001b[0m\u001b[0;34m,\u001b[0m\u001b[0;36m500\u001b[0m\u001b[0;34m,\u001b[0m\u001b[0;36m550\u001b[0m\u001b[0;34m,\u001b[0m\u001b[0;36m600\u001b[0m\u001b[0;34m,\u001b[0m\u001b[0;36m650\u001b[0m\u001b[0;34m,\u001b[0m\u001b[0;36m700\u001b[0m\u001b[0;34m,\u001b[0m\u001b[0;36m750\u001b[0m\u001b[0;34m]\u001b[0m\u001b[0;34m}\u001b[0m\u001b[0;34m)\u001b[0m\u001b[0;34m\u001b[0m\u001b[0m\n\u001b[0m\u001b[1;32m      2\u001b[0m \u001b[0mlosses_dimsDF\u001b[0m\u001b[0;34m.\u001b[0m\u001b[0mplot\u001b[0m\u001b[0;34m(\u001b[0m\u001b[0my\u001b[0m \u001b[0;34m=\u001b[0m \u001b[0;34m'loss'\u001b[0m\u001b[0;34m,\u001b[0m \u001b[0mx\u001b[0m \u001b[0;34m=\u001b[0m \u001b[0;34m'dimensions'\u001b[0m\u001b[0;34m,\u001b[0m \u001b[0mlogy\u001b[0m\u001b[0;34m=\u001b[0m\u001b[0;32mFalse\u001b[0m\u001b[0;34m,\u001b[0m \u001b[0mfigsize\u001b[0m\u001b[0;34m=\u001b[0m\u001b[0;34m(\u001b[0m\u001b[0;36m15\u001b[0m\u001b[0;34m,\u001b[0m \u001b[0;36m7\u001b[0m\u001b[0;34m)\u001b[0m\u001b[0;34m)\u001b[0m\u001b[0;34m\u001b[0m\u001b[0m\n\u001b[1;32m      3\u001b[0m \u001b[0mplt\u001b[0m\u001b[0;34m.\u001b[0m\u001b[0mshow\u001b[0m\u001b[0;34m(\u001b[0m\u001b[0;34m)\u001b[0m\u001b[0;34m\u001b[0m\u001b[0m\n",
      "\u001b[0;32m~/anaconda3/lib/python3.6/site-packages/pandas/core/frame.py\u001b[0m in \u001b[0;36m__init__\u001b[0;34m(self, data, index, columns, dtype, copy)\u001b[0m\n\u001b[1;32m    328\u001b[0m                                  dtype=dtype, copy=copy)\n\u001b[1;32m    329\u001b[0m         \u001b[0;32melif\u001b[0m \u001b[0misinstance\u001b[0m\u001b[0;34m(\u001b[0m\u001b[0mdata\u001b[0m\u001b[0;34m,\u001b[0m \u001b[0mdict\u001b[0m\u001b[0;34m)\u001b[0m\u001b[0;34m:\u001b[0m\u001b[0;34m\u001b[0m\u001b[0m\n\u001b[0;32m--> 330\u001b[0;31m             \u001b[0mmgr\u001b[0m \u001b[0;34m=\u001b[0m \u001b[0mself\u001b[0m\u001b[0;34m.\u001b[0m\u001b[0m_init_dict\u001b[0m\u001b[0;34m(\u001b[0m\u001b[0mdata\u001b[0m\u001b[0;34m,\u001b[0m \u001b[0mindex\u001b[0m\u001b[0;34m,\u001b[0m \u001b[0mcolumns\u001b[0m\u001b[0;34m,\u001b[0m \u001b[0mdtype\u001b[0m\u001b[0;34m=\u001b[0m\u001b[0mdtype\u001b[0m\u001b[0;34m)\u001b[0m\u001b[0;34m\u001b[0m\u001b[0m\n\u001b[0m\u001b[1;32m    331\u001b[0m         \u001b[0;32melif\u001b[0m \u001b[0misinstance\u001b[0m\u001b[0;34m(\u001b[0m\u001b[0mdata\u001b[0m\u001b[0;34m,\u001b[0m \u001b[0mma\u001b[0m\u001b[0;34m.\u001b[0m\u001b[0mMaskedArray\u001b[0m\u001b[0;34m)\u001b[0m\u001b[0;34m:\u001b[0m\u001b[0;34m\u001b[0m\u001b[0m\n\u001b[1;32m    332\u001b[0m             \u001b[0;32mimport\u001b[0m \u001b[0mnumpy\u001b[0m\u001b[0;34m.\u001b[0m\u001b[0mma\u001b[0m\u001b[0;34m.\u001b[0m\u001b[0mmrecords\u001b[0m \u001b[0;32mas\u001b[0m \u001b[0mmrecords\u001b[0m\u001b[0;34m\u001b[0m\u001b[0m\n",
      "\u001b[0;32m~/anaconda3/lib/python3.6/site-packages/pandas/core/frame.py\u001b[0m in \u001b[0;36m_init_dict\u001b[0;34m(self, data, index, columns, dtype)\u001b[0m\n\u001b[1;32m    459\u001b[0m             \u001b[0marrays\u001b[0m \u001b[0;34m=\u001b[0m \u001b[0;34m[\u001b[0m\u001b[0mdata\u001b[0m\u001b[0;34m[\u001b[0m\u001b[0mk\u001b[0m\u001b[0;34m]\u001b[0m \u001b[0;32mfor\u001b[0m \u001b[0mk\u001b[0m \u001b[0;32min\u001b[0m \u001b[0mkeys\u001b[0m\u001b[0;34m]\u001b[0m\u001b[0;34m\u001b[0m\u001b[0m\n\u001b[1;32m    460\u001b[0m \u001b[0;34m\u001b[0m\u001b[0m\n\u001b[0;32m--> 461\u001b[0;31m         \u001b[0;32mreturn\u001b[0m \u001b[0m_arrays_to_mgr\u001b[0m\u001b[0;34m(\u001b[0m\u001b[0marrays\u001b[0m\u001b[0;34m,\u001b[0m \u001b[0mdata_names\u001b[0m\u001b[0;34m,\u001b[0m \u001b[0mindex\u001b[0m\u001b[0;34m,\u001b[0m \u001b[0mcolumns\u001b[0m\u001b[0;34m,\u001b[0m \u001b[0mdtype\u001b[0m\u001b[0;34m=\u001b[0m\u001b[0mdtype\u001b[0m\u001b[0;34m)\u001b[0m\u001b[0;34m\u001b[0m\u001b[0m\n\u001b[0m\u001b[1;32m    462\u001b[0m \u001b[0;34m\u001b[0m\u001b[0m\n\u001b[1;32m    463\u001b[0m     \u001b[0;32mdef\u001b[0m \u001b[0m_init_ndarray\u001b[0m\u001b[0;34m(\u001b[0m\u001b[0mself\u001b[0m\u001b[0;34m,\u001b[0m \u001b[0mvalues\u001b[0m\u001b[0;34m,\u001b[0m \u001b[0mindex\u001b[0m\u001b[0;34m,\u001b[0m \u001b[0mcolumns\u001b[0m\u001b[0;34m,\u001b[0m \u001b[0mdtype\u001b[0m\u001b[0;34m=\u001b[0m\u001b[0;32mNone\u001b[0m\u001b[0;34m,\u001b[0m \u001b[0mcopy\u001b[0m\u001b[0;34m=\u001b[0m\u001b[0;32mFalse\u001b[0m\u001b[0;34m)\u001b[0m\u001b[0;34m:\u001b[0m\u001b[0;34m\u001b[0m\u001b[0m\n",
      "\u001b[0;32m~/anaconda3/lib/python3.6/site-packages/pandas/core/frame.py\u001b[0m in \u001b[0;36m_arrays_to_mgr\u001b[0;34m(arrays, arr_names, index, columns, dtype)\u001b[0m\n\u001b[1;32m   6161\u001b[0m     \u001b[0;31m# figure out the index, if necessary\u001b[0m\u001b[0;34m\u001b[0m\u001b[0;34m\u001b[0m\u001b[0m\n\u001b[1;32m   6162\u001b[0m     \u001b[0;32mif\u001b[0m \u001b[0mindex\u001b[0m \u001b[0;32mis\u001b[0m \u001b[0;32mNone\u001b[0m\u001b[0;34m:\u001b[0m\u001b[0;34m\u001b[0m\u001b[0m\n\u001b[0;32m-> 6163\u001b[0;31m         \u001b[0mindex\u001b[0m \u001b[0;34m=\u001b[0m \u001b[0mextract_index\u001b[0m\u001b[0;34m(\u001b[0m\u001b[0marrays\u001b[0m\u001b[0;34m)\u001b[0m\u001b[0;34m\u001b[0m\u001b[0m\n\u001b[0m\u001b[1;32m   6164\u001b[0m     \u001b[0;32melse\u001b[0m\u001b[0;34m:\u001b[0m\u001b[0;34m\u001b[0m\u001b[0m\n\u001b[1;32m   6165\u001b[0m         \u001b[0mindex\u001b[0m \u001b[0;34m=\u001b[0m \u001b[0m_ensure_index\u001b[0m\u001b[0;34m(\u001b[0m\u001b[0mindex\u001b[0m\u001b[0;34m)\u001b[0m\u001b[0;34m\u001b[0m\u001b[0m\n",
      "\u001b[0;32m~/anaconda3/lib/python3.6/site-packages/pandas/core/frame.py\u001b[0m in \u001b[0;36mextract_index\u001b[0;34m(data)\u001b[0m\n\u001b[1;32m   6209\u001b[0m             \u001b[0mlengths\u001b[0m \u001b[0;34m=\u001b[0m \u001b[0mlist\u001b[0m\u001b[0;34m(\u001b[0m\u001b[0mset\u001b[0m\u001b[0;34m(\u001b[0m\u001b[0mraw_lengths\u001b[0m\u001b[0;34m)\u001b[0m\u001b[0;34m)\u001b[0m\u001b[0;34m\u001b[0m\u001b[0m\n\u001b[1;32m   6210\u001b[0m             \u001b[0;32mif\u001b[0m \u001b[0mlen\u001b[0m\u001b[0;34m(\u001b[0m\u001b[0mlengths\u001b[0m\u001b[0;34m)\u001b[0m \u001b[0;34m>\u001b[0m \u001b[0;36m1\u001b[0m\u001b[0;34m:\u001b[0m\u001b[0;34m\u001b[0m\u001b[0m\n\u001b[0;32m-> 6211\u001b[0;31m                 \u001b[0;32mraise\u001b[0m \u001b[0mValueError\u001b[0m\u001b[0;34m(\u001b[0m\u001b[0;34m'arrays must all be same length'\u001b[0m\u001b[0;34m)\u001b[0m\u001b[0;34m\u001b[0m\u001b[0m\n\u001b[0m\u001b[1;32m   6212\u001b[0m \u001b[0;34m\u001b[0m\u001b[0m\n\u001b[1;32m   6213\u001b[0m             \u001b[0;32mif\u001b[0m \u001b[0mhave_dicts\u001b[0m\u001b[0;34m:\u001b[0m\u001b[0;34m\u001b[0m\u001b[0m\n",
      "\u001b[0;31mValueError\u001b[0m: arrays must all be same length"
     ]
    }
   ],
   "source": [
    "losses_dimsDF = pandas.DataFrame({'loss' : losses_dims, 'dimensions' : [50,100,150,200,250,300,350,400,450,500,550,600,650,700,750]})\n",
    "losses_dimsDF.plot(y = 'loss', x = 'dimensions', logy=False, figsize=(15, 7))\n",
    "plt.show()"
   ]
  },
  {
   "cell_type": "markdown",
   "metadata": {},
   "source": [
    "This is a work in progress for Gensim, but its clear that most of the word distance variation is captured by 300 dimensions."
   ]
  },
  {
   "cell_type": "markdown",
   "metadata": {},
   "source": [
    "# Chinese examples"
   ]
  },
  {
   "cell_type": "code",
   "execution_count": 45,
   "metadata": {},
   "outputs": [
    {
     "ename": "FileNotFoundError",
     "evalue": "[Errno 2] No such file or directory: '../data/1992embeddings_hs_new3.sg'",
     "output_type": "error",
     "traceback": [
      "\u001b[0;31m---------------------------------------------------------------------------\u001b[0m",
      "\u001b[0;31mFileNotFoundError\u001b[0m                         Traceback (most recent call last)",
      "\u001b[0;32m<ipython-input-45-8e9de430079b>\u001b[0m in \u001b[0;36m<module>\u001b[0;34m()\u001b[0m\n\u001b[0;32m----> 1\u001b[0;31m \u001b[0mmodel\u001b[0m\u001b[0;34m=\u001b[0m\u001b[0mgensim\u001b[0m\u001b[0;34m.\u001b[0m\u001b[0mmodels\u001b[0m\u001b[0;34m.\u001b[0m\u001b[0mWord2Vec\u001b[0m\u001b[0;34m.\u001b[0m\u001b[0mload\u001b[0m\u001b[0;34m(\u001b[0m\u001b[0;34m'../data/1992embeddings_hs_new3.sg'\u001b[0m\u001b[0;34m)\u001b[0m\u001b[0;34m\u001b[0m\u001b[0m\n\u001b[0m",
      "\u001b[0;32m~/anaconda3/lib/python3.6/site-packages/gensim/models/word2vec.py\u001b[0m in \u001b[0;36mload\u001b[0;34m(cls, *args, **kwargs)\u001b[0m\n\u001b[1;32m   1567\u001b[0m     \u001b[0;34m@\u001b[0m\u001b[0mclassmethod\u001b[0m\u001b[0;34m\u001b[0m\u001b[0m\n\u001b[1;32m   1568\u001b[0m     \u001b[0;32mdef\u001b[0m \u001b[0mload\u001b[0m\u001b[0;34m(\u001b[0m\u001b[0mcls\u001b[0m\u001b[0;34m,\u001b[0m \u001b[0;34m*\u001b[0m\u001b[0margs\u001b[0m\u001b[0;34m,\u001b[0m \u001b[0;34m**\u001b[0m\u001b[0mkwargs\u001b[0m\u001b[0;34m)\u001b[0m\u001b[0;34m:\u001b[0m\u001b[0;34m\u001b[0m\u001b[0m\n\u001b[0;32m-> 1569\u001b[0;31m         \u001b[0mmodel\u001b[0m \u001b[0;34m=\u001b[0m \u001b[0msuper\u001b[0m\u001b[0;34m(\u001b[0m\u001b[0mWord2Vec\u001b[0m\u001b[0;34m,\u001b[0m \u001b[0mcls\u001b[0m\u001b[0;34m)\u001b[0m\u001b[0;34m.\u001b[0m\u001b[0mload\u001b[0m\u001b[0;34m(\u001b[0m\u001b[0;34m*\u001b[0m\u001b[0margs\u001b[0m\u001b[0;34m,\u001b[0m \u001b[0;34m**\u001b[0m\u001b[0mkwargs\u001b[0m\u001b[0;34m)\u001b[0m\u001b[0;34m\u001b[0m\u001b[0m\n\u001b[0m\u001b[1;32m   1570\u001b[0m         \u001b[0;31m# update older models\u001b[0m\u001b[0;34m\u001b[0m\u001b[0;34m\u001b[0m\u001b[0m\n\u001b[1;32m   1571\u001b[0m         \u001b[0;32mif\u001b[0m \u001b[0mhasattr\u001b[0m\u001b[0;34m(\u001b[0m\u001b[0mmodel\u001b[0m\u001b[0;34m,\u001b[0m \u001b[0;34m'table'\u001b[0m\u001b[0;34m)\u001b[0m\u001b[0;34m:\u001b[0m\u001b[0;34m\u001b[0m\u001b[0m\n",
      "\u001b[0;32m~/anaconda3/lib/python3.6/site-packages/gensim/utils.py\u001b[0m in \u001b[0;36mload\u001b[0;34m(cls, fname, mmap)\u001b[0m\n\u001b[1;32m    279\u001b[0m         \u001b[0mcompress\u001b[0m\u001b[0;34m,\u001b[0m \u001b[0msubname\u001b[0m \u001b[0;34m=\u001b[0m \u001b[0mSaveLoad\u001b[0m\u001b[0;34m.\u001b[0m\u001b[0m_adapt_by_suffix\u001b[0m\u001b[0;34m(\u001b[0m\u001b[0mfname\u001b[0m\u001b[0;34m)\u001b[0m\u001b[0;34m\u001b[0m\u001b[0m\n\u001b[1;32m    280\u001b[0m \u001b[0;34m\u001b[0m\u001b[0m\n\u001b[0;32m--> 281\u001b[0;31m         \u001b[0mobj\u001b[0m \u001b[0;34m=\u001b[0m \u001b[0munpickle\u001b[0m\u001b[0;34m(\u001b[0m\u001b[0mfname\u001b[0m\u001b[0;34m)\u001b[0m\u001b[0;34m\u001b[0m\u001b[0m\n\u001b[0m\u001b[1;32m    282\u001b[0m         \u001b[0mobj\u001b[0m\u001b[0;34m.\u001b[0m\u001b[0m_load_specials\u001b[0m\u001b[0;34m(\u001b[0m\u001b[0mfname\u001b[0m\u001b[0;34m,\u001b[0m \u001b[0mmmap\u001b[0m\u001b[0;34m,\u001b[0m \u001b[0mcompress\u001b[0m\u001b[0;34m,\u001b[0m \u001b[0msubname\u001b[0m\u001b[0;34m)\u001b[0m\u001b[0;34m\u001b[0m\u001b[0m\n\u001b[1;32m    283\u001b[0m         \u001b[0mlogger\u001b[0m\u001b[0;34m.\u001b[0m\u001b[0minfo\u001b[0m\u001b[0;34m(\u001b[0m\u001b[0;34m\"loaded %s\"\u001b[0m\u001b[0;34m,\u001b[0m \u001b[0mfname\u001b[0m\u001b[0;34m)\u001b[0m\u001b[0;34m\u001b[0m\u001b[0m\n",
      "\u001b[0;32m~/anaconda3/lib/python3.6/site-packages/gensim/utils.py\u001b[0m in \u001b[0;36munpickle\u001b[0;34m(fname)\u001b[0m\n\u001b[1;32m    928\u001b[0m \u001b[0;32mdef\u001b[0m \u001b[0munpickle\u001b[0m\u001b[0;34m(\u001b[0m\u001b[0mfname\u001b[0m\u001b[0;34m)\u001b[0m\u001b[0;34m:\u001b[0m\u001b[0;34m\u001b[0m\u001b[0m\n\u001b[1;32m    929\u001b[0m     \u001b[0;34m\"\"\"Load pickled object from `fname`\"\"\"\u001b[0m\u001b[0;34m\u001b[0m\u001b[0m\n\u001b[0;32m--> 930\u001b[0;31m     \u001b[0;32mwith\u001b[0m \u001b[0msmart_open\u001b[0m\u001b[0;34m(\u001b[0m\u001b[0mfname\u001b[0m\u001b[0;34m,\u001b[0m \u001b[0;34m'rb'\u001b[0m\u001b[0;34m)\u001b[0m \u001b[0;32mas\u001b[0m \u001b[0mf\u001b[0m\u001b[0;34m:\u001b[0m\u001b[0;34m\u001b[0m\u001b[0m\n\u001b[0m\u001b[1;32m    931\u001b[0m         \u001b[0;31m# Because of loading from S3 load can't be used (missing readline in smart_open)\u001b[0m\u001b[0;34m\u001b[0m\u001b[0;34m\u001b[0m\u001b[0m\n\u001b[1;32m    932\u001b[0m         \u001b[0;32mif\u001b[0m \u001b[0msys\u001b[0m\u001b[0;34m.\u001b[0m\u001b[0mversion_info\u001b[0m \u001b[0;34m>\u001b[0m \u001b[0;34m(\u001b[0m\u001b[0;36m3\u001b[0m\u001b[0;34m,\u001b[0m \u001b[0;36m0\u001b[0m\u001b[0;34m)\u001b[0m\u001b[0;34m:\u001b[0m\u001b[0;34m\u001b[0m\u001b[0m\n",
      "\u001b[0;32m~/anaconda3/lib/python3.6/site-packages/smart_open/smart_open_lib.py\u001b[0m in \u001b[0;36msmart_open\u001b[0;34m(uri, mode, **kw)\u001b[0m\n\u001b[1;32m    174\u001b[0m             \u001b[0mencoding\u001b[0m \u001b[0;34m=\u001b[0m \u001b[0mkw\u001b[0m\u001b[0;34m.\u001b[0m\u001b[0mpop\u001b[0m\u001b[0;34m(\u001b[0m\u001b[0;34m'encoding'\u001b[0m\u001b[0;34m,\u001b[0m \u001b[0;32mNone\u001b[0m\u001b[0;34m)\u001b[0m\u001b[0;34m\u001b[0m\u001b[0m\n\u001b[1;32m    175\u001b[0m             \u001b[0merrors\u001b[0m \u001b[0;34m=\u001b[0m \u001b[0mkw\u001b[0m\u001b[0;34m.\u001b[0m\u001b[0mpop\u001b[0m\u001b[0;34m(\u001b[0m\u001b[0;34m'errors'\u001b[0m\u001b[0;34m,\u001b[0m \u001b[0mDEFAULT_ERRORS\u001b[0m\u001b[0;34m)\u001b[0m\u001b[0;34m\u001b[0m\u001b[0m\n\u001b[0;32m--> 176\u001b[0;31m             \u001b[0;32mreturn\u001b[0m \u001b[0mfile_smart_open\u001b[0m\u001b[0;34m(\u001b[0m\u001b[0mparsed_uri\u001b[0m\u001b[0;34m.\u001b[0m\u001b[0muri_path\u001b[0m\u001b[0;34m,\u001b[0m \u001b[0mmode\u001b[0m\u001b[0;34m,\u001b[0m \u001b[0mencoding\u001b[0m\u001b[0;34m=\u001b[0m\u001b[0mencoding\u001b[0m\u001b[0;34m,\u001b[0m \u001b[0merrors\u001b[0m\u001b[0;34m=\u001b[0m\u001b[0merrors\u001b[0m\u001b[0;34m)\u001b[0m\u001b[0;34m\u001b[0m\u001b[0m\n\u001b[0m\u001b[1;32m    177\u001b[0m         \u001b[0;32melif\u001b[0m \u001b[0mparsed_uri\u001b[0m\u001b[0;34m.\u001b[0m\u001b[0mscheme\u001b[0m \u001b[0;32min\u001b[0m \u001b[0;34m(\u001b[0m\u001b[0;34m\"s3\"\u001b[0m\u001b[0;34m,\u001b[0m \u001b[0;34m\"s3n\"\u001b[0m\u001b[0;34m,\u001b[0m \u001b[0;34m's3u'\u001b[0m\u001b[0;34m)\u001b[0m\u001b[0;34m:\u001b[0m\u001b[0;34m\u001b[0m\u001b[0m\n\u001b[1;32m    178\u001b[0m             \u001b[0;32mreturn\u001b[0m \u001b[0ms3_open_uri\u001b[0m\u001b[0;34m(\u001b[0m\u001b[0mparsed_uri\u001b[0m\u001b[0;34m,\u001b[0m \u001b[0mmode\u001b[0m\u001b[0;34m,\u001b[0m \u001b[0;34m**\u001b[0m\u001b[0mkw\u001b[0m\u001b[0;34m)\u001b[0m\u001b[0;34m\u001b[0m\u001b[0m\n",
      "\u001b[0;32m~/anaconda3/lib/python3.6/site-packages/smart_open/smart_open_lib.py\u001b[0m in \u001b[0;36mfile_smart_open\u001b[0;34m(fname, mode, encoding, errors)\u001b[0m\n\u001b[1;32m    669\u001b[0m     \u001b[0;32mexcept\u001b[0m \u001b[0mKeyError\u001b[0m\u001b[0;34m:\u001b[0m\u001b[0;34m\u001b[0m\u001b[0m\n\u001b[1;32m    670\u001b[0m         \u001b[0mraw_mode\u001b[0m \u001b[0;34m=\u001b[0m \u001b[0mmode\u001b[0m\u001b[0;34m\u001b[0m\u001b[0m\n\u001b[0;32m--> 671\u001b[0;31m     \u001b[0mraw_fobj\u001b[0m \u001b[0;34m=\u001b[0m \u001b[0mopen\u001b[0m\u001b[0;34m(\u001b[0m\u001b[0mfname\u001b[0m\u001b[0;34m,\u001b[0m \u001b[0mraw_mode\u001b[0m\u001b[0;34m)\u001b[0m\u001b[0;34m\u001b[0m\u001b[0m\n\u001b[0m\u001b[1;32m    672\u001b[0m     \u001b[0mdecompressed_fobj\u001b[0m \u001b[0;34m=\u001b[0m \u001b[0mcompression_wrapper\u001b[0m\u001b[0;34m(\u001b[0m\u001b[0mraw_fobj\u001b[0m\u001b[0;34m,\u001b[0m \u001b[0mfname\u001b[0m\u001b[0;34m,\u001b[0m \u001b[0mraw_mode\u001b[0m\u001b[0;34m)\u001b[0m\u001b[0;34m\u001b[0m\u001b[0m\n\u001b[1;32m    673\u001b[0m     \u001b[0mdecoded_fobj\u001b[0m \u001b[0;34m=\u001b[0m \u001b[0mencoding_wrapper\u001b[0m\u001b[0;34m(\u001b[0m\u001b[0mdecompressed_fobj\u001b[0m\u001b[0;34m,\u001b[0m \u001b[0mmode\u001b[0m\u001b[0;34m,\u001b[0m \u001b[0mencoding\u001b[0m\u001b[0;34m=\u001b[0m\u001b[0mencoding\u001b[0m\u001b[0;34m,\u001b[0m \u001b[0merrors\u001b[0m\u001b[0;34m=\u001b[0m\u001b[0merrors\u001b[0m\u001b[0;34m)\u001b[0m\u001b[0;34m\u001b[0m\u001b[0m\n",
      "\u001b[0;31mFileNotFoundError\u001b[0m: [Errno 2] No such file or directory: '../data/1992embeddings_hs_new3.sg'"
     ]
    }
   ],
   "source": [
    "model=gensim.models.Word2Vec.load('../data/1992embeddings_hs_new3.sg')"
   ]
  },
  {
   "cell_type": "markdown",
   "metadata": {},
   "source": [
    "## analogy\n",
    "\n",
    "King+man-Queen? A few examples based on a corpus of Chinese news. \n",
    "\n",
    "First, location analogy: **province -> capital**"
   ]
  },
  {
   "cell_type": "code",
   "execution_count": null,
   "metadata": {},
   "outputs": [],
   "source": [
    "mm = model.most_similar(positive=[u'长沙',u'陕西'], negative=[u'湖南']) # Changsha + Shaanxi - Hunan\n",
    "for m in mm:\n",
    "    print(m[0],m[1])\n",
    "    print(\"Xi'an\")\n",
    "    break"
   ]
  },
  {
   "cell_type": "code",
   "execution_count": null,
   "metadata": {},
   "outputs": [],
   "source": [
    "mm = model.most_similar(positive=[u'广州',u'湖北'], negative=[u'广东']) # Guangzhou + Hubei - Guangdong\n",
    "for m in mm:\n",
    "    print(m[0],m[1])\n",
    "    print(\"Wuhan\")\n",
    "    break"
   ]
  },
  {
   "cell_type": "markdown",
   "metadata": {},
   "source": [
    "Second, location analogy: **country -> capital**"
   ]
  },
  {
   "cell_type": "code",
   "execution_count": null,
   "metadata": {},
   "outputs": [],
   "source": [
    "mm = model.most_similar(positive=[u'东京',u'美国'], negative=[u'日本']) # Tokyo + US - Japan\n",
    "for m in mm:\n",
    "    print(m[0],m[1])\n",
    "    print(\"(Washington DC)\")\n",
    "    break"
   ]
  },
  {
   "cell_type": "markdown",
   "metadata": {},
   "source": [
    "## similar words"
   ]
  },
  {
   "cell_type": "code",
   "execution_count": null,
   "metadata": {},
   "outputs": [],
   "source": [
    "word = u'社会主义'  #socialism\n",
    "ss = model.similar_by_word(word,topn=10)\n",
    "print(\"the most similar words to \" + word + \" is: \")\n",
    "for s in ss:\n",
    "    print(s[0])\n",
    "print(\"\")"
   ]
  },
  {
   "cell_type": "code",
   "execution_count": null,
   "metadata": {},
   "outputs": [],
   "source": [
    "word = u'玉米'  # corn\n",
    "ss = model.similar_by_word(word,topn=10)\n",
    "print(\"the most similar words to \" + word + \" is: \")\n",
    "for s in ss:\n",
    "    print(s[0])\n",
    "print(\"\")"
   ]
  },
  {
   "cell_type": "markdown",
   "metadata": {},
   "source": [
    "## <span style=\"color:red\">*Exercise 1*</span>\n",
    "\n",
    "<span style=\"color:red\">Construct cells immediately below this that build a word2vec model with your corpus. Interrogate word relationships in the resulting space, including estimating 90% confidence intervals for specific word cosine distances of interest. Plot a subset of your words. What do these word relationships reveal about the *social* and *cultural game* underlying your corpus? What was surprising--what violated your prior understanding of the corpus? What was expected--what confirmed your knowledge about this domain?"
   ]
  },
  {
   "cell_type": "code",
   "execution_count": 52,
   "metadata": {},
   "outputs": [
    {
     "data": {
      "text/html": [
       "<div>\n",
       "<style scoped>\n",
       "    .dataframe tbody tr th:only-of-type {\n",
       "        vertical-align: middle;\n",
       "    }\n",
       "\n",
       "    .dataframe tbody tr th {\n",
       "        vertical-align: top;\n",
       "    }\n",
       "\n",
       "    .dataframe thead th {\n",
       "        text-align: right;\n",
       "    }\n",
       "</style>\n",
       "<table border=\"1\" class=\"dataframe\">\n",
       "  <thead>\n",
       "    <tr style=\"text-align: right;\">\n",
       "      <th></th>\n",
       "      <th>Unnamed: 0</th>\n",
       "      <th>Statement</th>\n",
       "      <th>topic</th>\n",
       "      <th>wordcount</th>\n",
       "      <th>charcount</th>\n",
       "      <th>tokenized_sents</th>\n",
       "      <th>normalized_sents</th>\n",
       "    </tr>\n",
       "  </thead>\n",
       "  <tbody>\n",
       "    <tr>\n",
       "      <th>0</th>\n",
       "      <td>1</td>\n",
       "      <td>I also think get the immigrants jobs as soon ...</td>\n",
       "      <td>Immigration</td>\n",
       "      <td>37</td>\n",
       "      <td>225</td>\n",
       "      <td>[[I, also, think, get, the, immigrants, jobs, ...</td>\n",
       "      <td>[[also, think, get, immigrants, jobs, soon, po...</td>\n",
       "    </tr>\n",
       "    <tr>\n",
       "      <th>1</th>\n",
       "      <td>2</td>\n",
       "      <td>I dont necessarily believe everyone will get ...</td>\n",
       "      <td>Immigration</td>\n",
       "      <td>44</td>\n",
       "      <td>225</td>\n",
       "      <td>[[I, dont, necessarily, believe, everyone, wil...</td>\n",
       "      <td>[[dont, necessarily, believe, everyone, get], ...</td>\n",
       "    </tr>\n",
       "    <tr>\n",
       "      <th>2</th>\n",
       "      <td>3</td>\n",
       "      <td>Regarding immigration, there will be more. We...</td>\n",
       "      <td>Immigration</td>\n",
       "      <td>41</td>\n",
       "      <td>225</td>\n",
       "      <td>[[Regarding, immigration, ,, there, will, be, ...</td>\n",
       "      <td>[[regarding, immigration], [cant, anything], [...</td>\n",
       "    </tr>\n",
       "    <tr>\n",
       "      <th>3</th>\n",
       "      <td>4</td>\n",
       "      <td>Yeah.  Just to maintain skills.  You spend 15...</td>\n",
       "      <td>Gender</td>\n",
       "      <td>41</td>\n",
       "      <td>225</td>\n",
       "      <td>[[Yeah, .], [Just, to, maintain, skills, .], [...</td>\n",
       "      <td>[[yeah], [maintain, skills], [spend, years, tr...</td>\n",
       "    </tr>\n",
       "  </tbody>\n",
       "</table>\n",
       "</div>"
      ],
      "text/plain": [
       "   Unnamed: 0                                          Statement        topic  \\\n",
       "0           1   I also think get the immigrants jobs as soon ...  Immigration   \n",
       "1           2   I dont necessarily believe everyone will get ...  Immigration   \n",
       "2           3   Regarding immigration, there will be more. We...  Immigration   \n",
       "3           4   Yeah.  Just to maintain skills.  You spend 15...       Gender   \n",
       "\n",
       "   wordcount  charcount                                    tokenized_sents  \\\n",
       "0         37        225  [[I, also, think, get, the, immigrants, jobs, ...   \n",
       "1         44        225  [[I, dont, necessarily, believe, everyone, wil...   \n",
       "2         41        225  [[Regarding, immigration, ,, there, will, be, ...   \n",
       "3         41        225  [[Yeah, .], [Just, to, maintain, skills, .], [...   \n",
       "\n",
       "                                    normalized_sents  \n",
       "0  [[also, think, get, immigrants, jobs, soon, po...  \n",
       "1  [[dont, necessarily, believe, everyone, get], ...  \n",
       "2  [[regarding, immigration], [cant, anything], [...  \n",
       "3  [[yeah], [maintain, skills], [spend, years, tr...  "
      ]
     },
     "execution_count": 52,
     "metadata": {},
     "output_type": "execute_result"
    }
   ],
   "source": [
    "#First, I load my data. Like last weeks, this is a dataset that contains statements that were made in group \n",
    "#discussions on social inequality. However, these discussions were divided into topical sections and so I take 1500\n",
    "#random statements that were made during one of the following sections: Immigration, Gender, Labor Market, Economic\n",
    "#Inequality, or Generations.\n",
    "\n",
    "discussions = pandas.read_csv(\"../data/talking/talking.csv\")\n",
    "discussions = discussions.dropna(axis=0, how='any')\n",
    "discussions['tokenized_sents'] = discussions['Statement'].apply(lambda x: \n",
    "                                                               [nltk.word_tokenize(s) for s in nltk.sent_tokenize(x)])\n",
    "discussions['normalized_sents'] = discussions['tokenized_sents'].apply(lambda x: \n",
    "                                                                           [lucem_illud.normalizeTokens(s, \n",
    "                                                                                           stopwordLst = lucem_illud.stop_words_basic, \n",
    "                                                                                           stemmer = None) \n",
    "                                                                            for s in x])\n",
    "discussions[:4]"
   ]
  },
  {
   "cell_type": "code",
   "execution_count": 73,
   "metadata": {},
   "outputs": [
    {
     "data": {
      "text/plain": [
       "[('need', 0.9999134540557861),\n",
       " ('make', 0.9999104738235474),\n",
       " ('problem', 0.9999088644981384),\n",
       " ('get', 0.9999068975448608),\n",
       " ('state', 0.9999066591262817),\n",
       " ('women', 0.9999053478240967),\n",
       " ('must', 0.9999036192893982),\n",
       " ('also', 0.9999035596847534),\n",
       " ('like', 0.9999024868011475),\n",
       " ('even', 0.9999018311500549)]"
      ]
     },
     "execution_count": 73,
     "metadata": {},
     "output_type": "execute_result"
    }
   ],
   "source": [
    "#First I fot the word2vec model on the normalized tokens in the sentences within the 1500 statements\n",
    "discussionsW2V = gensim.models.word2vec.Word2Vec(discussions['normalized_sents'].sum())\n",
    "#According to the word2vec model the terms most similar to \"men\" are 'need' 'make' and 'problem.' This does not seem\n",
    "#to make a lot of sense. It could be that the corpus is a bit to small for a word2vec approach to produce \n",
    "#great results. However, we also find the term 'women' which does make a lot of sense. Although it is the opposite\n",
    "#the terms seem to be structurally similar in use. Then again, it is not really clear how to interpret 'closeness'\n",
    "#that comes from a word2vec model.\n",
    "discussionsW2V.most_similar('men')"
   ]
  },
  {
   "cell_type": "code",
   "execution_count": 74,
   "metadata": {},
   "outputs": [
    {
     "data": {
      "text/plain": [
       "[('today', 0.9999129176139832),\n",
       " ('men', 0.9999053478240967),\n",
       " ('work', 0.999894380569458),\n",
       " ('getting', 0.9998925924301147),\n",
       " ('able', 0.999891996383667),\n",
       " ('two', 0.9998918175697327),\n",
       " ('theyre', 0.9998905658721924),\n",
       " ('even', 0.9998902082443237),\n",
       " ('also', 0.9998887777328491),\n",
       " ('way', 0.9998887777328491)]"
      ]
     },
     "execution_count": 74,
     "metadata": {},
     "output_type": "execute_result"
    }
   ],
   "source": [
    "#For the term 'women' the results do not seem to make much more sense.\n",
    "discussionsW2V.most_similar('women')"
   ]
  },
  {
   "cell_type": "code",
   "execution_count": 532,
   "metadata": {},
   "outputs": [
    {
     "data": {
      "text/plain": [
       "'child'"
      ]
     },
     "execution_count": 532,
     "metadata": {},
     "output_type": "execute_result"
    }
   ],
   "source": [
    "#Now I use the word vectors to test which of 4 terms does not belong into the series.\n",
    "discussionsW2V.doesnt_match(['men', 'women', 'child', 'fish']) # I'm not sure about this one"
   ]
  },
  {
   "cell_type": "code",
   "execution_count": 96,
   "metadata": {},
   "outputs": [
    {
     "data": {
      "text/plain": [
       "'three'"
      ]
     },
     "execution_count": 96,
     "metadata": {},
     "output_type": "execute_result"
    }
   ],
   "source": [
    "discussionsW2V.doesnt_match(['one', 'two', 'three', 'soccer']) # This does not seem to work very well on my corpuse\n",
    "                                                               # Maybe there is not enough text?"
   ]
  },
  {
   "cell_type": "code",
   "execution_count": 169,
   "metadata": {},
   "outputs": [
    {
     "data": {
      "text/plain": [
       "[('today', 0.9996050596237183),\n",
       " ('even', 0.9995793700218201),\n",
       " ('way', 0.999577522277832),\n",
       " ('always', 0.9995759725570679),\n",
       " ('wages', 0.999571681022644),\n",
       " ('regard', 0.9995709657669067),\n",
       " ('able', 0.9995662569999695),\n",
       " ('cant', 0.9995657205581665),\n",
       " ('make', 0.9995641708374023),\n",
       " ('take', 0.9995594620704651)]"
      ]
     },
     "execution_count": 169,
     "metadata": {},
     "output_type": "execute_result"
    }
   ],
   "source": [
    "discussionsW2V.most_similar(positive=['men', 'women'], negative = ['male']) \n",
    "# Men are to male as'today' is to 'women' ???\n",
    "#This seems to not be working too well on my small corpus."
   ]
  },
  {
   "cell_type": "code",
   "execution_count": 533,
   "metadata": {},
   "outputs": [
    {
     "name": "stdout",
     "output_type": "stream",
     "text": [
      "[0.24398978 0.21567126 0.20236152 0.19568238 0.27203926 0.18417467\n",
      " 0.28145683 0.14158964 0.16112563]\n",
      "[134. 177. 148. 138. 154. 158. 166. 147. 135.]\n",
      "The 90% confidence interval for the cosine distance between good and bad for the 1-star reviews is:\n",
      " 0.17002258159951605 0.13873281252429298\n"
     ]
    }
   ],
   "source": [
    "n_samples1 = 10\n",
    "sample_indices1 = np.random.randint(0,n_samples1,(len(discussions),))\n",
    "\n",
    "s_k1 =np.array([])\n",
    "tau_k1=np.array([])\n",
    "\n",
    "for i in range(n_samples1):\n",
    "    sample_w2v1 = gensim.models.word2vec.Word2Vec(discussions[sample_indices1 == i]['normalized_sents'].sum())\n",
    "    try:\n",
    "        s_k1 = np.append(s_k1, cos_difference(sample_w2v1, 'men', 'women')[0,0])\n",
    "    except KeyError:\n",
    "        pass\n",
    "    else:\n",
    "        tau_k1 = np.append(tau_k1, len(discussions[sample_indices1 == i]))\n",
    "\n",
    "print(s_k1)\n",
    "print(tau_k1)\n",
    "\n",
    "tau1 = tau_k1.sum()\n",
    "s1 = s_k1.mean()\n",
    "B_k1 = np.sqrt(tau_k1) * s_k1-s_k1.mean()\n",
    "\n",
    "print(\"The 90% confidence interval for the cosine distance between good and bad for the 1-star reviews is:\\n\",s1-B_k1[-2]/np.sqrt(tau1), s1-B_k1[1]/np.sqrt(tau1))"
   ]
  },
  {
   "cell_type": "code",
   "execution_count": 145,
   "metadata": {},
   "outputs": [
    {
     "data": {
      "image/png": "[encoded data removed]",
      "text/plain": [
       "<matplotlib.figure.Figure at 0x127c643c8>"
      ]
     },
     "metadata": {},
     "output_type": "display_data"
    }
   ],
   "source": [
    "#Next I look at the 50 top words of my corpus. First, I reduce the semantic space to 50 components via\n",
    "#a PCA. In a second step, I reduce this space to two dimensions as you did above and plot the \n",
    "#positions of each words. The results do not seem to make all too much sense. I could try to do some tealeaf\n",
    "#reading here but I would prefer not to.\n",
    "numWords = 50\n",
    "targetWords = discussionsW2V.wv.index2word[:numWords]\n",
    "wordsSubMatrix = []\n",
    "\n",
    "for word in targetWords:\n",
    "    wordsSubMatrix.append(discussionsW2V[word])\n",
    "wordsSubMatrix = np.array(wordsSubMatrix)\n",
    "pcaWords = sklearn.decomposition.PCA(n_components = 50).fit(wordsSubMatrix)\n",
    "reducedPCA_data = pcaWords.transform(wordsSubMatrix)\n",
    "\n",
    "tsneWords = sklearn.manifold.TSNE(n_components = 2, early_exaggeration = 25).fit_transform(reducedPCA_data)\n",
    "fig = plt.figure(figsize = (15,10))\n",
    "ax = fig.add_subplot(111)\n",
    "ax.set_frame_on(False)\n",
    "plt.scatter(tsneWords[:, 0], tsneWords[:, 1], alpha = 0)\n",
    "for i, word in enumerate(targetWords):\n",
    "    ax.annotate(word, \n",
    "                (tsneWords[:, 0][i],tsneWords[:, 1][i]), \n",
    "                size =  20 * (numWords - i) / numWords, \n",
    "                alpha = .8 * (numWords - i) / numWords + .2)\n",
    "plt.xticks(())\n",
    "plt.yticks(())\n",
    "plt.show()"
   ]
  },
  {
   "cell_type": "markdown",
   "metadata": {},
   "source": [
    "# Doc2Vec"
   ]
  },
  {
   "cell_type": "markdown",
   "metadata": {
    "collapsed": true
   },
   "source": [
    "Instead of just looking at just how words embed within in the space, we can look at how the different documents relate to each other within the space. First lets load our data--abstracts of most U.S. physics papers from the 1950s."
   ]
  },
  {
   "cell_type": "code",
   "execution_count": 146,
   "metadata": {},
   "outputs": [
    {
     "data": {
      "text/html": [
       "<div>\n",
       "<style scoped>\n",
       "    .dataframe tbody tr th:only-of-type {\n",
       "        vertical-align: middle;\n",
       "    }\n",
       "\n",
       "    .dataframe tbody tr th {\n",
       "        vertical-align: top;\n",
       "    }\n",
       "\n",
       "    .dataframe thead th {\n",
       "        text-align: right;\n",
       "    }\n",
       "</style>\n",
       "<table border=\"1\" class=\"dataframe\">\n",
       "  <thead>\n",
       "    <tr style=\"text-align: right;\">\n",
       "      <th></th>\n",
       "      <th>copyrightYear</th>\n",
       "      <th>doi</th>\n",
       "      <th>abstract</th>\n",
       "    </tr>\n",
       "  </thead>\n",
       "  <tbody>\n",
       "    <tr>\n",
       "      <th>0</th>\n",
       "      <td>1950</td>\n",
       "      <td>10.1103/RevModPhys.22.221</td>\n",
       "      <td>A summarizing account is given of the research...</td>\n",
       "    </tr>\n",
       "    <tr>\n",
       "      <th>1</th>\n",
       "      <td>1951</td>\n",
       "      <td>10.1103/RevModPhys.23.147</td>\n",
       "      <td>New tables of coulomb functions are presented ...</td>\n",
       "    </tr>\n",
       "    <tr>\n",
       "      <th>2</th>\n",
       "      <td>1951</td>\n",
       "      <td>10.1103/RevModPhys.23.185</td>\n",
       "      <td>Ionization by electron impact in diatomic gase...</td>\n",
       "    </tr>\n",
       "    <tr>\n",
       "      <th>3</th>\n",
       "      <td>1951</td>\n",
       "      <td>10.1103/RevModPhys.23.203</td>\n",
       "      <td>It is shown that the conductivity in the ohmic...</td>\n",
       "    </tr>\n",
       "    <tr>\n",
       "      <th>4</th>\n",
       "      <td>1951</td>\n",
       "      <td>10.1103/RevModPhys.23.21</td>\n",
       "      <td>The factorization method is an operational pro...</td>\n",
       "    </tr>\n",
       "    <tr>\n",
       "      <th>5</th>\n",
       "      <td>1951</td>\n",
       "      <td>10.1103/RevModPhys.23.311</td>\n",
       "      <td>A brief account is given of Dyson's proof of t...</td>\n",
       "    </tr>\n",
       "    <tr>\n",
       "      <th>6</th>\n",
       "      <td>1951</td>\n",
       "      <td>10.1103/RevModPhys.23.315</td>\n",
       "      <td>A systematics is given of all transitions for ...</td>\n",
       "    </tr>\n",
       "    <tr>\n",
       "      <th>7</th>\n",
       "      <td>1951</td>\n",
       "      <td>10.1103/RevModPhys.23.322</td>\n",
       "      <td>A systematics of the -transitions of even A nu...</td>\n",
       "    </tr>\n",
       "    <tr>\n",
       "      <th>8</th>\n",
       "      <td>1951</td>\n",
       "      <td>10.1103/RevModPhys.23.328</td>\n",
       "      <td>The available experiments on the absorption sp...</td>\n",
       "    </tr>\n",
       "    <tr>\n",
       "      <th>9</th>\n",
       "      <td>1952</td>\n",
       "      <td>10.1103/RevModPhys.24.108</td>\n",
       "      <td>The classical theory of the dynamics of viscou...</td>\n",
       "    </tr>\n",
       "  </tbody>\n",
       "</table>\n",
       "</div>"
      ],
      "text/plain": [
       "   copyrightYear                        doi  \\\n",
       "0           1950  10.1103/RevModPhys.22.221   \n",
       "1           1951  10.1103/RevModPhys.23.147   \n",
       "2           1951  10.1103/RevModPhys.23.185   \n",
       "3           1951  10.1103/RevModPhys.23.203   \n",
       "4           1951   10.1103/RevModPhys.23.21   \n",
       "5           1951  10.1103/RevModPhys.23.311   \n",
       "6           1951  10.1103/RevModPhys.23.315   \n",
       "7           1951  10.1103/RevModPhys.23.322   \n",
       "8           1951  10.1103/RevModPhys.23.328   \n",
       "9           1952  10.1103/RevModPhys.24.108   \n",
       "\n",
       "                                            abstract  \n",
       "0  A summarizing account is given of the research...  \n",
       "1  New tables of coulomb functions are presented ...  \n",
       "2  Ionization by electron impact in diatomic gase...  \n",
       "3  It is shown that the conductivity in the ohmic...  \n",
       "4  The factorization method is an operational pro...  \n",
       "5  A brief account is given of Dyson's proof of t...  \n",
       "6  A systematics is given of all transitions for ...  \n",
       "7  A systematics of the -transitions of even A nu...  \n",
       "8  The available experiments on the absorption sp...  \n",
       "9  The classical theory of the dynamics of viscou...  "
      ]
     },
     "execution_count": 146,
     "metadata": {},
     "output_type": "execute_result"
    }
   ],
   "source": [
    "apsDF = pandas.read_csv('../data/APSabstracts1950s.csv', index_col = 0)\n",
    "apsDF[:10]"
   ]
  },
  {
   "cell_type": "markdown",
   "metadata": {},
   "source": [
    "We will load these as documents into Word2Vec, but first we need to normalize and pick some tags"
   ]
  },
  {
   "cell_type": "code",
   "execution_count": 147,
   "metadata": {
    "collapsed": true
   },
   "outputs": [],
   "source": [
    "keywords = ['photomagnetoelectric', 'quantum', 'boltzmann', 'proton', 'positron', 'feynman', 'classical', 'relativity']"
   ]
  },
  {
   "cell_type": "code",
   "execution_count": 148,
   "metadata": {
    "collapsed": true
   },
   "outputs": [],
   "source": [
    "apsDF['tokenized_words'] = apsDF['abstract'].apply(lambda x: nltk.word_tokenize(x))\n",
    "apsDF['normalized_words'] = apsDF['tokenized_words'].apply(lambda x: lucem_illud.normalizeTokens(x, stopwordLst = lucem_illud.stop_words_basic, stemmer = None))"
   ]
  },
  {
   "cell_type": "code",
   "execution_count": 437,
   "metadata": {
    "collapsed": true
   },
   "outputs": [],
   "source": [
    "taggedDocs = []\n",
    "for index, row in apsDF.iterrows():\n",
    "    #Just doing a simple keyword assignment\n",
    "    docKeywords = [s for s in keywords if s in row['normalized_words']]\n",
    "    docKeywords.append(row['copyrightYear'])\n",
    "    docKeywords.append(row['doi']) #This lets us extract individual documnets since doi's are unique\n",
    "    taggedDocs.append(gensim.models.doc2vec.LabeledSentence(words = row['normalized_words'], tags = docKeywords))\n",
    "apsDF['TaggedAbstracts'] = taggedDocs"
   ]
  },
  {
   "cell_type": "markdown",
   "metadata": {},
   "source": [
    "Now we can train a Doc2Vec model:"
   ]
  },
  {
   "cell_type": "code",
   "execution_count": 150,
   "metadata": {
    "collapsed": true
   },
   "outputs": [],
   "source": [
    "apsD2V = gensim.models.doc2vec.Doc2Vec(apsDF['TaggedAbstracts'], size = 100) #Limiting to 100 dimensions"
   ]
  },
  {
   "cell_type": "markdown",
   "metadata": {},
   "source": [
    "We can get vectors for the tags/documents, just as we did with words. Documents are actually the centroids (high dimensional average points) of their words. "
   ]
  },
  {
   "cell_type": "code",
   "execution_count": 151,
   "metadata": {
    "scrolled": true
   },
   "outputs": [
    {
     "data": {
      "text/plain": [
       "array([-1.1729766 , -0.02975562, -0.4653519 , -0.74202424,  0.5764834 ,\n",
       "       -0.76020235,  1.0757188 ,  1.2310889 ,  0.665166  , -1.0003991 ,\n",
       "       -0.6970876 ,  1.1000764 , -0.87107635,  1.468503  ,  0.7518896 ,\n",
       "        1.4026488 , -1.5631216 ,  1.6132808 ,  1.1333004 ,  0.25816774,\n",
       "        1.3756555 , -0.18791738,  0.17174518, -0.6111622 , -1.3914732 ,\n",
       "        0.28206977,  0.32150167,  0.26640436,  0.9183844 , -1.8641131 ,\n",
       "       -1.7195411 , -0.20956172, -0.5173736 , -0.8347722 , -1.0639745 ,\n",
       "        1.0488702 ,  0.6734233 , -1.0142403 , -0.40818608, -0.94751817,\n",
       "       -0.74291044,  0.9672291 , -1.0545813 , -0.5152225 ,  1.2254972 ,\n",
       "        1.2282584 , -0.9855483 , -0.8070751 , -0.43430096, -0.81924784,\n",
       "       -0.50171316, -0.9329022 ,  0.93852955, -0.21912596, -0.03484022,\n",
       "       -0.69391376, -0.44247985,  1.9202135 , -0.6226092 ,  0.03890908,\n",
       "        1.3885865 , -0.63202316,  0.50838494, -0.3200734 , -0.6034405 ,\n",
       "       -0.14774449,  0.46354687,  1.4163065 , -0.29351947,  1.4399166 ,\n",
       "        0.67423946,  0.1079013 , -1.0539415 , -0.42993715, -0.203756  ,\n",
       "       -0.1436226 ,  1.7850986 , -0.3630762 , -0.54232275,  0.545464  ,\n",
       "        0.04963683,  0.6609591 , -0.25844306, -0.5252129 , -1.827069  ,\n",
       "       -0.658869  , -0.60399824,  0.22907278,  0.2792218 , -1.0272065 ,\n",
       "        1.3115579 , -0.3778925 , -0.47169983, -2.0406687 , -0.88469654,\n",
       "        0.24524246, -0.9704017 , -0.60631627, -0.08036344, -0.12328938],\n",
       "      dtype=float32)"
      ]
     },
     "execution_count": 151,
     "metadata": {},
     "output_type": "execute_result"
    }
   ],
   "source": [
    "apsD2V.docvecs[1952]"
   ]
  },
  {
   "cell_type": "markdown",
   "metadata": {},
   "source": [
    "The words can still be accessed in the same way:"
   ]
  },
  {
   "cell_type": "code",
   "execution_count": 152,
   "metadata": {},
   "outputs": [
    {
     "data": {
      "text/plain": [
       "array([-0.33650115, -0.2856044 , -0.2993079 , -0.76844555,  0.6410465 ,\n",
       "       -0.36317116, -0.47302142, -0.01033585,  0.07930972, -0.19645047,\n",
       "       -0.43335497,  0.6033251 , -1.0188342 ,  0.42868018, -0.7409006 ,\n",
       "       -0.47094336, -0.9458327 ,  0.27225873,  0.53947085, -0.04301265,\n",
       "        0.1569557 , -0.17757285, -0.61249506,  0.9689036 , -0.5082067 ,\n",
       "       -0.7261633 , -0.09252138, -0.0260235 ,  0.13737758, -0.32363442,\n",
       "        0.376688  ,  0.6220477 , -0.26145306,  0.49197462, -0.6678807 ,\n",
       "        0.51244724, -0.6146082 , -0.40352544,  0.29795206, -0.18257464,\n",
       "       -0.69548464, -1.1641096 , -0.5695444 ,  0.8286828 ,  0.17293468,\n",
       "        0.6108352 , -0.13207625, -0.75832707,  0.06129925,  0.01653133,\n",
       "       -0.26441064,  0.17383447,  1.0558994 ,  0.7839396 , -0.2443394 ,\n",
       "        0.10920904, -0.14983489,  1.0681059 , -0.18116136,  0.26322222,\n",
       "        0.45022887,  0.2588618 ,  0.39854765,  0.6280476 ,  0.3380486 ,\n",
       "       -0.2634196 ,  0.4975303 ,  0.4521119 ,  0.20087464,  0.34600303,\n",
       "        0.62432784,  0.47501448, -0.20026052,  0.53974634,  0.7442409 ,\n",
       "       -0.45702413,  0.48185936, -0.5338058 , -0.74340236,  0.42152077,\n",
       "        0.2548491 ,  1.0858747 ,  0.8206515 , -1.1310945 , -1.3037312 ,\n",
       "       -0.5363891 ,  0.39613387,  0.48185587,  0.5180723 , -0.56560886,\n",
       "       -0.04387582, -0.30008277, -0.19957098, -0.17238367, -0.9125323 ,\n",
       "        0.23988205, -0.5469783 , -0.21844976,  0.7500526 ,  0.4849995 ],\n",
       "      dtype=float32)"
      ]
     },
     "execution_count": 152,
     "metadata": {},
     "output_type": "execute_result"
    }
   ],
   "source": [
    "apsD2V['atom']"
   ]
  },
  {
   "cell_type": "markdown",
   "metadata": {},
   "source": [
    "We can still use the ``most_similar`` command to perform simple semantic equations:"
   ]
  },
  {
   "cell_type": "code",
   "execution_count": 153,
   "metadata": {},
   "outputs": [
    {
     "data": {
      "text/plain": [
       "[('atoms', 0.8087107539176941)]"
      ]
     },
     "execution_count": 153,
     "metadata": {},
     "output_type": "execute_result"
    }
   ],
   "source": [
    "apsD2V.most_similar(positive = ['atom','electrons'], negative = ['electron'], topn = 1)"
   ]
  },
  {
   "cell_type": "markdown",
   "metadata": {},
   "source": [
    "This is interesting. **Electron** is to **electrons** as **atom** is to **atoms**. Another way to understand this, developed below is: **electrons - electron** induces a singular to plural dimension, so when we subtract **electron** from **atom** and add **electrons**, we get **atoms**! "
   ]
  },
  {
   "cell_type": "code",
   "execution_count": 154,
   "metadata": {},
   "outputs": [
    {
     "data": {
      "text/plain": [
       "[('antiferromagnet', 0.9574133157730103)]"
      ]
     },
     "execution_count": 154,
     "metadata": {},
     "output_type": "execute_result"
    }
   ],
   "source": [
    "apsD2V.most_similar(positive = ['einstein','law'], negative = ['equation'], topn = 1)"
   ]
  },
  {
   "cell_type": "markdown",
   "metadata": {},
   "source": [
    "In other words **Einstein** minus **equation** plus **law** equals **Meissner**--Walthur Meissner studied mechanical engineering and physics ... and was more likely to produce a \"law\" than a \"equation\", like the Meissner effect, the damping of the magnetic field in superconductors. If we built our word-embedding with a bigger corpus like the entire arXiv, a massive repository of physics preprints, we would see many more such relationships like **gravity - Newton + Einstein = relativity**."
   ]
  },
  {
   "cell_type": "markdown",
   "metadata": {},
   "source": [
    "We can also compute all of these *by hand*--explicitly wth vector algebra: "
   ]
  },
  {
   "cell_type": "code",
   "execution_count": 155,
   "metadata": {},
   "outputs": [
    {
     "data": {
      "text/plain": [
       "array([[0.593179]], dtype=float32)"
      ]
     },
     "execution_count": 155,
     "metadata": {},
     "output_type": "execute_result"
    }
   ],
   "source": [
    "sklearn.metrics.pairwise.cosine_similarity(apsD2V['electron'].reshape(1,-1), apsD2V['positron'].reshape(1,-1))\n",
    "#We reorient the vectors with .reshape(1, -1) so that they can be computed without a warning in sklearn"
   ]
  },
  {
   "cell_type": "markdown",
   "metadata": {},
   "source": [
    "In the doc2vec model, the documents have vectors just as the words do, so that we can compare documents with each other and also with words (similar to how a search engine locates a webpage with a query). First, we will calculate the distance between a word and documents in the dataset:"
   ]
  },
  {
   "cell_type": "code",
   "execution_count": 156,
   "metadata": {},
   "outputs": [
    {
     "data": {
      "text/plain": [
       "[('10.1103/PhysRev.112.812', 0.6384412050247192),\n",
       " ('10.1103/PhysRev.100.1646', 0.6250877380371094),\n",
       " ('10.1103/PhysRev.102.369', 0.6231611967086792),\n",
       " ('10.1103/PhysRev.110.857', 0.6141091585159302),\n",
       " ('10.1103/PhysRev.101.1676', 0.5951584577560425)]"
      ]
     },
     "execution_count": 156,
     "metadata": {},
     "output_type": "execute_result"
    }
   ],
   "source": [
    "apsD2V.docvecs.most_similar([ apsD2V['electron'] ], topn=5 )"
   ]
  },
  {
   "cell_type": "markdown",
   "metadata": {},
   "source": [
    "If we search for the first of these on the web (these are doi codes), we find the following...a pretty good match:\n",
    "<img src='../data/PhysRev.98.875.jpg'>"
   ]
  },
  {
   "cell_type": "markdown",
   "metadata": {},
   "source": [
    "Now let's go the other way around and find words most similar to this document:"
   ]
  },
  {
   "cell_type": "code",
   "execution_count": 170,
   "metadata": {},
   "outputs": [
    {
     "data": {
      "text/plain": [
       "[('electric', 0.7553178071975708),\n",
       " ('attainable', 0.7392640709877014),\n",
       " ('gauss', 0.7381314039230347),\n",
       " ('steadily', 0.6958444118499756),\n",
       " ('earth', 0.6921240091323853)]"
      ]
     },
     "execution_count": 170,
     "metadata": {},
     "output_type": "execute_result"
    }
   ],
   "source": [
    "apsD2V.most_similar( [ apsD2V.docvecs['10.1103/PhysRev.98.875'] ], topn=5) "
   ]
  },
  {
   "cell_type": "markdown",
   "metadata": {},
   "source": [
    "We can even look for documents most like a query composed of multiple words:"
   ]
  },
  {
   "cell_type": "code",
   "execution_count": 171,
   "metadata": {},
   "outputs": [
    {
     "data": {
      "text/plain": [
       "[('10.1103/PhysRev.85.120', 0.8298845887184143),\n",
       " ('10.1103/PhysRev.103.966', 0.7920011281967163),\n",
       " ('10.1103/PhysRev.81.552', 0.7867588996887207),\n",
       " ('10.1103/PhysRev.89.1053', 0.7714230418205261),\n",
       " ('10.1103/PhysRev.105.204', 0.758334755897522)]"
      ]
     },
     "execution_count": 171,
     "metadata": {},
     "output_type": "execute_result"
    }
   ],
   "source": [
    "apsD2V.docvecs.most_similar([ apsD2V['electron']+apsD2V['positron']+apsD2V['neutron']], topn=5 )"
   ]
  },
  {
   "cell_type": "markdown",
   "metadata": {},
   "source": [
    "Now let's plot some words and documents against one another with a heatmap:"
   ]
  },
  {
   "cell_type": "code",
   "execution_count": 172,
   "metadata": {
    "collapsed": true
   },
   "outputs": [],
   "source": [
    "heatmapMatrix = []\n",
    "for tagOuter in keywords:\n",
    "    column = []\n",
    "    tagVec = apsD2V.docvecs[tagOuter].reshape(1, -1)\n",
    "    for tagInner in keywords:\n",
    "        column.append(sklearn.metrics.pairwise.cosine_similarity(tagVec, apsD2V.docvecs[tagInner].reshape(1, -1))[0][0])\n",
    "    heatmapMatrix.append(column)\n",
    "heatmapMatrix = np.array(heatmapMatrix)"
   ]
  },
  {
   "cell_type": "code",
   "execution_count": 173,
   "metadata": {},
   "outputs": [
    {
     "data": {
      "image/png": "[encoded data removed]",
      "text/plain": [
       "<matplotlib.figure.Figure at 0x12905e908>"
      ]
     },
     "metadata": {},
     "output_type": "display_data"
    }
   ],
   "source": [
    "fig, ax = plt.subplots()\n",
    "hmap = ax.pcolor(heatmapMatrix, cmap='terrain')\n",
    "cbar = plt.colorbar(hmap)\n",
    "\n",
    "cbar.set_label('cosine similarity', rotation=270)\n",
    "a = ax.set_xticks(np.arange(heatmapMatrix.shape[1]) + 0.5, minor=False)\n",
    "a = ax.set_yticks(np.arange(heatmapMatrix.shape[0]) + 0.5, minor=False)\n",
    "\n",
    "a = ax.set_xticklabels(keywords, minor=False, rotation=270)\n",
    "a = ax.set_yticklabels(keywords, minor=False)"
   ]
  },
  {
   "cell_type": "markdown",
   "metadata": {},
   "source": [
    "Now let's look at a heatmap of similarities between the first ten documents in the corpus:"
   ]
  },
  {
   "cell_type": "code",
   "execution_count": 174,
   "metadata": {
    "collapsed": true
   },
   "outputs": [],
   "source": [
    "targetDocs = apsDF['doi'][:10]\n",
    "\n",
    "heatmapMatrixD = []\n",
    "\n",
    "for tagOuter in targetDocs:\n",
    "    column = []\n",
    "    tagVec = apsD2V.docvecs[tagOuter].reshape(1, -1)\n",
    "    for tagInner in targetDocs:\n",
    "        column.append(sklearn.metrics.pairwise.cosine_similarity(tagVec, apsD2V.docvecs[tagInner].reshape(1, -1))[0][0])\n",
    "    heatmapMatrixD.append(column)\n",
    "heatmapMatrixD = np.array(heatmapMatrixD)"
   ]
  },
  {
   "cell_type": "code",
   "execution_count": 175,
   "metadata": {},
   "outputs": [
    {
     "data": {
      "image/png": "[encoded data removed]",
      "text/plain": [
       "<matplotlib.figure.Figure at 0x12745c9e8>"
      ]
     },
     "metadata": {},
     "output_type": "display_data"
    }
   ],
   "source": [
    "fig, ax = plt.subplots()\n",
    "hmap = ax.pcolor(heatmapMatrixD, cmap='terrain')\n",
    "cbar = plt.colorbar(hmap)\n",
    "\n",
    "cbar.set_label('cosine similarity', rotation=270)\n",
    "a = ax.set_xticks(np.arange(heatmapMatrixD.shape[1]) + 0.5, minor=False)\n",
    "a = ax.set_yticks(np.arange(heatmapMatrixD.shape[0]) + 0.5, minor=False)\n",
    "\n",
    "a = ax.set_xticklabels(targetDocs, minor=False, rotation=270)\n",
    "a = ax.set_yticklabels(targetDocs, minor=False)"
   ]
  },
  {
   "cell_type": "markdown",
   "metadata": {},
   "source": [
    "Now let's look at a heatmap of similarities between the first ten documents and our keywords:"
   ]
  },
  {
   "cell_type": "code",
   "execution_count": 176,
   "metadata": {
    "collapsed": true
   },
   "outputs": [],
   "source": [
    "heatmapMatrixC = []\n",
    "\n",
    "for tagOuter in targetDocs:\n",
    "    column = []\n",
    "    tagVec = apsD2V.docvecs[tagOuter].reshape(1, -1)\n",
    "    for tagInner in keywords:\n",
    "        column.append(sklearn.metrics.pairwise.cosine_similarity(tagVec, apsD2V.docvecs[tagInner].reshape(1, -1))[0][0])\n",
    "    heatmapMatrixC.append(column)\n",
    "heatmapMatrixC = np.array(heatmapMatrixC)"
   ]
  },
  {
   "cell_type": "code",
   "execution_count": 177,
   "metadata": {},
   "outputs": [
    {
     "data": {
      "image/png": "[encoded data removed]",
      "text/plain": [
       "<matplotlib.figure.Figure at 0x134941668>"
      ]
     },
     "metadata": {},
     "output_type": "display_data"
    }
   ],
   "source": [
    "fig, ax = plt.subplots()\n",
    "hmap = ax.pcolor(heatmapMatrixC, cmap='terrain')\n",
    "cbar = plt.colorbar(hmap)\n",
    "\n",
    "cbar.set_label('cosine similarity', rotation=270)\n",
    "a = ax.set_xticks(np.arange(heatmapMatrixC.shape[1]) + 0.5, minor=False)\n",
    "a = ax.set_yticks(np.arange(heatmapMatrixC.shape[0]) + 0.5, minor=False)\n",
    "\n",
    "a = ax.set_xticklabels(keywords, minor=False, rotation=270)\n",
    "a = ax.set_yticklabels(targetDocs, minor=False)"
   ]
  },
  {
   "cell_type": "markdown",
   "metadata": {},
   "source": [
    "We will save the model in case we would like to use it again."
   ]
  },
  {
   "cell_type": "code",
   "execution_count": 178,
   "metadata": {
    "collapsed": true
   },
   "outputs": [],
   "source": [
    "apsD2V.save('apsW2V')"
   ]
  },
  {
   "cell_type": "markdown",
   "metadata": {},
   "source": [
    "We can later load it:"
   ]
  },
  {
   "cell_type": "code",
   "execution_count": 179,
   "metadata": {
    "collapsed": true
   },
   "outputs": [],
   "source": [
    "#apsD2V = gensim.models.word2vec.Word2Vec.load('data/apsW2V')"
   ]
  },
  {
   "cell_type": "markdown",
   "metadata": {},
   "source": [
    "## <span style=\"color:red\">*Exercise 2*</span>\n",
    "\n",
    "<span style=\"color:red\">Construct cells immediately below this that build a doc2vec model with your corpus. Interrogate document and word relationships in the resulting space. Construct a heatmap that plots the distances between a subset of your documents against each other, and against a set of informative words. Find distances between *every* document in your corpus and a word or query of interest. What do these doc-doc proximities reveal about your corpus? What do these word-doc proximities highlight? Demonstrate and document one reasonable way to select a defensible subset of query-relevant documents for subsequent analysis."
   ]
  },
  {
   "cell_type": "code",
   "execution_count": 534,
   "metadata": {},
   "outputs": [],
   "source": [
    "keywords = ['men', 'women', 'children', 'home', 'work', 'business', 'school', ]\n",
    "#When running the doc2vec I always got \"unhashable type: 'list'\". I'm not exactly\n",
    "#sure why so running your code here to tokenize anew is a quick and dirty fix here.\n",
    "discussions['tokenized_words2'] = discussions['Statement'].apply(lambda x: nltk.word_tokenize(x))\n",
    "discussions['normalized_words2'] = discussions['tokenized_words2'].apply(lambda x: lucem_illud.normalizeTokens(x, stopwordLst = lucem_illud.stop_words_basic, stemmer = None))"
   ]
  },
  {
   "cell_type": "code",
   "execution_count": 535,
   "metadata": {},
   "outputs": [],
   "source": [
    "taggedDocs = []\n",
    "for index, row in discussions.iterrows():\n",
    "    #Just doing a simple keyword assignment\n",
    "    docKeywords = [s for s in keywords if s in row['normalized_words2']]\n",
    "    docKeywords.append(row['Unnamed: 0'])\n",
    "    taggedDocs.append(gensim.models.doc2vec.LabeledSentence(words = row['normalized_words2'], tags = docKeywords))\n",
    "discussions['Tagged_text'] = taggedDocs"
   ]
  },
  {
   "cell_type": "code",
   "execution_count": 507,
   "metadata": {},
   "outputs": [],
   "source": [
    "discussionsD2V = gensim.models.doc2vec.Doc2Vec(discussions['Tagged_text'], size = 50)"
   ]
  },
  {
   "cell_type": "code",
   "execution_count": 508,
   "metadata": {},
   "outputs": [
    {
     "data": {
      "text/plain": [
       "[('business', 0.9996601939201355),\n",
       " (1500, 0.9993970394134521),\n",
       " ('school', 0.9993402361869812),\n",
       " (1497, 0.9992791414260864),\n",
       " (1495, 0.9992693662643433)]"
      ]
     },
     "execution_count": 508,
     "metadata": {},
     "output_type": "execute_result"
    }
   ],
   "source": [
    "#Turns. skewed towards length? Alle these are in economy session though.\n",
    "discussionsD2V.docvecs.most_similar([discussionsD2V['economy'] ], topn=5 )"
   ]
  },
  {
   "cell_type": "code",
   "execution_count": 509,
   "metadata": {},
   "outputs": [
    {
     "data": {
      "text/html": [
       "<div>\n",
       "<style scoped>\n",
       "    .dataframe tbody tr th:only-of-type {\n",
       "        vertical-align: middle;\n",
       "    }\n",
       "\n",
       "    .dataframe tbody tr th {\n",
       "        vertical-align: top;\n",
       "    }\n",
       "\n",
       "    .dataframe thead th {\n",
       "        text-align: right;\n",
       "    }\n",
       "</style>\n",
       "<table border=\"1\" class=\"dataframe\">\n",
       "  <thead>\n",
       "    <tr style=\"text-align: right;\">\n",
       "      <th></th>\n",
       "      <th>Unnamed: 0</th>\n",
       "      <th>Statement</th>\n",
       "      <th>topic</th>\n",
       "      <th>wordcount</th>\n",
       "      <th>charcount</th>\n",
       "      <th>tokenized_sents</th>\n",
       "      <th>normalized_sents</th>\n",
       "      <th>TaggedReviews</th>\n",
       "      <th>Tagged_sents</th>\n",
       "      <th>uID</th>\n",
       "      <th>tokenized_words2</th>\n",
       "      <th>normalized_words2</th>\n",
       "      <th>TaggedAbstracts</th>\n",
       "      <th>Tagged_text</th>\n",
       "    </tr>\n",
       "  </thead>\n",
       "  <tbody>\n",
       "    <tr>\n",
       "      <th>0</th>\n",
       "      <td>1</td>\n",
       "      <td>I also think get the immigrants jobs as soon ...</td>\n",
       "      <td>Immigration</td>\n",
       "      <td>37</td>\n",
       "      <td>225</td>\n",
       "      <td>[[I, also, think, get, the, immigrants, jobs, ...</td>\n",
       "      <td>[[also, think, get, immigrants, jobs, soon, po...</td>\n",
       "      <td>([[also, think, get, immigrants, jobs, soon, p...</td>\n",
       "      <td>([also, think, get, immigrants, jobs, soon, po...</td>\n",
       "      <td>11</td>\n",
       "      <td>[I, also, think, get, the, immigrants, jobs, a...</td>\n",
       "      <td>[also, think, get, immigrants, jobs, soon, pos...</td>\n",
       "      <td>([also, think, get, immigrants, jobs, soon, po...</td>\n",
       "      <td>([also, think, get, immigrants, jobs, soon, po...</td>\n",
       "    </tr>\n",
       "    <tr>\n",
       "      <th>1</th>\n",
       "      <td>2</td>\n",
       "      <td>I dont necessarily believe everyone will get ...</td>\n",
       "      <td>Immigration</td>\n",
       "      <td>44</td>\n",
       "      <td>225</td>\n",
       "      <td>[[I, dont, necessarily, believe, everyone, wil...</td>\n",
       "      <td>[[dont, necessarily, believe, everyone, get], ...</td>\n",
       "      <td>([[dont, necessarily, believe, everyone, get],...</td>\n",
       "      <td>([dont, necessarily, believe, everyone, get, b...</td>\n",
       "      <td>22</td>\n",
       "      <td>[I, dont, necessarily, believe, everyone, will...</td>\n",
       "      <td>[dont, necessarily, believe, everyone, get, be...</td>\n",
       "      <td>([dont, necessarily, believe, everyone, get, b...</td>\n",
       "      <td>([dont, necessarily, believe, everyone, get, b...</td>\n",
       "    </tr>\n",
       "    <tr>\n",
       "      <th>2</th>\n",
       "      <td>3</td>\n",
       "      <td>Regarding immigration, there will be more. We...</td>\n",
       "      <td>Immigration</td>\n",
       "      <td>41</td>\n",
       "      <td>225</td>\n",
       "      <td>[[Regarding, immigration, ,, there, will, be, ...</td>\n",
       "      <td>[[regarding, immigration], [cant, anything], [...</td>\n",
       "      <td>([[regarding, immigration], [cant, anything], ...</td>\n",
       "      <td>([regarding, immigration, cant, anything, come...</td>\n",
       "      <td>33</td>\n",
       "      <td>[Regarding, immigration, ,, there, will, be, m...</td>\n",
       "      <td>[regarding, immigration, cant, anything, come,...</td>\n",
       "      <td>([regarding, immigration, cant, anything, come...</td>\n",
       "      <td>([regarding, immigration, cant, anything, come...</td>\n",
       "    </tr>\n",
       "    <tr>\n",
       "      <th>3</th>\n",
       "      <td>4</td>\n",
       "      <td>Yeah.  Just to maintain skills.  You spend 15...</td>\n",
       "      <td>Gender</td>\n",
       "      <td>41</td>\n",
       "      <td>225</td>\n",
       "      <td>[[Yeah, .], [Just, to, maintain, skills, .], [...</td>\n",
       "      <td>[[yeah], [maintain, skills], [spend, years, tr...</td>\n",
       "      <td>([[yeah], [maintain, skills], [spend, years, t...</td>\n",
       "      <td>([yeah, maintain, skills, spend, years, traini...</td>\n",
       "      <td>44</td>\n",
       "      <td>[Yeah, ., Just, to, maintain, skills, ., You, ...</td>\n",
       "      <td>[yeah, maintain, skills, spend, years, trainin...</td>\n",
       "      <td>([yeah, maintain, skills, spend, years, traini...</td>\n",
       "      <td>([yeah, maintain, skills, spend, years, traini...</td>\n",
       "    </tr>\n",
       "    <tr>\n",
       "      <th>4</th>\n",
       "      <td>5</td>\n",
       "      <td>Thats the question, though. We dont have mini...</td>\n",
       "      <td>Gender</td>\n",
       "      <td>41</td>\n",
       "      <td>225</td>\n",
       "      <td>[[Thats, the, question, ,, though, .], [We, do...</td>\n",
       "      <td>[[thats, question, though], [dont, minimum, wa...</td>\n",
       "      <td>([[thats, question, though], [dont, minimum, w...</td>\n",
       "      <td>([thats, question, though, dont, minimum, wage...</td>\n",
       "      <td>55</td>\n",
       "      <td>[Thats, the, question, ,, though, ., We, dont,...</td>\n",
       "      <td>[thats, question, though, dont, minimum, wages...</td>\n",
       "      <td>([thats, question, though, dont, minimum, wage...</td>\n",
       "      <td>([thats, question, though, dont, minimum, wage...</td>\n",
       "    </tr>\n",
       "    <tr>\n",
       "      <th>5</th>\n",
       "      <td>6</td>\n",
       "      <td>Always gender/common sense?16:10 involved in ...</td>\n",
       "      <td>Gender</td>\n",
       "      <td>36</td>\n",
       "      <td>225</td>\n",
       "      <td>[[Always, gender/common, sense, ?, 16:10, invo...</td>\n",
       "      <td>[[always, sense, involved, decisions], [emphas...</td>\n",
       "      <td>([[always, sense, involved, decisions], [empha...</td>\n",
       "      <td>([always, sense, involved, decisions, emphasis...</td>\n",
       "      <td>66</td>\n",
       "      <td>[Always, gender/common, sense, ?, 16:10, invol...</td>\n",
       "      <td>[always, sense, involved, decisions, emphasise...</td>\n",
       "      <td>([always, sense, involved, decisions, emphasis...</td>\n",
       "      <td>([always, sense, involved, decisions, emphasis...</td>\n",
       "    </tr>\n",
       "    <tr>\n",
       "      <th>6</th>\n",
       "      <td>7</td>\n",
       "      <td>What about working from home, then? You could...</td>\n",
       "      <td>Gender</td>\n",
       "      <td>40</td>\n",
       "      <td>225</td>\n",
       "      <td>[[What, about, working, from, home, ,, then, ?...</td>\n",
       "      <td>[[working, home], [couldnt, work, home, profes...</td>\n",
       "      <td>([[working, home], [couldnt, work, home, profe...</td>\n",
       "      <td>([working, home, couldnt, work, home, professi...</td>\n",
       "      <td>77</td>\n",
       "      <td>[What, about, working, from, home, ,, then, ?,...</td>\n",
       "      <td>[working, home, couldnt, work, home, professio...</td>\n",
       "      <td>([working, home, couldnt, work, home, professi...</td>\n",
       "      <td>([working, home, couldnt, work, home, professi...</td>\n",
       "    </tr>\n",
       "    <tr>\n",
       "      <th>7</th>\n",
       "      <td>8</td>\n",
       "      <td>But it's also about knowing what your priori...</td>\n",
       "      <td>Gender</td>\n",
       "      <td>43</td>\n",
       "      <td>225</td>\n",
       "      <td>[[But, it, 's, also, about, knowing, what, you...</td>\n",
       "      <td>[[also, knowing, priorities], [priority, child...</td>\n",
       "      <td>([[also, knowing, priorities], [priority, chil...</td>\n",
       "      <td>([also, knowing, priorities, priority, child, ...</td>\n",
       "      <td>88</td>\n",
       "      <td>[But, it, 's, also, about, knowing, what, your...</td>\n",
       "      <td>[also, knowing, priorities, priority, child, j...</td>\n",
       "      <td>([also, knowing, priorities, priority, child, ...</td>\n",
       "      <td>([also, knowing, priorities, priority, child, ...</td>\n",
       "    </tr>\n",
       "    <tr>\n",
       "      <th>8</th>\n",
       "      <td>9</td>\n",
       "      <td>Like I was saying, the larger companies coul...</td>\n",
       "      <td>Gender</td>\n",
       "      <td>40</td>\n",
       "      <td>225</td>\n",
       "      <td>[[Like, I, was, saying, ,, the, larger, compan...</td>\n",
       "      <td>[[like, saying, larger, companies, could, cert...</td>\n",
       "      <td>([[like, saying, larger, companies, could, cer...</td>\n",
       "      <td>([like, saying, larger, companies, could, cert...</td>\n",
       "      <td>99</td>\n",
       "      <td>[Like, I, was, saying, ,, the, larger, compani...</td>\n",
       "      <td>[like, saying, larger, companies, could, certa...</td>\n",
       "      <td>([like, saying, larger, companies, could, cert...</td>\n",
       "      <td>([like, saying, larger, companies, could, cert...</td>\n",
       "    </tr>\n",
       "    <tr>\n",
       "      <th>9</th>\n",
       "      <td>10</td>\n",
       "      <td>I dont think its so much less for the young b...</td>\n",
       "      <td>Generations</td>\n",
       "      <td>35</td>\n",
       "      <td>225</td>\n",
       "      <td>[[I, dont, think, its, so, much, less, for, th...</td>\n",
       "      <td>[[dont, think, much, less, young, theyre, offe...</td>\n",
       "      <td>([[dont, think, much, less, young, theyre, off...</td>\n",
       "      <td>([dont, think, much, less, young, theyre, offe...</td>\n",
       "      <td>1010</td>\n",
       "      <td>[I, dont, think, its, so, much, less, for, the...</td>\n",
       "      <td>[dont, think, much, less, young, theyre, offer...</td>\n",
       "      <td>([dont, think, much, less, young, theyre, offe...</td>\n",
       "      <td>([dont, think, much, less, young, theyre, offe...</td>\n",
       "    </tr>\n",
       "    <tr>\n",
       "      <th>10</th>\n",
       "      <td>11</td>\n",
       "      <td>But I think that Pia has a point in that if yo...</td>\n",
       "      <td>Generations</td>\n",
       "      <td>43</td>\n",
       "      <td>225</td>\n",
       "      <td>[[But, I, think, that, Pia, has, a, point, in,...</td>\n",
       "      <td>[[think, pia, point, lot, money, start, spendi...</td>\n",
       "      <td>([[think, pia, point, lot, money, start, spend...</td>\n",
       "      <td>([think, pia, point, lot, money, start, spendi...</td>\n",
       "      <td>1111</td>\n",
       "      <td>[But, I, think, that, Pia, has, a, point, in, ...</td>\n",
       "      <td>[think, pia, point, lot, money, start, spendin...</td>\n",
       "      <td>([think, pia, point, lot, money, start, spendi...</td>\n",
       "      <td>([think, pia, point, lot, money, start, spendi...</td>\n",
       "    </tr>\n",
       "    <tr>\n",
       "      <th>11</th>\n",
       "      <td>12</td>\n",
       "      <td>I believe that is one of our advantages in No...</td>\n",
       "      <td>Labour market</td>\n",
       "      <td>40</td>\n",
       "      <td>225</td>\n",
       "      <td>[[I, believe, that, is, one, of, our, advantag...</td>\n",
       "      <td>[[believe, one, advantages, norway, higher, ed...</td>\n",
       "      <td>([[believe, one, advantages, norway, higher, e...</td>\n",
       "      <td>([believe, one, advantages, norway, higher, ed...</td>\n",
       "      <td>1212</td>\n",
       "      <td>[I, believe, that, is, one, of, our, advantage...</td>\n",
       "      <td>[believe, one, advantages, norway, higher, edu...</td>\n",
       "      <td>([believe, one, advantages, norway, higher, ed...</td>\n",
       "      <td>([believe, one, advantages, norway, higher, ed...</td>\n",
       "    </tr>\n",
       "    <tr>\n",
       "      <th>12</th>\n",
       "      <td>13</td>\n",
       "      <td>But all these payments the state collects for...</td>\n",
       "      <td>Labour market</td>\n",
       "      <td>41</td>\n",
       "      <td>225</td>\n",
       "      <td>[[But, all, these, payments, the, state, colle...</td>\n",
       "      <td>[[payments, state, collects, pension, take, mo...</td>\n",
       "      <td>([[payments, state, collects, pension, take, m...</td>\n",
       "      <td>([payments, state, collects, pension, take, mo...</td>\n",
       "      <td>1313</td>\n",
       "      <td>[But, all, these, payments, the, state, collec...</td>\n",
       "      <td>[payments, state, collects, pension, take, mon...</td>\n",
       "      <td>([payments, state, collects, pension, take, mo...</td>\n",
       "      <td>([payments, state, collects, pension, take, mo...</td>\n",
       "    </tr>\n",
       "    <tr>\n",
       "      <th>13</th>\n",
       "      <td>14</td>\n",
       "      <td>It's a fact that most employers hire through...</td>\n",
       "      <td>Labour market</td>\n",
       "      <td>37</td>\n",
       "      <td>225</td>\n",
       "      <td>[[It, 's, a, fact, that, most, employers, hire...</td>\n",
       "      <td>[[fact, employers, hire, agencies], [least, co...</td>\n",
       "      <td>([[fact, employers, hire, agencies], [least, c...</td>\n",
       "      <td>([fact, employers, hire, agencies, least, comp...</td>\n",
       "      <td>1414</td>\n",
       "      <td>[It, 's, a, fact, that, most, employers, hire,...</td>\n",
       "      <td>[fact, employers, hire, agencies, least, compa...</td>\n",
       "      <td>([fact, employers, hire, agencies, least, comp...</td>\n",
       "      <td>([fact, employers, hire, agencies, least, comp...</td>\n",
       "    </tr>\n",
       "    <tr>\n",
       "      <th>14</th>\n",
       "      <td>15</td>\n",
       "      <td>I think things like university costing so muc...</td>\n",
       "      <td>Econ. Inequality</td>\n",
       "      <td>41</td>\n",
       "      <td>226</td>\n",
       "      <td>[[I, think, things, like, university, costing,...</td>\n",
       "      <td>[[think, things, like, university, costing, mu...</td>\n",
       "      <td>([[think, things, like, university, costing, m...</td>\n",
       "      <td>([think, things, like, university, costing, mu...</td>\n",
       "      <td>1515</td>\n",
       "      <td>[I, think, things, like, university, costing, ...</td>\n",
       "      <td>[think, things, like, university, costing, muc...</td>\n",
       "      <td>([think, things, like, university, costing, mu...</td>\n",
       "      <td>([think, things, like, university, costing, mu...</td>\n",
       "    </tr>\n",
       "    <tr>\n",
       "      <th>15</th>\n",
       "      <td>16</td>\n",
       "      <td>You cant have this incentive for parents to s...</td>\n",
       "      <td>Econ. Inequality</td>\n",
       "      <td>38</td>\n",
       "      <td>226</td>\n",
       "      <td>[[You, cant, have, this, incentive, for, paren...</td>\n",
       "      <td>[[cant, incentive, parents, send, children, pr...</td>\n",
       "      <td>([[cant, incentive, parents, send, children, p...</td>\n",
       "      <td>([cant, incentive, parents, send, children, pr...</td>\n",
       "      <td>1616</td>\n",
       "      <td>[You, cant, have, this, incentive, for, parent...</td>\n",
       "      <td>[cant, incentive, parents, send, children, pri...</td>\n",
       "      <td>([cant, incentive, parents, send, children, pr...</td>\n",
       "      <td>([cant, incentive, parents, send, children, pr...</td>\n",
       "    </tr>\n",
       "    <tr>\n",
       "      <th>16</th>\n",
       "      <td>17</td>\n",
       "      <td>Or that a large firm suddenly says theyre mov...</td>\n",
       "      <td>Econ. Inequality</td>\n",
       "      <td>44</td>\n",
       "      <td>226</td>\n",
       "      <td>[[Or, that, a, large, firm, suddenly, says, th...</td>\n",
       "      <td>[[large, firm, suddenly, says, theyre, moving,...</td>\n",
       "      <td>([[large, firm, suddenly, says, theyre, moving...</td>\n",
       "      <td>([large, firm, suddenly, says, theyre, moving,...</td>\n",
       "      <td>1717</td>\n",
       "      <td>[Or, that, a, large, firm, suddenly, says, the...</td>\n",
       "      <td>[large, firm, suddenly, says, theyre, moving, ...</td>\n",
       "      <td>([large, firm, suddenly, says, theyre, moving,...</td>\n",
       "      <td>([large, firm, suddenly, says, theyre, moving,...</td>\n",
       "    </tr>\n",
       "    <tr>\n",
       "      <th>17</th>\n",
       "      <td>18</td>\n",
       "      <td>There's another problem, we are small. We ar...</td>\n",
       "      <td>Econ. Inequality</td>\n",
       "      <td>43</td>\n",
       "      <td>226</td>\n",
       "      <td>[[There, 's, another, problem, ,, we, are, sma...</td>\n",
       "      <td>[[another, problem, small], [required, militar...</td>\n",
       "      <td>([[another, problem, small], [required, milita...</td>\n",
       "      <td>([another, problem, small, required, military,...</td>\n",
       "      <td>1818</td>\n",
       "      <td>[There, 's, another, problem, ,, we, are, smal...</td>\n",
       "      <td>[another, problem, small, required, military, ...</td>\n",
       "      <td>([another, problem, small, required, military,...</td>\n",
       "      <td>([another, problem, small, required, military,...</td>\n",
       "    </tr>\n",
       "    <tr>\n",
       "      <th>18</th>\n",
       "      <td>19</td>\n",
       "      <td>People are coming in and the UK has open door...</td>\n",
       "      <td>Immigration</td>\n",
       "      <td>40</td>\n",
       "      <td>226</td>\n",
       "      <td>[[People, are, coming, in, and, the, UK, has, ...</td>\n",
       "      <td>[[people, coming, uk, open, doors, everybody, ...</td>\n",
       "      <td>([[people, coming, uk, open, doors, everybody,...</td>\n",
       "      <td>([people, coming, uk, open, doors, everybody, ...</td>\n",
       "      <td>1919</td>\n",
       "      <td>[People, are, coming, in, and, the, UK, has, o...</td>\n",
       "      <td>[people, coming, uk, open, doors, everybody, w...</td>\n",
       "      <td>([people, coming, uk, open, doors, everybody, ...</td>\n",
       "      <td>([people, coming, uk, open, doors, everybody, ...</td>\n",
       "    </tr>\n",
       "    <tr>\n",
       "      <th>19</th>\n",
       "      <td>20</td>\n",
       "      <td>I think we should expect more migration in ge...</td>\n",
       "      <td>Immigration</td>\n",
       "      <td>39</td>\n",
       "      <td>226</td>\n",
       "      <td>[[I, think, we, should, expect, more, migratio...</td>\n",
       "      <td>[[think, expect, migration, general, surprised...</td>\n",
       "      <td>([[think, expect, migration, general, surprise...</td>\n",
       "      <td>([think, expect, migration, general, surprised...</td>\n",
       "      <td>2020</td>\n",
       "      <td>[I, think, we, should, expect, more, migration...</td>\n",
       "      <td>[think, expect, migration, general, surprised,...</td>\n",
       "      <td>([think, expect, migration, general, surprised...</td>\n",
       "      <td>([think, expect, migration, general, surprised...</td>\n",
       "    </tr>\n",
       "    <tr>\n",
       "      <th>20</th>\n",
       "      <td>21</td>\n",
       "      <td>Then theyll all need support and social tran...</td>\n",
       "      <td>Immigration</td>\n",
       "      <td>37</td>\n",
       "      <td>226</td>\n",
       "      <td>[[Then, theyll, all, need, support, and, socia...</td>\n",
       "      <td>[[theyll, need, support, social, transfers, pr...</td>\n",
       "      <td>([[theyll, need, support, social, transfers, p...</td>\n",
       "      <td>([theyll, need, support, social, transfers, pr...</td>\n",
       "      <td>2121</td>\n",
       "      <td>[Then, theyll, all, need, support, and, social...</td>\n",
       "      <td>[theyll, need, support, social, transfers, pre...</td>\n",
       "      <td>([theyll, need, support, social, transfers, pr...</td>\n",
       "      <td>([theyll, need, support, social, transfers, pr...</td>\n",
       "    </tr>\n",
       "    <tr>\n",
       "      <th>21</th>\n",
       "      <td>22</td>\n",
       "      <td>Well, its two-sided . My wife and I, we both ...</td>\n",
       "      <td>Gender</td>\n",
       "      <td>44</td>\n",
       "      <td>226</td>\n",
       "      <td>[[Well, ,, its, two-sided, .], [My, wife, and,...</td>\n",
       "      <td>[[well], [wife, work, hours, day, whoever, get...</td>\n",
       "      <td>([[well], [wife, work, hours, day, whoever, ge...</td>\n",
       "      <td>([well, wife, work, hours, day, whoever, gets,...</td>\n",
       "      <td>2222</td>\n",
       "      <td>[Well, ,, its, two-sided, ., My, wife, and, I,...</td>\n",
       "      <td>[well, wife, work, hours, day, whoever, gets, ...</td>\n",
       "      <td>([well, wife, work, hours, day, whoever, gets,...</td>\n",
       "      <td>([well, wife, work, hours, day, whoever, gets,...</td>\n",
       "    </tr>\n",
       "    <tr>\n",
       "      <th>22</th>\n",
       "      <td>23</td>\n",
       "      <td>you know, what plans youve got for the future...</td>\n",
       "      <td>Generations</td>\n",
       "      <td>49</td>\n",
       "      <td>226</td>\n",
       "      <td>[[you, know, ,, what, plans, youve, got, for, ...</td>\n",
       "      <td>[[know, plans, youve, got, future], [mean, im,...</td>\n",
       "      <td>([[know, plans, youve, got, future], [mean, im...</td>\n",
       "      <td>([know, plans, youve, got, future, mean, im, t...</td>\n",
       "      <td>2323</td>\n",
       "      <td>[you, know, ,, what, plans, youve, got, for, t...</td>\n",
       "      <td>[know, plans, youve, got, future, mean, im, ti...</td>\n",
       "      <td>([know, plans, youve, got, future, mean, im, t...</td>\n",
       "      <td>([know, plans, youve, got, future, mean, im, t...</td>\n",
       "    </tr>\n",
       "    <tr>\n",
       "      <th>23</th>\n",
       "      <td>24</td>\n",
       "      <td>If you think our youth have problems, imagine...</td>\n",
       "      <td>Generations</td>\n",
       "      <td>42</td>\n",
       "      <td>226</td>\n",
       "      <td>[[If, you, think, our, youth, have, problems, ...</td>\n",
       "      <td>[[think, youth, problems, imagine, getting, im...</td>\n",
       "      <td>([[think, youth, problems, imagine, getting, i...</td>\n",
       "      <td>([think, youth, problems, imagine, getting, im...</td>\n",
       "      <td>2424</td>\n",
       "      <td>[If, you, think, our, youth, have, problems, ,...</td>\n",
       "      <td>[think, youth, problems, imagine, getting, imm...</td>\n",
       "      <td>([think, youth, problems, imagine, getting, im...</td>\n",
       "      <td>([think, youth, problems, imagine, getting, im...</td>\n",
       "    </tr>\n",
       "    <tr>\n",
       "      <th>24</th>\n",
       "      <td>25</td>\n",
       "      <td>State supervision. The ministry of labour an...</td>\n",
       "      <td>Generations</td>\n",
       "      <td>37</td>\n",
       "      <td>226</td>\n",
       "      <td>[[State, supervision, .], [The, ministry, of, ...</td>\n",
       "      <td>[[state, supervision], [ministry, labour, fami...</td>\n",
       "      <td>([[state, supervision], [ministry, labour, fam...</td>\n",
       "      <td>([state, supervision, ministry, labour, family...</td>\n",
       "      <td>2525</td>\n",
       "      <td>[State, supervision, ., The, ministry, of, lab...</td>\n",
       "      <td>[state, supervision, ministry, labour, family,...</td>\n",
       "      <td>([state, supervision, ministry, labour, family...</td>\n",
       "      <td>([state, supervision, ministry, labour, family...</td>\n",
       "    </tr>\n",
       "    <tr>\n",
       "      <th>25</th>\n",
       "      <td>26</td>\n",
       "      <td>Thats right, after all, everything, because ...</td>\n",
       "      <td>Generations</td>\n",
       "      <td>39</td>\n",
       "      <td>226</td>\n",
       "      <td>[[Thats, right, ,, after, all, ,, everything, ...</td>\n",
       "      <td>[[thats, right, everything, old, age, like], [...</td>\n",
       "      <td>([[thats, right, everything, old, age, like], ...</td>\n",
       "      <td>([thats, right, everything, old, age, like, do...</td>\n",
       "      <td>2626</td>\n",
       "      <td>[Thats, right, ,, after, all, ,, everything, ,...</td>\n",
       "      <td>[thats, right, everything, old, age, like, don...</td>\n",
       "      <td>([thats, right, everything, old, age, like, do...</td>\n",
       "      <td>([thats, right, everything, old, age, like, do...</td>\n",
       "    </tr>\n",
       "    <tr>\n",
       "      <th>26</th>\n",
       "      <td>27</td>\n",
       "      <td>And youd want to live at home longer. Now, i...</td>\n",
       "      <td>Generations</td>\n",
       "      <td>42</td>\n",
       "      <td>226</td>\n",
       "      <td>[[And, youd, want, to, live, at, home, longer,...</td>\n",
       "      <td>[[youd, want, live, home, longer], [home, care...</td>\n",
       "      <td>([[youd, want, live, home, longer], [home, car...</td>\n",
       "      <td>([youd, want, live, home, longer, home, care, ...</td>\n",
       "      <td>2727</td>\n",
       "      <td>[And, youd, want, to, live, at, home, longer, ...</td>\n",
       "      <td>[youd, want, live, home, longer, home, care, a...</td>\n",
       "      <td>([youd, want, live, home, longer, home, care, ...</td>\n",
       "      <td>([youd, want, live, home, longer, home, care, ...</td>\n",
       "    </tr>\n",
       "    <tr>\n",
       "      <th>27</th>\n",
       "      <td>28</td>\n",
       "      <td>I disagree with you, because were talking ab...</td>\n",
       "      <td>Generations</td>\n",
       "      <td>45</td>\n",
       "      <td>226</td>\n",
       "      <td>[[I, disagree, with, you, ,, because, were, ta...</td>\n",
       "      <td>[[disagree, talking, years, future, minimum, w...</td>\n",
       "      <td>([[disagree, talking, years, future, minimum, ...</td>\n",
       "      <td>([disagree, talking, years, future, minimum, w...</td>\n",
       "      <td>2828</td>\n",
       "      <td>[I, disagree, with, you, ,, because, were, tal...</td>\n",
       "      <td>[disagree, talking, years, future, minimum, wa...</td>\n",
       "      <td>([disagree, talking, years, future, minimum, w...</td>\n",
       "      <td>([disagree, talking, years, future, minimum, w...</td>\n",
       "    </tr>\n",
       "    <tr>\n",
       "      <th>28</th>\n",
       "      <td>29</td>\n",
       "      <td>That means getting more people involved, so ...</td>\n",
       "      <td>Labour market</td>\n",
       "      <td>43</td>\n",
       "      <td>226</td>\n",
       "      <td>[[That, means, getting, more, people, involved...</td>\n",
       "      <td>[[means, getting, people, involved, told, good...</td>\n",
       "      <td>([[means, getting, people, involved, told, goo...</td>\n",
       "      <td>([means, getting, people, involved, told, good...</td>\n",
       "      <td>2929</td>\n",
       "      <td>[That, means, getting, more, people, involved,...</td>\n",
       "      <td>[means, getting, people, involved, told, good,...</td>\n",
       "      <td>([means, getting, people, involved, told, good...</td>\n",
       "      <td>([means, getting, people, involved, told, good...</td>\n",
       "    </tr>\n",
       "    <tr>\n",
       "      <th>29</th>\n",
       "      <td>30</td>\n",
       "      <td>To expand, with the help of job requirements...</td>\n",
       "      <td>Labour market</td>\n",
       "      <td>40</td>\n",
       "      <td>226</td>\n",
       "      <td>[[To, expand, ,, with, the, help, of, job, req...</td>\n",
       "      <td>[[expand, help, job, requirements, know, econo...</td>\n",
       "      <td>([[expand, help, job, requirements, know, econ...</td>\n",
       "      <td>([expand, help, job, requirements, know, econo...</td>\n",
       "      <td>3030</td>\n",
       "      <td>[To, expand, ,, with, the, help, of, job, requ...</td>\n",
       "      <td>[expand, help, job, requirements, know, econom...</td>\n",
       "      <td>([expand, help, job, requirements, know, econo...</td>\n",
       "      <td>([expand, help, job, requirements, know, econo...</td>\n",
       "    </tr>\n",
       "    <tr>\n",
       "      <th>...</th>\n",
       "      <td>...</td>\n",
       "      <td>...</td>\n",
       "      <td>...</td>\n",
       "      <td>...</td>\n",
       "      <td>...</td>\n",
       "      <td>...</td>\n",
       "      <td>...</td>\n",
       "      <td>...</td>\n",
       "      <td>...</td>\n",
       "      <td>...</td>\n",
       "      <td>...</td>\n",
       "      <td>...</td>\n",
       "      <td>...</td>\n",
       "      <td>...</td>\n",
       "    </tr>\n",
       "    <tr>\n",
       "      <th>1470</th>\n",
       "      <td>1471</td>\n",
       "      <td>Yes, everyone should be allowed to be with th...</td>\n",
       "      <td>Immigration</td>\n",
       "      <td>137</td>\n",
       "      <td>785</td>\n",
       "      <td>[[Yes, ,, everyone, should, be, allowed, to, b...</td>\n",
       "      <td>[[yes, everyone, allowed, person, love, regard...</td>\n",
       "      <td>([[yes, everyone, allowed, person, love, regar...</td>\n",
       "      <td>([yes, everyone, allowed, person, love, regard...</td>\n",
       "      <td>14711471</td>\n",
       "      <td>[Yes, ,, everyone, should, be, allowed, to, be...</td>\n",
       "      <td>[yes, everyone, allowed, person, love, regardl...</td>\n",
       "      <td>([yes, everyone, allowed, person, love, regard...</td>\n",
       "      <td>([yes, everyone, allowed, person, love, regard...</td>\n",
       "    </tr>\n",
       "    <tr>\n",
       "      <th>1471</th>\n",
       "      <td>1472</td>\n",
       "      <td>No, I am talking generally here. For example...</td>\n",
       "      <td>Generations</td>\n",
       "      <td>155</td>\n",
       "      <td>790</td>\n",
       "      <td>[[No, ,, I, am, talking, generally, here, .], ...</td>\n",
       "      <td>[[talking, generally], [example, younger, gene...</td>\n",
       "      <td>([[talking, generally], [example, younger, gen...</td>\n",
       "      <td>([talking, generally, example, younger, genera...</td>\n",
       "      <td>14721472</td>\n",
       "      <td>[No, ,, I, am, talking, generally, here, ., Fo...</td>\n",
       "      <td>[talking, generally, example, younger, generat...</td>\n",
       "      <td>([talking, generally, example, younger, genera...</td>\n",
       "      <td>([talking, generally, example, younger, genera...</td>\n",
       "    </tr>\n",
       "    <tr>\n",
       "      <th>1472</th>\n",
       "      <td>1473</td>\n",
       "      <td>Also, it's far more interesting to discuss wha...</td>\n",
       "      <td>Immigration</td>\n",
       "      <td>134</td>\n",
       "      <td>791</td>\n",
       "      <td>[[Also, ,, it, 's, far, more, interesting, to,...</td>\n",
       "      <td>[[also, far, interesting, discuss, want, get, ...</td>\n",
       "      <td>([[also, far, interesting, discuss, want, get,...</td>\n",
       "      <td>([also, far, interesting, discuss, want, get, ...</td>\n",
       "      <td>14731473</td>\n",
       "      <td>[Also, ,, it, 's, far, more, interesting, to, ...</td>\n",
       "      <td>[also, far, interesting, discuss, want, get, f...</td>\n",
       "      <td>([also, far, interesting, discuss, want, get, ...</td>\n",
       "      <td>([also, far, interesting, discuss, want, get, ...</td>\n",
       "    </tr>\n",
       "    <tr>\n",
       "      <th>1473</th>\n",
       "      <td>1474</td>\n",
       "      <td>That's what the statistics are showing. Here...</td>\n",
       "      <td>Gender</td>\n",
       "      <td>144</td>\n",
       "      <td>794</td>\n",
       "      <td>[[That, 's, what, the, statistics, are, showin...</td>\n",
       "      <td>[[statistics, showing], [say, volunteered, per...</td>\n",
       "      <td>([[statistics, showing], [say, volunteered, pe...</td>\n",
       "      <td>([statistics, showing, say, volunteered, perso...</td>\n",
       "      <td>14741474</td>\n",
       "      <td>[That, 's, what, the, statistics, are, showing...</td>\n",
       "      <td>[statistics, showing, say, volunteered, person...</td>\n",
       "      <td>([statistics, showing, say, volunteered, perso...</td>\n",
       "      <td>([statistics, showing, say, volunteered, perso...</td>\n",
       "    </tr>\n",
       "    <tr>\n",
       "      <th>1474</th>\n",
       "      <td>1475</td>\n",
       "      <td>Since our country is lacking certain profile...</td>\n",
       "      <td>Immigration</td>\n",
       "      <td>135</td>\n",
       "      <td>795</td>\n",
       "      <td>[[Since, our, country, is, lacking, certain, p...</td>\n",
       "      <td>[[since, country, lacking, certain, profiles, ...</td>\n",
       "      <td>([[since, country, lacking, certain, profiles,...</td>\n",
       "      <td>([since, country, lacking, certain, profiles, ...</td>\n",
       "      <td>14751475</td>\n",
       "      <td>[Since, our, country, is, lacking, certain, pr...</td>\n",
       "      <td>[since, country, lacking, certain, profiles, p...</td>\n",
       "      <td>([since, country, lacking, certain, profiles, ...</td>\n",
       "      <td>([since, country, lacking, certain, profiles, ...</td>\n",
       "    </tr>\n",
       "    <tr>\n",
       "      <th>1475</th>\n",
       "      <td>1476</td>\n",
       "      <td>Then were again on that where we have too ma...</td>\n",
       "      <td>Labour market</td>\n",
       "      <td>138</td>\n",
       "      <td>796</td>\n",
       "      <td>[[Then, were, again, on, that, where, we, have...</td>\n",
       "      <td>[[many, public, servants, many, public, works]...</td>\n",
       "      <td>([[many, public, servants, many, public, works...</td>\n",
       "      <td>([many, public, servants, many, public, works,...</td>\n",
       "      <td>14761476</td>\n",
       "      <td>[Then, were, again, on, that, where, we, have,...</td>\n",
       "      <td>[many, public, servants, many, public, works, ...</td>\n",
       "      <td>([many, public, servants, many, public, works,...</td>\n",
       "      <td>([many, public, servants, many, public, works,...</td>\n",
       "    </tr>\n",
       "    <tr>\n",
       "      <th>1476</th>\n",
       "      <td>1477</td>\n",
       "      <td>Decent old age. And so that people are not a...</td>\n",
       "      <td>Generations</td>\n",
       "      <td>150</td>\n",
       "      <td>798</td>\n",
       "      <td>[[Decent, old, age, .], [And, so, that, people...</td>\n",
       "      <td>[[decent, old, age], [people, afraid, say, kno...</td>\n",
       "      <td>([[decent, old, age], [people, afraid, say, kn...</td>\n",
       "      <td>([decent, old, age, people, afraid, say, know,...</td>\n",
       "      <td>14771477</td>\n",
       "      <td>[Decent, old, age, ., And, so, that, people, a...</td>\n",
       "      <td>[decent, old, age, people, afraid, say, know, ...</td>\n",
       "      <td>([decent, old, age, people, afraid, say, know,...</td>\n",
       "      <td>([decent, old, age, people, afraid, say, know,...</td>\n",
       "    </tr>\n",
       "    <tr>\n",
       "      <th>1477</th>\n",
       "      <td>1478</td>\n",
       "      <td>The minimum old-age pension has stagnated now ...</td>\n",
       "      <td>Generations</td>\n",
       "      <td>140</td>\n",
       "      <td>801</td>\n",
       "      <td>[[The, minimum, old-age, pension, has, stagnat...</td>\n",
       "      <td>[[minimum, pension, stagnated], [linked, chang...</td>\n",
       "      <td>([[minimum, pension, stagnated], [linked, chan...</td>\n",
       "      <td>([minimum, pension, stagnated, linked, changes...</td>\n",
       "      <td>14781478</td>\n",
       "      <td>[The, minimum, old-age, pension, has, stagnate...</td>\n",
       "      <td>[minimum, pension, stagnated, linked, changes,...</td>\n",
       "      <td>([minimum, pension, stagnated, linked, changes...</td>\n",
       "      <td>([minimum, pension, stagnated, linked, changes...</td>\n",
       "    </tr>\n",
       "    <tr>\n",
       "      <th>1478</th>\n",
       "      <td>1479</td>\n",
       "      <td>31 mentioned anxiety. I also wrote that. I th...</td>\n",
       "      <td>Econ. Inequality</td>\n",
       "      <td>142</td>\n",
       "      <td>807</td>\n",
       "      <td>[[31, mentioned, anxiety, .], [I, also, wrote,...</td>\n",
       "      <td>[[mentioned, anxiety], [also, wrote], [thought...</td>\n",
       "      <td>([[mentioned, anxiety], [also, wrote], [though...</td>\n",
       "      <td>([mentioned, anxiety, also, wrote, thought, pe...</td>\n",
       "      <td>14791479</td>\n",
       "      <td>[31, mentioned, anxiety, ., I, also, wrote, th...</td>\n",
       "      <td>[mentioned, anxiety, also, wrote, thought, per...</td>\n",
       "      <td>([mentioned, anxiety, also, wrote, thought, pe...</td>\n",
       "      <td>([mentioned, anxiety, also, wrote, thought, pe...</td>\n",
       "    </tr>\n",
       "    <tr>\n",
       "      <th>1479</th>\n",
       "      <td>1480</td>\n",
       "      <td>I'm going to start with a controversial point ...</td>\n",
       "      <td>Generations</td>\n",
       "      <td>153</td>\n",
       "      <td>819</td>\n",
       "      <td>[[I, 'm, going, to, start, with, a, controvers...</td>\n",
       "      <td>[[going, start, controversial, point, view], [...</td>\n",
       "      <td>([[going, start, controversial, point, view], ...</td>\n",
       "      <td>([going, start, controversial, point, view, ta...</td>\n",
       "      <td>14801480</td>\n",
       "      <td>[I, 'm, going, to, start, with, a, controversi...</td>\n",
       "      <td>[going, start, controversial, point, view, tal...</td>\n",
       "      <td>([going, start, controversial, point, view, ta...</td>\n",
       "      <td>([going, start, controversial, point, view, ta...</td>\n",
       "    </tr>\n",
       "    <tr>\n",
       "      <th>1480</th>\n",
       "      <td>1481</td>\n",
       "      <td>I thought that we have to be concerned about ...</td>\n",
       "      <td>Labour market</td>\n",
       "      <td>144</td>\n",
       "      <td>820</td>\n",
       "      <td>[[I, thought, that, we, have, to, be, concerne...</td>\n",
       "      <td>[[thought, concerned, creating, jobs, everyone...</td>\n",
       "      <td>([[thought, concerned, creating, jobs, everyon...</td>\n",
       "      <td>([thought, concerned, creating, jobs, everyone...</td>\n",
       "      <td>14811481</td>\n",
       "      <td>[I, thought, that, we, have, to, be, concerned...</td>\n",
       "      <td>[thought, concerned, creating, jobs, everyone,...</td>\n",
       "      <td>([thought, concerned, creating, jobs, everyone...</td>\n",
       "      <td>([thought, concerned, creating, jobs, everyone...</td>\n",
       "    </tr>\n",
       "    <tr>\n",
       "      <th>1481</th>\n",
       "      <td>1482</td>\n",
       "      <td>DREAM is an acronym created by some communicat...</td>\n",
       "      <td>Labour market</td>\n",
       "      <td>142</td>\n",
       "      <td>833</td>\n",
       "      <td>[[DREAM, is, an, acronym, created, by, some, c...</td>\n",
       "      <td>[[dream, acronym, created, communication, stud...</td>\n",
       "      <td>([[dream, acronym, created, communication, stu...</td>\n",
       "      <td>([dream, acronym, created, communication, stud...</td>\n",
       "      <td>14821482</td>\n",
       "      <td>[DREAM, is, an, acronym, created, by, some, co...</td>\n",
       "      <td>[dream, acronym, created, communication, studi...</td>\n",
       "      <td>([dream, acronym, created, communication, stud...</td>\n",
       "      <td>([dream, acronym, created, communication, stud...</td>\n",
       "    </tr>\n",
       "    <tr>\n",
       "      <th>1482</th>\n",
       "      <td>1483</td>\n",
       "      <td>Is it problems with wage inequalities or not?...</td>\n",
       "      <td>Econ. Inequality</td>\n",
       "      <td>150</td>\n",
       "      <td>838</td>\n",
       "      <td>[[Is, it, problems, with, wage, inequalities, ...</td>\n",
       "      <td>[[problems, wage, inequalities], [believe, cre...</td>\n",
       "      <td>([[problems, wage, inequalities], [believe, cr...</td>\n",
       "      <td>([problems, wage, inequalities, believe, creat...</td>\n",
       "      <td>14831483</td>\n",
       "      <td>[Is, it, problems, with, wage, inequalities, o...</td>\n",
       "      <td>[problems, wage, inequalities, believe, create...</td>\n",
       "      <td>([problems, wage, inequalities, believe, creat...</td>\n",
       "      <td>([problems, wage, inequalities, believe, creat...</td>\n",
       "    </tr>\n",
       "    <tr>\n",
       "      <th>1483</th>\n",
       "      <td>1484</td>\n",
       "      <td>I'm not a fan of that type of planned economy ...</td>\n",
       "      <td>Generations</td>\n",
       "      <td>153</td>\n",
       "      <td>860</td>\n",
       "      <td>[[I, 'm, not, a, fan, of, that, type, of, plan...</td>\n",
       "      <td>[[fan, type, planned, economy, way, thinking],...</td>\n",
       "      <td>([[fan, type, planned, economy, way, thinking]...</td>\n",
       "      <td>([fan, type, planned, economy, way, thinking, ...</td>\n",
       "      <td>14841484</td>\n",
       "      <td>[I, 'm, not, a, fan, of, that, type, of, plann...</td>\n",
       "      <td>[fan, type, planned, economy, way, thinking, s...</td>\n",
       "      <td>([fan, type, planned, economy, way, thinking, ...</td>\n",
       "      <td>([fan, type, planned, economy, way, thinking, ...</td>\n",
       "    </tr>\n",
       "    <tr>\n",
       "      <th>1484</th>\n",
       "      <td>1485</td>\n",
       "      <td>As Jacob just said, saving on activation and j...</td>\n",
       "      <td>Labour market</td>\n",
       "      <td>165</td>\n",
       "      <td>878</td>\n",
       "      <td>[[As, Jacob, just, said, ,, saving, on, activa...</td>\n",
       "      <td>[[jacob, said, saving, activation, job, centre...</td>\n",
       "      <td>([[jacob, said, saving, activation, job, centr...</td>\n",
       "      <td>([jacob, said, saving, activation, job, centre...</td>\n",
       "      <td>14851485</td>\n",
       "      <td>[As, Jacob, just, said, ,, saving, on, activat...</td>\n",
       "      <td>[jacob, said, saving, activation, job, centres...</td>\n",
       "      <td>([jacob, said, saving, activation, job, centre...</td>\n",
       "      <td>([jacob, said, saving, activation, job, centre...</td>\n",
       "    </tr>\n",
       "    <tr>\n",
       "      <th>1485</th>\n",
       "      <td>1486</td>\n",
       "      <td>I think that, regarding equalities I mean, I...</td>\n",
       "      <td>Gender</td>\n",
       "      <td>174</td>\n",
       "      <td>888</td>\n",
       "      <td>[[I, think, that, ,, regarding, equalities, I,...</td>\n",
       "      <td>[[think, regarding, equalities, mean, doubt, w...</td>\n",
       "      <td>([[think, regarding, equalities, mean, doubt, ...</td>\n",
       "      <td>([think, regarding, equalities, mean, doubt, w...</td>\n",
       "      <td>14861486</td>\n",
       "      <td>[I, think, that, ,, regarding, equalities, I, ...</td>\n",
       "      <td>[think, regarding, equalities, mean, doubt, we...</td>\n",
       "      <td>([think, regarding, equalities, mean, doubt, w...</td>\n",
       "      <td>([think, regarding, equalities, mean, doubt, w...</td>\n",
       "    </tr>\n",
       "    <tr>\n",
       "      <th>1486</th>\n",
       "      <td>1487</td>\n",
       "      <td>I work with this and I've defined some of thes...</td>\n",
       "      <td>Labour market</td>\n",
       "      <td>155</td>\n",
       "      <td>891</td>\n",
       "      <td>[[I, work, with, this, and, I, 've, defined, s...</td>\n",
       "      <td>[[work, defined, things, together, ministry, e...</td>\n",
       "      <td>([[work, defined, things, together, ministry, ...</td>\n",
       "      <td>([work, defined, things, together, ministry, e...</td>\n",
       "      <td>14871487</td>\n",
       "      <td>[I, work, with, this, and, I, 've, defined, so...</td>\n",
       "      <td>[work, defined, things, together, ministry, em...</td>\n",
       "      <td>([work, defined, things, together, ministry, e...</td>\n",
       "      <td>([work, defined, things, together, ministry, e...</td>\n",
       "    </tr>\n",
       "    <tr>\n",
       "      <th>1487</th>\n",
       "      <td>1488</td>\n",
       "      <td>I've lived here for 15 years and I've experien...</td>\n",
       "      <td>Immigration</td>\n",
       "      <td>171</td>\n",
       "      <td>925</td>\n",
       "      <td>[[I, 've, lived, here, for, 15, years, and, I,...</td>\n",
       "      <td>[[lived, years, experienced, racism, several, ...</td>\n",
       "      <td>([[lived, years, experienced, racism, several,...</td>\n",
       "      <td>([lived, years, experienced, racism, several, ...</td>\n",
       "      <td>14881488</td>\n",
       "      <td>[I, 've, lived, here, for, 15, years, and, I, ...</td>\n",
       "      <td>[lived, years, experienced, racism, several, t...</td>\n",
       "      <td>([lived, years, experienced, racism, several, ...</td>\n",
       "      <td>([lived, years, experienced, racism, several, ...</td>\n",
       "    </tr>\n",
       "    <tr>\n",
       "      <th>1488</th>\n",
       "      <td>1489</td>\n",
       "      <td>So I'll write that the downside is a control f...</td>\n",
       "      <td>Labour market</td>\n",
       "      <td>164</td>\n",
       "      <td>937</td>\n",
       "      <td>[[So, I, 'll, write, that, the, downside, is, ...</td>\n",
       "      <td>[[write, downside, control, function, whether,...</td>\n",
       "      <td>([[write, downside, control, function, whether...</td>\n",
       "      <td>([write, downside, control, function, whether,...</td>\n",
       "      <td>14891489</td>\n",
       "      <td>[So, I, 'll, write, that, the, downside, is, a...</td>\n",
       "      <td>[write, downside, control, function, whether, ...</td>\n",
       "      <td>([write, downside, control, function, whether,...</td>\n",
       "      <td>([write, downside, control, function, whether,...</td>\n",
       "    </tr>\n",
       "    <tr>\n",
       "      <th>1489</th>\n",
       "      <td>1490</td>\n",
       "      <td>I very much agree with everything being said...</td>\n",
       "      <td>Labour market</td>\n",
       "      <td>176</td>\n",
       "      <td>990</td>\n",
       "      <td>[[I, very, much, agree, with, everything, bein...</td>\n",
       "      <td>[[much, agree, everything, said, something, co...</td>\n",
       "      <td>([[much, agree, everything, said, something, c...</td>\n",
       "      <td>([much, agree, everything, said, something, co...</td>\n",
       "      <td>14901490</td>\n",
       "      <td>[I, very, much, agree, with, everything, being...</td>\n",
       "      <td>[much, agree, everything, said, something, cou...</td>\n",
       "      <td>([much, agree, everything, said, something, co...</td>\n",
       "      <td>([much, agree, everything, said, something, co...</td>\n",
       "    </tr>\n",
       "    <tr>\n",
       "      <th>1490</th>\n",
       "      <td>1491</td>\n",
       "      <td>Everyone's welcome in Denmark, if they contrib...</td>\n",
       "      <td>Immigration</td>\n",
       "      <td>170</td>\n",
       "      <td>1006</td>\n",
       "      <td>[[Everyone, 's, welcome, in, Denmark, ,, if, t...</td>\n",
       "      <td>[[everyone, welcome, denmark, contribute], [ha...</td>\n",
       "      <td>([[everyone, welcome, denmark, contribute], [h...</td>\n",
       "      <td>([everyone, welcome, denmark, contribute, hand...</td>\n",
       "      <td>14911491</td>\n",
       "      <td>[Everyone, 's, welcome, in, Denmark, ,, if, th...</td>\n",
       "      <td>[everyone, welcome, denmark, contribute, hand,...</td>\n",
       "      <td>([everyone, welcome, denmark, contribute, hand...</td>\n",
       "      <td>([everyone, welcome, denmark, contribute, hand...</td>\n",
       "    </tr>\n",
       "    <tr>\n",
       "      <th>1491</th>\n",
       "      <td>1492</td>\n",
       "      <td>I think that's a good point. A few years ago t...</td>\n",
       "      <td>Immigration</td>\n",
       "      <td>193</td>\n",
       "      <td>1040</td>\n",
       "      <td>[[I, think, that, 's, a, good, point, .], [A, ...</td>\n",
       "      <td>[[think, good, point], [years, ago, city, cope...</td>\n",
       "      <td>([[think, good, point], [years, ago, city, cop...</td>\n",
       "      <td>([think, good, point, years, ago, city, copenh...</td>\n",
       "      <td>14921492</td>\n",
       "      <td>[I, think, that, 's, a, good, point, ., A, few...</td>\n",
       "      <td>[think, good, point, years, ago, city, copenha...</td>\n",
       "      <td>([think, good, point, years, ago, city, copenh...</td>\n",
       "      <td>([think, good, point, years, ago, city, copenh...</td>\n",
       "    </tr>\n",
       "    <tr>\n",
       "      <th>1492</th>\n",
       "      <td>1493</td>\n",
       "      <td>Could be, that he or she will take it elsewh...</td>\n",
       "      <td>Econ. Inequality</td>\n",
       "      <td>211</td>\n",
       "      <td>1060</td>\n",
       "      <td>[[Could, be, ,, that, he, or, she, will, take,...</td>\n",
       "      <td>[[could, take, elsewhere, also, difficult, els...</td>\n",
       "      <td>([[could, take, elsewhere, also, difficult, el...</td>\n",
       "      <td>([could, take, elsewhere, also, difficult, els...</td>\n",
       "      <td>14931493</td>\n",
       "      <td>[Could, be, ,, that, he, or, she, will, take, ...</td>\n",
       "      <td>[could, take, elsewhere, also, difficult, else...</td>\n",
       "      <td>([could, take, elsewhere, also, difficult, els...</td>\n",
       "      <td>([could, take, elsewhere, also, difficult, els...</td>\n",
       "    </tr>\n",
       "    <tr>\n",
       "      <th>1493</th>\n",
       "      <td>1494</td>\n",
       "      <td>Here we have a situation where one's talking a...</td>\n",
       "      <td>Econ. Inequality</td>\n",
       "      <td>186</td>\n",
       "      <td>1079</td>\n",
       "      <td>[[Here, we, have, a, situation, where, one, 's...</td>\n",
       "      <td>[[situation, one, talking, social, aspects, ne...</td>\n",
       "      <td>([[situation, one, talking, social, aspects, n...</td>\n",
       "      <td>([situation, one, talking, social, aspects, ne...</td>\n",
       "      <td>14941494</td>\n",
       "      <td>[Here, we, have, a, situation, where, one, 's,...</td>\n",
       "      <td>[situation, one, talking, social, aspects, nee...</td>\n",
       "      <td>([situation, one, talking, social, aspects, ne...</td>\n",
       "      <td>([situation, one, talking, social, aspects, ne...</td>\n",
       "    </tr>\n",
       "    <tr>\n",
       "      <th>1494</th>\n",
       "      <td>1495</td>\n",
       "      <td>When I talk about equality and inequality I'm ...</td>\n",
       "      <td>Econ. Inequality</td>\n",
       "      <td>201</td>\n",
       "      <td>1112</td>\n",
       "      <td>[[When, I, talk, about, equality, and, inequal...</td>\n",
       "      <td>[[talk, equality, inequality, talking, skilled...</td>\n",
       "      <td>([[talk, equality, inequality, talking, skille...</td>\n",
       "      <td>([talk, equality, inequality, talking, skilled...</td>\n",
       "      <td>14951495</td>\n",
       "      <td>[When, I, talk, about, equality, and, inequali...</td>\n",
       "      <td>[talk, equality, inequality, talking, skilled,...</td>\n",
       "      <td>([talk, equality, inequality, talking, skilled...</td>\n",
       "      <td>([talk, equality, inequality, talking, skilled...</td>\n",
       "    </tr>\n",
       "    <tr>\n",
       "      <th>1495</th>\n",
       "      <td>1496</td>\n",
       "      <td>Part of this thing about men getting paid more...</td>\n",
       "      <td>Gender</td>\n",
       "      <td>207</td>\n",
       "      <td>1196</td>\n",
       "      <td>[[Part, of, this, thing, about, men, getting, ...</td>\n",
       "      <td>[[part, thing, men, getting, paid, women, ones...</td>\n",
       "      <td>([[part, thing, men, getting, paid, women, one...</td>\n",
       "      <td>([part, thing, men, getting, paid, women, ones...</td>\n",
       "      <td>14961496</td>\n",
       "      <td>[Part, of, this, thing, about, men, getting, p...</td>\n",
       "      <td>[part, thing, men, getting, paid, women, ones,...</td>\n",
       "      <td>([part, thing, men, getting, paid, women, ones...</td>\n",
       "      <td>([part, thing, men, getting, paid, women, ones...</td>\n",
       "    </tr>\n",
       "    <tr>\n",
       "      <th>1496</th>\n",
       "      <td>1497</td>\n",
       "      <td>I agree that if we are going to have a good we...</td>\n",
       "      <td>Labour market</td>\n",
       "      <td>211</td>\n",
       "      <td>1199</td>\n",
       "      <td>[[I, agree, that, if, we, are, going, to, have...</td>\n",
       "      <td>[[agree, going, good, welfare, system, need, v...</td>\n",
       "      <td>([[agree, going, good, welfare, system, need, ...</td>\n",
       "      <td>([agree, going, good, welfare, system, need, v...</td>\n",
       "      <td>14971497</td>\n",
       "      <td>[I, agree, that, if, we, are, going, to, have,...</td>\n",
       "      <td>[agree, going, good, welfare, system, need, vi...</td>\n",
       "      <td>([agree, going, good, welfare, system, need, v...</td>\n",
       "      <td>([agree, going, good, welfare, system, need, v...</td>\n",
       "    </tr>\n",
       "    <tr>\n",
       "      <th>1497</th>\n",
       "      <td>1498</td>\n",
       "      <td>Previously we talked about exactly that issue,...</td>\n",
       "      <td>Generations</td>\n",
       "      <td>215</td>\n",
       "      <td>1241</td>\n",
       "      <td>[[Previously, we, talked, about, exactly, that...</td>\n",
       "      <td>[[previously, talked, exactly, issue, focus, e...</td>\n",
       "      <td>([[previously, talked, exactly, issue, focus, ...</td>\n",
       "      <td>([previously, talked, exactly, issue, focus, e...</td>\n",
       "      <td>14981498</td>\n",
       "      <td>[Previously, we, talked, about, exactly, that,...</td>\n",
       "      <td>[previously, talked, exactly, issue, focus, ec...</td>\n",
       "      <td>([previously, talked, exactly, issue, focus, e...</td>\n",
       "      <td>([previously, talked, exactly, issue, focus, e...</td>\n",
       "    </tr>\n",
       "    <tr>\n",
       "      <th>1498</th>\n",
       "      <td>1499</td>\n",
       "      <td>That you won't get anything from the state is ...</td>\n",
       "      <td>Generations</td>\n",
       "      <td>227</td>\n",
       "      <td>1247</td>\n",
       "      <td>[[That, you, wo, n't, get, anything, from, the...</td>\n",
       "      <td>[[wo, get, anything, state, good, starting, po...</td>\n",
       "      <td>([[wo, get, anything, state, good, starting, p...</td>\n",
       "      <td>([wo, get, anything, state, good, starting, po...</td>\n",
       "      <td>14991499</td>\n",
       "      <td>[That, you, wo, n't, get, anything, from, the,...</td>\n",
       "      <td>[wo, get, anything, state, good, starting, poi...</td>\n",
       "      <td>([wo, get, anything, state, good, starting, po...</td>\n",
       "      <td>([wo, get, anything, state, good, starting, po...</td>\n",
       "    </tr>\n",
       "    <tr>\n",
       "      <th>1499</th>\n",
       "      <td>1500</td>\n",
       "      <td>I actually don't think that wages are the bigg...</td>\n",
       "      <td>Econ. Inequality</td>\n",
       "      <td>257</td>\n",
       "      <td>1516</td>\n",
       "      <td>[[I, actually, do, n't, think, that, wages, ar...</td>\n",
       "      <td>[[actually, think, wages, biggest, problem], [...</td>\n",
       "      <td>([[actually, think, wages, biggest, problem], ...</td>\n",
       "      <td>([actually, think, wages, biggest, problem, th...</td>\n",
       "      <td>15001500</td>\n",
       "      <td>[I, actually, do, n't, think, that, wages, are...</td>\n",
       "      <td>[actually, think, wages, biggest, problem, thi...</td>\n",
       "      <td>([actually, think, wages, biggest, problem, th...</td>\n",
       "      <td>([actually, think, wages, biggest, problem, th...</td>\n",
       "    </tr>\n",
       "  </tbody>\n",
       "</table>\n",
       "<p>1500 rows × 14 columns</p>\n",
       "</div>"
      ],
      "text/plain": [
       "      Unnamed: 0                                          Statement  \\\n",
       "0              1   I also think get the immigrants jobs as soon ...   \n",
       "1              2   I dont necessarily believe everyone will get ...   \n",
       "2              3   Regarding immigration, there will be more. We...   \n",
       "3              4   Yeah.  Just to maintain skills.  You spend 15...   \n",
       "4              5   Thats the question, though. We dont have mini...   \n",
       "5              6   Always gender/common sense?16:10 involved in ...   \n",
       "6              7   What about working from home, then? You could...   \n",
       "7              8    But it's also about knowing what your priori...   \n",
       "8              9    Like I was saying, the larger companies coul...   \n",
       "9             10   I dont think its so much less for the young b...   \n",
       "10            11  But I think that Pia has a point in that if yo...   \n",
       "11            12   I believe that is one of our advantages in No...   \n",
       "12            13   But all these payments the state collects for...   \n",
       "13            14    It's a fact that most employers hire through...   \n",
       "14            15   I think things like university costing so muc...   \n",
       "15            16   You cant have this incentive for parents to s...   \n",
       "16            17   Or that a large firm suddenly says theyre mov...   \n",
       "17            18    There's another problem, we are small. We ar...   \n",
       "18            19   People are coming in and the UK has open door...   \n",
       "19            20   I think we should expect more migration in ge...   \n",
       "20            21    Then theyll all need support and social tran...   \n",
       "21            22   Well, its two-sided . My wife and I, we both ...   \n",
       "22            23   you know, what plans youve got for the future...   \n",
       "23            24   If you think our youth have problems, imagine...   \n",
       "24            25    State supervision. The ministry of labour an...   \n",
       "25            26    Thats right, after all, everything, because ...   \n",
       "26            27    And youd want to live at home longer. Now, i...   \n",
       "27            28    I disagree with you, because were talking ab...   \n",
       "28            29    That means getting more people involved, so ...   \n",
       "29            30    To expand, with the help of job requirements...   \n",
       "...          ...                                                ...   \n",
       "1470        1471   Yes, everyone should be allowed to be with th...   \n",
       "1471        1472    No, I am talking generally here. For example...   \n",
       "1472        1473  Also, it's far more interesting to discuss wha...   \n",
       "1473        1474    That's what the statistics are showing. Here...   \n",
       "1474        1475    Since our country is lacking certain profile...   \n",
       "1475        1476    Then were again on that where we have too ma...   \n",
       "1476        1477    Decent old age. And so that people are not a...   \n",
       "1477        1478  The minimum old-age pension has stagnated now ...   \n",
       "1478        1479   31 mentioned anxiety. I also wrote that. I th...   \n",
       "1479        1480  I'm going to start with a controversial point ...   \n",
       "1480        1481   I thought that we have to be concerned about ...   \n",
       "1481        1482  DREAM is an acronym created by some communicat...   \n",
       "1482        1483   Is it problems with wage inequalities or not?...   \n",
       "1483        1484  I'm not a fan of that type of planned economy ...   \n",
       "1484        1485  As Jacob just said, saving on activation and j...   \n",
       "1485        1486    I think that, regarding equalities I mean, I...   \n",
       "1486        1487  I work with this and I've defined some of thes...   \n",
       "1487        1488  I've lived here for 15 years and I've experien...   \n",
       "1488        1489  So I'll write that the downside is a control f...   \n",
       "1489        1490    I very much agree with everything being said...   \n",
       "1490        1491  Everyone's welcome in Denmark, if they contrib...   \n",
       "1491        1492  I think that's a good point. A few years ago t...   \n",
       "1492        1493    Could be, that he or she will take it elsewh...   \n",
       "1493        1494  Here we have a situation where one's talking a...   \n",
       "1494        1495  When I talk about equality and inequality I'm ...   \n",
       "1495        1496  Part of this thing about men getting paid more...   \n",
       "1496        1497  I agree that if we are going to have a good we...   \n",
       "1497        1498  Previously we talked about exactly that issue,...   \n",
       "1498        1499  That you won't get anything from the state is ...   \n",
       "1499        1500  I actually don't think that wages are the bigg...   \n",
       "\n",
       "                 topic  wordcount  charcount  \\\n",
       "0          Immigration         37        225   \n",
       "1          Immigration         44        225   \n",
       "2          Immigration         41        225   \n",
       "3               Gender         41        225   \n",
       "4               Gender         41        225   \n",
       "5               Gender         36        225   \n",
       "6               Gender         40        225   \n",
       "7               Gender         43        225   \n",
       "8               Gender         40        225   \n",
       "9          Generations         35        225   \n",
       "10         Generations         43        225   \n",
       "11       Labour market         40        225   \n",
       "12       Labour market         41        225   \n",
       "13       Labour market         37        225   \n",
       "14    Econ. Inequality         41        226   \n",
       "15    Econ. Inequality         38        226   \n",
       "16    Econ. Inequality         44        226   \n",
       "17    Econ. Inequality         43        226   \n",
       "18         Immigration         40        226   \n",
       "19         Immigration         39        226   \n",
       "20         Immigration         37        226   \n",
       "21              Gender         44        226   \n",
       "22         Generations         49        226   \n",
       "23         Generations         42        226   \n",
       "24         Generations         37        226   \n",
       "25         Generations         39        226   \n",
       "26         Generations         42        226   \n",
       "27         Generations         45        226   \n",
       "28       Labour market         43        226   \n",
       "29       Labour market         40        226   \n",
       "...                ...        ...        ...   \n",
       "1470       Immigration        137        785   \n",
       "1471       Generations        155        790   \n",
       "1472       Immigration        134        791   \n",
       "1473            Gender        144        794   \n",
       "1474       Immigration        135        795   \n",
       "1475     Labour market        138        796   \n",
       "1476       Generations        150        798   \n",
       "1477       Generations        140        801   \n",
       "1478  Econ. Inequality        142        807   \n",
       "1479       Generations        153        819   \n",
       "1480     Labour market        144        820   \n",
       "1481     Labour market        142        833   \n",
       "1482  Econ. Inequality        150        838   \n",
       "1483       Generations        153        860   \n",
       "1484     Labour market        165        878   \n",
       "1485            Gender        174        888   \n",
       "1486     Labour market        155        891   \n",
       "1487       Immigration        171        925   \n",
       "1488     Labour market        164        937   \n",
       "1489     Labour market        176        990   \n",
       "1490       Immigration        170       1006   \n",
       "1491       Immigration        193       1040   \n",
       "1492  Econ. Inequality        211       1060   \n",
       "1493  Econ. Inequality        186       1079   \n",
       "1494  Econ. Inequality        201       1112   \n",
       "1495            Gender        207       1196   \n",
       "1496     Labour market        211       1199   \n",
       "1497       Generations        215       1241   \n",
       "1498       Generations        227       1247   \n",
       "1499  Econ. Inequality        257       1516   \n",
       "\n",
       "                                        tokenized_sents  \\\n",
       "0     [[I, also, think, get, the, immigrants, jobs, ...   \n",
       "1     [[I, dont, necessarily, believe, everyone, wil...   \n",
       "2     [[Regarding, immigration, ,, there, will, be, ...   \n",
       "3     [[Yeah, .], [Just, to, maintain, skills, .], [...   \n",
       "4     [[Thats, the, question, ,, though, .], [We, do...   \n",
       "5     [[Always, gender/common, sense, ?, 16:10, invo...   \n",
       "6     [[What, about, working, from, home, ,, then, ?...   \n",
       "7     [[But, it, 's, also, about, knowing, what, you...   \n",
       "8     [[Like, I, was, saying, ,, the, larger, compan...   \n",
       "9     [[I, dont, think, its, so, much, less, for, th...   \n",
       "10    [[But, I, think, that, Pia, has, a, point, in,...   \n",
       "11    [[I, believe, that, is, one, of, our, advantag...   \n",
       "12    [[But, all, these, payments, the, state, colle...   \n",
       "13    [[It, 's, a, fact, that, most, employers, hire...   \n",
       "14    [[I, think, things, like, university, costing,...   \n",
       "15    [[You, cant, have, this, incentive, for, paren...   \n",
       "16    [[Or, that, a, large, firm, suddenly, says, th...   \n",
       "17    [[There, 's, another, problem, ,, we, are, sma...   \n",
       "18    [[People, are, coming, in, and, the, UK, has, ...   \n",
       "19    [[I, think, we, should, expect, more, migratio...   \n",
       "20    [[Then, theyll, all, need, support, and, socia...   \n",
       "21    [[Well, ,, its, two-sided, .], [My, wife, and,...   \n",
       "22    [[you, know, ,, what, plans, youve, got, for, ...   \n",
       "23    [[If, you, think, our, youth, have, problems, ...   \n",
       "24    [[State, supervision, .], [The, ministry, of, ...   \n",
       "25    [[Thats, right, ,, after, all, ,, everything, ...   \n",
       "26    [[And, youd, want, to, live, at, home, longer,...   \n",
       "27    [[I, disagree, with, you, ,, because, were, ta...   \n",
       "28    [[That, means, getting, more, people, involved...   \n",
       "29    [[To, expand, ,, with, the, help, of, job, req...   \n",
       "...                                                 ...   \n",
       "1470  [[Yes, ,, everyone, should, be, allowed, to, b...   \n",
       "1471  [[No, ,, I, am, talking, generally, here, .], ...   \n",
       "1472  [[Also, ,, it, 's, far, more, interesting, to,...   \n",
       "1473  [[That, 's, what, the, statistics, are, showin...   \n",
       "1474  [[Since, our, country, is, lacking, certain, p...   \n",
       "1475  [[Then, were, again, on, that, where, we, have...   \n",
       "1476  [[Decent, old, age, .], [And, so, that, people...   \n",
       "1477  [[The, minimum, old-age, pension, has, stagnat...   \n",
       "1478  [[31, mentioned, anxiety, .], [I, also, wrote,...   \n",
       "1479  [[I, 'm, going, to, start, with, a, controvers...   \n",
       "1480  [[I, thought, that, we, have, to, be, concerne...   \n",
       "1481  [[DREAM, is, an, acronym, created, by, some, c...   \n",
       "1482  [[Is, it, problems, with, wage, inequalities, ...   \n",
       "1483  [[I, 'm, not, a, fan, of, that, type, of, plan...   \n",
       "1484  [[As, Jacob, just, said, ,, saving, on, activa...   \n",
       "1485  [[I, think, that, ,, regarding, equalities, I,...   \n",
       "1486  [[I, work, with, this, and, I, 've, defined, s...   \n",
       "1487  [[I, 've, lived, here, for, 15, years, and, I,...   \n",
       "1488  [[So, I, 'll, write, that, the, downside, is, ...   \n",
       "1489  [[I, very, much, agree, with, everything, bein...   \n",
       "1490  [[Everyone, 's, welcome, in, Denmark, ,, if, t...   \n",
       "1491  [[I, think, that, 's, a, good, point, .], [A, ...   \n",
       "1492  [[Could, be, ,, that, he, or, she, will, take,...   \n",
       "1493  [[Here, we, have, a, situation, where, one, 's...   \n",
       "1494  [[When, I, talk, about, equality, and, inequal...   \n",
       "1495  [[Part, of, this, thing, about, men, getting, ...   \n",
       "1496  [[I, agree, that, if, we, are, going, to, have...   \n",
       "1497  [[Previously, we, talked, about, exactly, that...   \n",
       "1498  [[That, you, wo, n't, get, anything, from, the...   \n",
       "1499  [[I, actually, do, n't, think, that, wages, ar...   \n",
       "\n",
       "                                       normalized_sents  \\\n",
       "0     [[also, think, get, immigrants, jobs, soon, po...   \n",
       "1     [[dont, necessarily, believe, everyone, get], ...   \n",
       "2     [[regarding, immigration], [cant, anything], [...   \n",
       "3     [[yeah], [maintain, skills], [spend, years, tr...   \n",
       "4     [[thats, question, though], [dont, minimum, wa...   \n",
       "5     [[always, sense, involved, decisions], [emphas...   \n",
       "6     [[working, home], [couldnt, work, home, profes...   \n",
       "7     [[also, knowing, priorities], [priority, child...   \n",
       "8     [[like, saying, larger, companies, could, cert...   \n",
       "9     [[dont, think, much, less, young, theyre, offe...   \n",
       "10    [[think, pia, point, lot, money, start, spendi...   \n",
       "11    [[believe, one, advantages, norway, higher, ed...   \n",
       "12    [[payments, state, collects, pension, take, mo...   \n",
       "13    [[fact, employers, hire, agencies], [least, co...   \n",
       "14    [[think, things, like, university, costing, mu...   \n",
       "15    [[cant, incentive, parents, send, children, pr...   \n",
       "16    [[large, firm, suddenly, says, theyre, moving,...   \n",
       "17    [[another, problem, small], [required, militar...   \n",
       "18    [[people, coming, uk, open, doors, everybody, ...   \n",
       "19    [[think, expect, migration, general, surprised...   \n",
       "20    [[theyll, need, support, social, transfers, pr...   \n",
       "21    [[well], [wife, work, hours, day, whoever, get...   \n",
       "22    [[know, plans, youve, got, future], [mean, im,...   \n",
       "23    [[think, youth, problems, imagine, getting, im...   \n",
       "24    [[state, supervision], [ministry, labour, fami...   \n",
       "25    [[thats, right, everything, old, age, like], [...   \n",
       "26    [[youd, want, live, home, longer], [home, care...   \n",
       "27    [[disagree, talking, years, future, minimum, w...   \n",
       "28    [[means, getting, people, involved, told, good...   \n",
       "29    [[expand, help, job, requirements, know, econo...   \n",
       "...                                                 ...   \n",
       "1470  [[yes, everyone, allowed, person, love, regard...   \n",
       "1471  [[talking, generally], [example, younger, gene...   \n",
       "1472  [[also, far, interesting, discuss, want, get, ...   \n",
       "1473  [[statistics, showing], [say, volunteered, per...   \n",
       "1474  [[since, country, lacking, certain, profiles, ...   \n",
       "1475  [[many, public, servants, many, public, works]...   \n",
       "1476  [[decent, old, age], [people, afraid, say, kno...   \n",
       "1477  [[minimum, pension, stagnated], [linked, chang...   \n",
       "1478  [[mentioned, anxiety], [also, wrote], [thought...   \n",
       "1479  [[going, start, controversial, point, view], [...   \n",
       "1480  [[thought, concerned, creating, jobs, everyone...   \n",
       "1481  [[dream, acronym, created, communication, stud...   \n",
       "1482  [[problems, wage, inequalities], [believe, cre...   \n",
       "1483  [[fan, type, planned, economy, way, thinking],...   \n",
       "1484  [[jacob, said, saving, activation, job, centre...   \n",
       "1485  [[think, regarding, equalities, mean, doubt, w...   \n",
       "1486  [[work, defined, things, together, ministry, e...   \n",
       "1487  [[lived, years, experienced, racism, several, ...   \n",
       "1488  [[write, downside, control, function, whether,...   \n",
       "1489  [[much, agree, everything, said, something, co...   \n",
       "1490  [[everyone, welcome, denmark, contribute], [ha...   \n",
       "1491  [[think, good, point], [years, ago, city, cope...   \n",
       "1492  [[could, take, elsewhere, also, difficult, els...   \n",
       "1493  [[situation, one, talking, social, aspects, ne...   \n",
       "1494  [[talk, equality, inequality, talking, skilled...   \n",
       "1495  [[part, thing, men, getting, paid, women, ones...   \n",
       "1496  [[agree, going, good, welfare, system, need, v...   \n",
       "1497  [[previously, talked, exactly, issue, focus, e...   \n",
       "1498  [[wo, get, anything, state, good, starting, po...   \n",
       "1499  [[actually, think, wages, biggest, problem], [...   \n",
       "\n",
       "                                          TaggedReviews  \\\n",
       "0     ([[also, think, get, immigrants, jobs, soon, p...   \n",
       "1     ([[dont, necessarily, believe, everyone, get],...   \n",
       "2     ([[regarding, immigration], [cant, anything], ...   \n",
       "3     ([[yeah], [maintain, skills], [spend, years, t...   \n",
       "4     ([[thats, question, though], [dont, minimum, w...   \n",
       "5     ([[always, sense, involved, decisions], [empha...   \n",
       "6     ([[working, home], [couldnt, work, home, profe...   \n",
       "7     ([[also, knowing, priorities], [priority, chil...   \n",
       "8     ([[like, saying, larger, companies, could, cer...   \n",
       "9     ([[dont, think, much, less, young, theyre, off...   \n",
       "10    ([[think, pia, point, lot, money, start, spend...   \n",
       "11    ([[believe, one, advantages, norway, higher, e...   \n",
       "12    ([[payments, state, collects, pension, take, m...   \n",
       "13    ([[fact, employers, hire, agencies], [least, c...   \n",
       "14    ([[think, things, like, university, costing, m...   \n",
       "15    ([[cant, incentive, parents, send, children, p...   \n",
       "16    ([[large, firm, suddenly, says, theyre, moving...   \n",
       "17    ([[another, problem, small], [required, milita...   \n",
       "18    ([[people, coming, uk, open, doors, everybody,...   \n",
       "19    ([[think, expect, migration, general, surprise...   \n",
       "20    ([[theyll, need, support, social, transfers, p...   \n",
       "21    ([[well], [wife, work, hours, day, whoever, ge...   \n",
       "22    ([[know, plans, youve, got, future], [mean, im...   \n",
       "23    ([[think, youth, problems, imagine, getting, i...   \n",
       "24    ([[state, supervision], [ministry, labour, fam...   \n",
       "25    ([[thats, right, everything, old, age, like], ...   \n",
       "26    ([[youd, want, live, home, longer], [home, car...   \n",
       "27    ([[disagree, talking, years, future, minimum, ...   \n",
       "28    ([[means, getting, people, involved, told, goo...   \n",
       "29    ([[expand, help, job, requirements, know, econ...   \n",
       "...                                                 ...   \n",
       "1470  ([[yes, everyone, allowed, person, love, regar...   \n",
       "1471  ([[talking, generally], [example, younger, gen...   \n",
       "1472  ([[also, far, interesting, discuss, want, get,...   \n",
       "1473  ([[statistics, showing], [say, volunteered, pe...   \n",
       "1474  ([[since, country, lacking, certain, profiles,...   \n",
       "1475  ([[many, public, servants, many, public, works...   \n",
       "1476  ([[decent, old, age], [people, afraid, say, kn...   \n",
       "1477  ([[minimum, pension, stagnated], [linked, chan...   \n",
       "1478  ([[mentioned, anxiety], [also, wrote], [though...   \n",
       "1479  ([[going, start, controversial, point, view], ...   \n",
       "1480  ([[thought, concerned, creating, jobs, everyon...   \n",
       "1481  ([[dream, acronym, created, communication, stu...   \n",
       "1482  ([[problems, wage, inequalities], [believe, cr...   \n",
       "1483  ([[fan, type, planned, economy, way, thinking]...   \n",
       "1484  ([[jacob, said, saving, activation, job, centr...   \n",
       "1485  ([[think, regarding, equalities, mean, doubt, ...   \n",
       "1486  ([[work, defined, things, together, ministry, ...   \n",
       "1487  ([[lived, years, experienced, racism, several,...   \n",
       "1488  ([[write, downside, control, function, whether...   \n",
       "1489  ([[much, agree, everything, said, something, c...   \n",
       "1490  ([[everyone, welcome, denmark, contribute], [h...   \n",
       "1491  ([[think, good, point], [years, ago, city, cop...   \n",
       "1492  ([[could, take, elsewhere, also, difficult, el...   \n",
       "1493  ([[situation, one, talking, social, aspects, n...   \n",
       "1494  ([[talk, equality, inequality, talking, skille...   \n",
       "1495  ([[part, thing, men, getting, paid, women, one...   \n",
       "1496  ([[agree, going, good, welfare, system, need, ...   \n",
       "1497  ([[previously, talked, exactly, issue, focus, ...   \n",
       "1498  ([[wo, get, anything, state, good, starting, p...   \n",
       "1499  ([[actually, think, wages, biggest, problem], ...   \n",
       "\n",
       "                                           Tagged_sents       uID  \\\n",
       "0     ([also, think, get, immigrants, jobs, soon, po...        11   \n",
       "1     ([dont, necessarily, believe, everyone, get, b...        22   \n",
       "2     ([regarding, immigration, cant, anything, come...        33   \n",
       "3     ([yeah, maintain, skills, spend, years, traini...        44   \n",
       "4     ([thats, question, though, dont, minimum, wage...        55   \n",
       "5     ([always, sense, involved, decisions, emphasis...        66   \n",
       "6     ([working, home, couldnt, work, home, professi...        77   \n",
       "7     ([also, knowing, priorities, priority, child, ...        88   \n",
       "8     ([like, saying, larger, companies, could, cert...        99   \n",
       "9     ([dont, think, much, less, young, theyre, offe...      1010   \n",
       "10    ([think, pia, point, lot, money, start, spendi...      1111   \n",
       "11    ([believe, one, advantages, norway, higher, ed...      1212   \n",
       "12    ([payments, state, collects, pension, take, mo...      1313   \n",
       "13    ([fact, employers, hire, agencies, least, comp...      1414   \n",
       "14    ([think, things, like, university, costing, mu...      1515   \n",
       "15    ([cant, incentive, parents, send, children, pr...      1616   \n",
       "16    ([large, firm, suddenly, says, theyre, moving,...      1717   \n",
       "17    ([another, problem, small, required, military,...      1818   \n",
       "18    ([people, coming, uk, open, doors, everybody, ...      1919   \n",
       "19    ([think, expect, migration, general, surprised...      2020   \n",
       "20    ([theyll, need, support, social, transfers, pr...      2121   \n",
       "21    ([well, wife, work, hours, day, whoever, gets,...      2222   \n",
       "22    ([know, plans, youve, got, future, mean, im, t...      2323   \n",
       "23    ([think, youth, problems, imagine, getting, im...      2424   \n",
       "24    ([state, supervision, ministry, labour, family...      2525   \n",
       "25    ([thats, right, everything, old, age, like, do...      2626   \n",
       "26    ([youd, want, live, home, longer, home, care, ...      2727   \n",
       "27    ([disagree, talking, years, future, minimum, w...      2828   \n",
       "28    ([means, getting, people, involved, told, good...      2929   \n",
       "29    ([expand, help, job, requirements, know, econo...      3030   \n",
       "...                                                 ...       ...   \n",
       "1470  ([yes, everyone, allowed, person, love, regard...  14711471   \n",
       "1471  ([talking, generally, example, younger, genera...  14721472   \n",
       "1472  ([also, far, interesting, discuss, want, get, ...  14731473   \n",
       "1473  ([statistics, showing, say, volunteered, perso...  14741474   \n",
       "1474  ([since, country, lacking, certain, profiles, ...  14751475   \n",
       "1475  ([many, public, servants, many, public, works,...  14761476   \n",
       "1476  ([decent, old, age, people, afraid, say, know,...  14771477   \n",
       "1477  ([minimum, pension, stagnated, linked, changes...  14781478   \n",
       "1478  ([mentioned, anxiety, also, wrote, thought, pe...  14791479   \n",
       "1479  ([going, start, controversial, point, view, ta...  14801480   \n",
       "1480  ([thought, concerned, creating, jobs, everyone...  14811481   \n",
       "1481  ([dream, acronym, created, communication, stud...  14821482   \n",
       "1482  ([problems, wage, inequalities, believe, creat...  14831483   \n",
       "1483  ([fan, type, planned, economy, way, thinking, ...  14841484   \n",
       "1484  ([jacob, said, saving, activation, job, centre...  14851485   \n",
       "1485  ([think, regarding, equalities, mean, doubt, w...  14861486   \n",
       "1486  ([work, defined, things, together, ministry, e...  14871487   \n",
       "1487  ([lived, years, experienced, racism, several, ...  14881488   \n",
       "1488  ([write, downside, control, function, whether,...  14891489   \n",
       "1489  ([much, agree, everything, said, something, co...  14901490   \n",
       "1490  ([everyone, welcome, denmark, contribute, hand...  14911491   \n",
       "1491  ([think, good, point, years, ago, city, copenh...  14921492   \n",
       "1492  ([could, take, elsewhere, also, difficult, els...  14931493   \n",
       "1493  ([situation, one, talking, social, aspects, ne...  14941494   \n",
       "1494  ([talk, equality, inequality, talking, skilled...  14951495   \n",
       "1495  ([part, thing, men, getting, paid, women, ones...  14961496   \n",
       "1496  ([agree, going, good, welfare, system, need, v...  14971497   \n",
       "1497  ([previously, talked, exactly, issue, focus, e...  14981498   \n",
       "1498  ([wo, get, anything, state, good, starting, po...  14991499   \n",
       "1499  ([actually, think, wages, biggest, problem, th...  15001500   \n",
       "\n",
       "                                       tokenized_words2  \\\n",
       "0     [I, also, think, get, the, immigrants, jobs, a...   \n",
       "1     [I, dont, necessarily, believe, everyone, will...   \n",
       "2     [Regarding, immigration, ,, there, will, be, m...   \n",
       "3     [Yeah, ., Just, to, maintain, skills, ., You, ...   \n",
       "4     [Thats, the, question, ,, though, ., We, dont,...   \n",
       "5     [Always, gender/common, sense, ?, 16:10, invol...   \n",
       "6     [What, about, working, from, home, ,, then, ?,...   \n",
       "7     [But, it, 's, also, about, knowing, what, your...   \n",
       "8     [Like, I, was, saying, ,, the, larger, compani...   \n",
       "9     [I, dont, think, its, so, much, less, for, the...   \n",
       "10    [But, I, think, that, Pia, has, a, point, in, ...   \n",
       "11    [I, believe, that, is, one, of, our, advantage...   \n",
       "12    [But, all, these, payments, the, state, collec...   \n",
       "13    [It, 's, a, fact, that, most, employers, hire,...   \n",
       "14    [I, think, things, like, university, costing, ...   \n",
       "15    [You, cant, have, this, incentive, for, parent...   \n",
       "16    [Or, that, a, large, firm, suddenly, says, the...   \n",
       "17    [There, 's, another, problem, ,, we, are, smal...   \n",
       "18    [People, are, coming, in, and, the, UK, has, o...   \n",
       "19    [I, think, we, should, expect, more, migration...   \n",
       "20    [Then, theyll, all, need, support, and, social...   \n",
       "21    [Well, ,, its, two-sided, ., My, wife, and, I,...   \n",
       "22    [you, know, ,, what, plans, youve, got, for, t...   \n",
       "23    [If, you, think, our, youth, have, problems, ,...   \n",
       "24    [State, supervision, ., The, ministry, of, lab...   \n",
       "25    [Thats, right, ,, after, all, ,, everything, ,...   \n",
       "26    [And, youd, want, to, live, at, home, longer, ...   \n",
       "27    [I, disagree, with, you, ,, because, were, tal...   \n",
       "28    [That, means, getting, more, people, involved,...   \n",
       "29    [To, expand, ,, with, the, help, of, job, requ...   \n",
       "...                                                 ...   \n",
       "1470  [Yes, ,, everyone, should, be, allowed, to, be...   \n",
       "1471  [No, ,, I, am, talking, generally, here, ., Fo...   \n",
       "1472  [Also, ,, it, 's, far, more, interesting, to, ...   \n",
       "1473  [That, 's, what, the, statistics, are, showing...   \n",
       "1474  [Since, our, country, is, lacking, certain, pr...   \n",
       "1475  [Then, were, again, on, that, where, we, have,...   \n",
       "1476  [Decent, old, age, ., And, so, that, people, a...   \n",
       "1477  [The, minimum, old-age, pension, has, stagnate...   \n",
       "1478  [31, mentioned, anxiety, ., I, also, wrote, th...   \n",
       "1479  [I, 'm, going, to, start, with, a, controversi...   \n",
       "1480  [I, thought, that, we, have, to, be, concerned...   \n",
       "1481  [DREAM, is, an, acronym, created, by, some, co...   \n",
       "1482  [Is, it, problems, with, wage, inequalities, o...   \n",
       "1483  [I, 'm, not, a, fan, of, that, type, of, plann...   \n",
       "1484  [As, Jacob, just, said, ,, saving, on, activat...   \n",
       "1485  [I, think, that, ,, regarding, equalities, I, ...   \n",
       "1486  [I, work, with, this, and, I, 've, defined, so...   \n",
       "1487  [I, 've, lived, here, for, 15, years, and, I, ...   \n",
       "1488  [So, I, 'll, write, that, the, downside, is, a...   \n",
       "1489  [I, very, much, agree, with, everything, being...   \n",
       "1490  [Everyone, 's, welcome, in, Denmark, ,, if, th...   \n",
       "1491  [I, think, that, 's, a, good, point, ., A, few...   \n",
       "1492  [Could, be, ,, that, he, or, she, will, take, ...   \n",
       "1493  [Here, we, have, a, situation, where, one, 's,...   \n",
       "1494  [When, I, talk, about, equality, and, inequali...   \n",
       "1495  [Part, of, this, thing, about, men, getting, p...   \n",
       "1496  [I, agree, that, if, we, are, going, to, have,...   \n",
       "1497  [Previously, we, talked, about, exactly, that,...   \n",
       "1498  [That, you, wo, n't, get, anything, from, the,...   \n",
       "1499  [I, actually, do, n't, think, that, wages, are...   \n",
       "\n",
       "                                      normalized_words2  \\\n",
       "0     [also, think, get, immigrants, jobs, soon, pos...   \n",
       "1     [dont, necessarily, believe, everyone, get, be...   \n",
       "2     [regarding, immigration, cant, anything, come,...   \n",
       "3     [yeah, maintain, skills, spend, years, trainin...   \n",
       "4     [thats, question, though, dont, minimum, wages...   \n",
       "5     [always, sense, involved, decisions, emphasise...   \n",
       "6     [working, home, couldnt, work, home, professio...   \n",
       "7     [also, knowing, priorities, priority, child, j...   \n",
       "8     [like, saying, larger, companies, could, certa...   \n",
       "9     [dont, think, much, less, young, theyre, offer...   \n",
       "10    [think, pia, point, lot, money, start, spendin...   \n",
       "11    [believe, one, advantages, norway, higher, edu...   \n",
       "12    [payments, state, collects, pension, take, mon...   \n",
       "13    [fact, employers, hire, agencies, least, compa...   \n",
       "14    [think, things, like, university, costing, muc...   \n",
       "15    [cant, incentive, parents, send, children, pri...   \n",
       "16    [large, firm, suddenly, says, theyre, moving, ...   \n",
       "17    [another, problem, small, required, military, ...   \n",
       "18    [people, coming, uk, open, doors, everybody, w...   \n",
       "19    [think, expect, migration, general, surprised,...   \n",
       "20    [theyll, need, support, social, transfers, pre...   \n",
       "21    [well, wife, work, hours, day, whoever, gets, ...   \n",
       "22    [know, plans, youve, got, future, mean, im, ti...   \n",
       "23    [think, youth, problems, imagine, getting, imm...   \n",
       "24    [state, supervision, ministry, labour, family,...   \n",
       "25    [thats, right, everything, old, age, like, don...   \n",
       "26    [youd, want, live, home, longer, home, care, a...   \n",
       "27    [disagree, talking, years, future, minimum, wa...   \n",
       "28    [means, getting, people, involved, told, good,...   \n",
       "29    [expand, help, job, requirements, know, econom...   \n",
       "...                                                 ...   \n",
       "1470  [yes, everyone, allowed, person, love, regardl...   \n",
       "1471  [talking, generally, example, younger, generat...   \n",
       "1472  [also, far, interesting, discuss, want, get, f...   \n",
       "1473  [statistics, showing, say, volunteered, person...   \n",
       "1474  [since, country, lacking, certain, profiles, p...   \n",
       "1475  [many, public, servants, many, public, works, ...   \n",
       "1476  [decent, old, age, people, afraid, say, know, ...   \n",
       "1477  [minimum, pension, stagnated, linked, changes,...   \n",
       "1478  [mentioned, anxiety, also, wrote, thought, per...   \n",
       "1479  [going, start, controversial, point, view, tal...   \n",
       "1480  [thought, concerned, creating, jobs, everyone,...   \n",
       "1481  [dream, acronym, created, communication, studi...   \n",
       "1482  [problems, wage, inequalities, believe, create...   \n",
       "1483  [fan, type, planned, economy, way, thinking, s...   \n",
       "1484  [jacob, said, saving, activation, job, centres...   \n",
       "1485  [think, regarding, equalities, mean, doubt, we...   \n",
       "1486  [work, defined, things, together, ministry, em...   \n",
       "1487  [lived, years, experienced, racism, several, t...   \n",
       "1488  [write, downside, control, function, whether, ...   \n",
       "1489  [much, agree, everything, said, something, cou...   \n",
       "1490  [everyone, welcome, denmark, contribute, hand,...   \n",
       "1491  [think, good, point, years, ago, city, copenha...   \n",
       "1492  [could, take, elsewhere, also, difficult, else...   \n",
       "1493  [situation, one, talking, social, aspects, nee...   \n",
       "1494  [talk, equality, inequality, talking, skilled,...   \n",
       "1495  [part, thing, men, getting, paid, women, ones,...   \n",
       "1496  [agree, going, good, welfare, system, need, vi...   \n",
       "1497  [previously, talked, exactly, issue, focus, ec...   \n",
       "1498  [wo, get, anything, state, good, starting, poi...   \n",
       "1499  [actually, think, wages, biggest, problem, thi...   \n",
       "\n",
       "                                        TaggedAbstracts  \\\n",
       "0     ([also, think, get, immigrants, jobs, soon, po...   \n",
       "1     ([dont, necessarily, believe, everyone, get, b...   \n",
       "2     ([regarding, immigration, cant, anything, come...   \n",
       "3     ([yeah, maintain, skills, spend, years, traini...   \n",
       "4     ([thats, question, though, dont, minimum, wage...   \n",
       "5     ([always, sense, involved, decisions, emphasis...   \n",
       "6     ([working, home, couldnt, work, home, professi...   \n",
       "7     ([also, knowing, priorities, priority, child, ...   \n",
       "8     ([like, saying, larger, companies, could, cert...   \n",
       "9     ([dont, think, much, less, young, theyre, offe...   \n",
       "10    ([think, pia, point, lot, money, start, spendi...   \n",
       "11    ([believe, one, advantages, norway, higher, ed...   \n",
       "12    ([payments, state, collects, pension, take, mo...   \n",
       "13    ([fact, employers, hire, agencies, least, comp...   \n",
       "14    ([think, things, like, university, costing, mu...   \n",
       "15    ([cant, incentive, parents, send, children, pr...   \n",
       "16    ([large, firm, suddenly, says, theyre, moving,...   \n",
       "17    ([another, problem, small, required, military,...   \n",
       "18    ([people, coming, uk, open, doors, everybody, ...   \n",
       "19    ([think, expect, migration, general, surprised...   \n",
       "20    ([theyll, need, support, social, transfers, pr...   \n",
       "21    ([well, wife, work, hours, day, whoever, gets,...   \n",
       "22    ([know, plans, youve, got, future, mean, im, t...   \n",
       "23    ([think, youth, problems, imagine, getting, im...   \n",
       "24    ([state, supervision, ministry, labour, family...   \n",
       "25    ([thats, right, everything, old, age, like, do...   \n",
       "26    ([youd, want, live, home, longer, home, care, ...   \n",
       "27    ([disagree, talking, years, future, minimum, w...   \n",
       "28    ([means, getting, people, involved, told, good...   \n",
       "29    ([expand, help, job, requirements, know, econo...   \n",
       "...                                                 ...   \n",
       "1470  ([yes, everyone, allowed, person, love, regard...   \n",
       "1471  ([talking, generally, example, younger, genera...   \n",
       "1472  ([also, far, interesting, discuss, want, get, ...   \n",
       "1473  ([statistics, showing, say, volunteered, perso...   \n",
       "1474  ([since, country, lacking, certain, profiles, ...   \n",
       "1475  ([many, public, servants, many, public, works,...   \n",
       "1476  ([decent, old, age, people, afraid, say, know,...   \n",
       "1477  ([minimum, pension, stagnated, linked, changes...   \n",
       "1478  ([mentioned, anxiety, also, wrote, thought, pe...   \n",
       "1479  ([going, start, controversial, point, view, ta...   \n",
       "1480  ([thought, concerned, creating, jobs, everyone...   \n",
       "1481  ([dream, acronym, created, communication, stud...   \n",
       "1482  ([problems, wage, inequalities, believe, creat...   \n",
       "1483  ([fan, type, planned, economy, way, thinking, ...   \n",
       "1484  ([jacob, said, saving, activation, job, centre...   \n",
       "1485  ([think, regarding, equalities, mean, doubt, w...   \n",
       "1486  ([work, defined, things, together, ministry, e...   \n",
       "1487  ([lived, years, experienced, racism, several, ...   \n",
       "1488  ([write, downside, control, function, whether,...   \n",
       "1489  ([much, agree, everything, said, something, co...   \n",
       "1490  ([everyone, welcome, denmark, contribute, hand...   \n",
       "1491  ([think, good, point, years, ago, city, copenh...   \n",
       "1492  ([could, take, elsewhere, also, difficult, els...   \n",
       "1493  ([situation, one, talking, social, aspects, ne...   \n",
       "1494  ([talk, equality, inequality, talking, skilled...   \n",
       "1495  ([part, thing, men, getting, paid, women, ones...   \n",
       "1496  ([agree, going, good, welfare, system, need, v...   \n",
       "1497  ([previously, talked, exactly, issue, focus, e...   \n",
       "1498  ([wo, get, anything, state, good, starting, po...   \n",
       "1499  ([actually, think, wages, biggest, problem, th...   \n",
       "\n",
       "                                            Tagged_text  \n",
       "0     ([also, think, get, immigrants, jobs, soon, po...  \n",
       "1     ([dont, necessarily, believe, everyone, get, b...  \n",
       "2     ([regarding, immigration, cant, anything, come...  \n",
       "3     ([yeah, maintain, skills, spend, years, traini...  \n",
       "4     ([thats, question, though, dont, minimum, wage...  \n",
       "5     ([always, sense, involved, decisions, emphasis...  \n",
       "6     ([working, home, couldnt, work, home, professi...  \n",
       "7     ([also, knowing, priorities, priority, child, ...  \n",
       "8     ([like, saying, larger, companies, could, cert...  \n",
       "9     ([dont, think, much, less, young, theyre, offe...  \n",
       "10    ([think, pia, point, lot, money, start, spendi...  \n",
       "11    ([believe, one, advantages, norway, higher, ed...  \n",
       "12    ([payments, state, collects, pension, take, mo...  \n",
       "13    ([fact, employers, hire, agencies, least, comp...  \n",
       "14    ([think, things, like, university, costing, mu...  \n",
       "15    ([cant, incentive, parents, send, children, pr...  \n",
       "16    ([large, firm, suddenly, says, theyre, moving,...  \n",
       "17    ([another, problem, small, required, military,...  \n",
       "18    ([people, coming, uk, open, doors, everybody, ...  \n",
       "19    ([think, expect, migration, general, surprised...  \n",
       "20    ([theyll, need, support, social, transfers, pr...  \n",
       "21    ([well, wife, work, hours, day, whoever, gets,...  \n",
       "22    ([know, plans, youve, got, future, mean, im, t...  \n",
       "23    ([think, youth, problems, imagine, getting, im...  \n",
       "24    ([state, supervision, ministry, labour, family...  \n",
       "25    ([thats, right, everything, old, age, like, do...  \n",
       "26    ([youd, want, live, home, longer, home, care, ...  \n",
       "27    ([disagree, talking, years, future, minimum, w...  \n",
       "28    ([means, getting, people, involved, told, good...  \n",
       "29    ([expand, help, job, requirements, know, econo...  \n",
       "...                                                 ...  \n",
       "1470  ([yes, everyone, allowed, person, love, regard...  \n",
       "1471  ([talking, generally, example, younger, genera...  \n",
       "1472  ([also, far, interesting, discuss, want, get, ...  \n",
       "1473  ([statistics, showing, say, volunteered, perso...  \n",
       "1474  ([since, country, lacking, certain, profiles, ...  \n",
       "1475  ([many, public, servants, many, public, works,...  \n",
       "1476  ([decent, old, age, people, afraid, say, know,...  \n",
       "1477  ([minimum, pension, stagnated, linked, changes...  \n",
       "1478  ([mentioned, anxiety, also, wrote, thought, pe...  \n",
       "1479  ([going, start, controversial, point, view, ta...  \n",
       "1480  ([thought, concerned, creating, jobs, everyone...  \n",
       "1481  ([dream, acronym, created, communication, stud...  \n",
       "1482  ([problems, wage, inequalities, believe, creat...  \n",
       "1483  ([fan, type, planned, economy, way, thinking, ...  \n",
       "1484  ([jacob, said, saving, activation, job, centre...  \n",
       "1485  ([think, regarding, equalities, mean, doubt, w...  \n",
       "1486  ([work, defined, things, together, ministry, e...  \n",
       "1487  ([lived, years, experienced, racism, several, ...  \n",
       "1488  ([write, downside, control, function, whether,...  \n",
       "1489  ([much, agree, everything, said, something, co...  \n",
       "1490  ([everyone, welcome, denmark, contribute, hand...  \n",
       "1491  ([think, good, point, years, ago, city, copenh...  \n",
       "1492  ([could, take, elsewhere, also, difficult, els...  \n",
       "1493  ([situation, one, talking, social, aspects, ne...  \n",
       "1494  ([talk, equality, inequality, talking, skilled...  \n",
       "1495  ([part, thing, men, getting, paid, women, ones...  \n",
       "1496  ([agree, going, good, welfare, system, need, v...  \n",
       "1497  ([previously, talked, exactly, issue, focus, e...  \n",
       "1498  ([wo, get, anything, state, good, starting, po...  \n",
       "1499  ([actually, think, wages, biggest, problem, th...  \n",
       "\n",
       "[1500 rows x 14 columns]"
      ]
     },
     "execution_count": 509,
     "metadata": {},
     "output_type": "execute_result"
    }
   ],
   "source": [
    "discussions"
   ]
  },
  {
   "cell_type": "code",
   "execution_count": 520,
   "metadata": {},
   "outputs": [],
   "source": [
    "heatmapMatrix = []\n",
    "for tagOuter in keywords:\n",
    "    column = []\n",
    "    tagVec = discussionsD2V.docvecs[tagOuter].reshape(1, -1)\n",
    "    for tagInner in keywords:\n",
    "        column.append(sklearn.metrics.pairwise.cosine_similarity(tagVec, discussionsD2V.docvecs[tagInner].reshape(1, -1))[0][0])\n",
    "    heatmapMatrix.append(column)\n",
    "heatmapMatrix = np.array(heatmapMatrix)"
   ]
  },
  {
   "cell_type": "code",
   "execution_count": 521,
   "metadata": {},
   "outputs": [
    {
     "data": {
      "image/png": "[encoded data removed]",
      "text/plain": [
       "<matplotlib.figure.Figure at 0x13467f3c8>"
      ]
     },
     "metadata": {},
     "output_type": "display_data"
    }
   ],
   "source": [
    "fig, ax = plt.subplots()\n",
    "hmap = ax.pcolor(heatmapMatrix, cmap='terrain')\n",
    "cbar = plt.colorbar(hmap)\n",
    "\n",
    "cbar.set_label('cosine similarity', rotation=270)\n",
    "a = ax.set_xticks(np.arange(heatmapMatrix.shape[1]) + 0.5, minor=False)\n",
    "a = ax.set_yticks(np.arange(heatmapMatrix.shape[0]) + 0.5, minor=False)\n",
    "\n",
    "a = ax.set_xticklabels(keywords, minor=False, rotation=270)\n",
    "a = ax.set_yticklabels(keywords, minor=False)"
   ]
  },
  {
   "cell_type": "code",
   "execution_count": 522,
   "metadata": {},
   "outputs": [],
   "source": [
    "targetDocs = discussions['Unnamed: 0'][:10]\n",
    "\n",
    "heatmapMatrixD = []\n",
    "\n",
    "for tagOuter in targetDocs:\n",
    "    column = []\n",
    "    tagVec = discussionsD2V.docvecs[tagOuter].reshape(1, -1)\n",
    "    for tagInner in targetDocs:\n",
    "        column.append(sklearn.metrics.pairwise.cosine_similarity(tagVec, discussionsD2V.docvecs[tagInner].reshape(1, -1))[0][0])\n",
    "    heatmapMatrixD.append(column)\n",
    "heatmapMatrixD = np.array(heatmapMatrixD)"
   ]
  },
  {
   "cell_type": "code",
   "execution_count": 523,
   "metadata": {},
   "outputs": [
    {
     "data": {
      "image/png": "[encoded data removed]",
      "text/plain": [
       "<matplotlib.figure.Figure at 0x137b99588>"
      ]
     },
     "metadata": {},
     "output_type": "display_data"
    }
   ],
   "source": [
    "fig, ax = plt.subplots()\n",
    "hmap = ax.pcolor(heatmapMatrixD, cmap='terrain')\n",
    "cbar = plt.colorbar(hmap)\n",
    "\n",
    "cbar.set_label('cosine similarity', rotation=270)\n",
    "a = ax.set_xticks(np.arange(heatmapMatrixD.shape[1]) + 0.5, minor=False)\n",
    "a = ax.set_yticks(np.arange(heatmapMatrixD.shape[0]) + 0.5, minor=False)\n",
    "\n",
    "a = ax.set_xticklabels(targetDocs, minor=False, rotation=270)\n",
    "a = ax.set_yticklabels(targetDocs, minor=False)"
   ]
  },
  {
   "cell_type": "code",
   "execution_count": 524,
   "metadata": {},
   "outputs": [],
   "source": [
    "heatmapMatrixC = []\n",
    "\n",
    "for tagOuter in targetDocs:\n",
    "    column = []\n",
    "    tagVec = discussionsD2V.docvecs[tagOuter].reshape(1, -1)\n",
    "    for tagInner in keywords:\n",
    "        column.append(sklearn.metrics.pairwise.cosine_similarity(tagVec, discussionsD2V.docvecs[tagInner].reshape(1, -1))[0][0])\n",
    "    heatmapMatrixC.append(column)\n",
    "heatmapMatrixC = np.array(heatmapMatrixC)"
   ]
  },
  {
   "cell_type": "code",
   "execution_count": 525,
   "metadata": {},
   "outputs": [
    {
     "data": {
      "image/png": "[encoded data removed]",
      "text/plain": [
       "<matplotlib.figure.Figure at 0x137e57908>"
      ]
     },
     "metadata": {},
     "output_type": "display_data"
    }
   ],
   "source": [
    "fig, ax = plt.subplots()\n",
    "hmap = ax.pcolor(heatmapMatrixC, cmap='terrain')\n",
    "cbar = plt.colorbar(hmap)\n",
    "\n",
    "cbar.set_label('cosine similarity', rotation=270)\n",
    "a = ax.set_xticks(np.arange(heatmapMatrixC.shape[1]) + 0.5, minor=False)\n",
    "a = ax.set_yticks(np.arange(heatmapMatrixC.shape[0]) + 0.5, minor=False)\n",
    "\n",
    "a = ax.set_xticklabels(keywords, minor=False, rotation=270)\n",
    "a = ax.set_yticklabels(targetDocs, minor=False)"
   ]
  },
  {
   "cell_type": "markdown",
   "metadata": {},
   "source": [
    "# Projection"
   ]
  },
  {
   "cell_type": "markdown",
   "metadata": {},
   "source": [
    "We can also project word vectors to an arbitray semantic dimension. To demonstrate this possibility, let's first load a model trained with New York Times news articles. "
   ]
  },
  {
   "cell_type": "code",
   "execution_count": 224,
   "metadata": {
    "collapsed": true
   },
   "outputs": [],
   "source": [
    "nytimes_model = gensim.models.KeyedVectors.load_word2vec_format('../data/nytimes_cbow.reduced.txt')"
   ]
  },
  {
   "cell_type": "markdown",
   "metadata": {},
   "source": [
    "First we can visualize with dimension reduction"
   ]
  },
  {
   "cell_type": "code",
   "execution_count": 225,
   "metadata": {},
   "outputs": [
    {
     "data": {
      "text/plain": [
       "array([[-0.343139, -0.117117, -0.50773 , ..., -0.995696,  0.921299,\n",
       "         0.943769],\n",
       "       [-0.362909, -0.263528,  0.032661, ..., -0.043032, -0.178965,\n",
       "         0.353556],\n",
       "       [-0.70167 , -0.344525, -0.320714, ...,  0.009001,  0.11055 ,\n",
       "         0.751077],\n",
       "       ...,\n",
       "       [-2.391626, -1.90143 ,  1.031182, ...,  2.947464,  1.01588 ,\n",
       "         2.00033 ],\n",
       "       [-2.432387, -1.161415,  1.060064, ...,  4.402381,  0.500471,\n",
       "         1.644596],\n",
       "       [ 0.981931,  0.628094, -0.747547, ...,  1.612927,  1.148063,\n",
       "         1.063776]], dtype=float32)"
      ]
     },
     "execution_count": 225,
     "metadata": {},
     "output_type": "execute_result"
    }
   ],
   "source": [
    "#words to create dimensions\n",
    "tnytTargetWords = ['man','him','he', 'woman', 'her', 'she', 'black','blacks','African', 'white', 'whites', 'Caucasian', 'rich', 'richer', 'richest', 'expensive', 'wealthy', 'poor', 'poorer', 'poorest', 'cheap', 'inexpensive']\n",
    "#words we will be mapping\n",
    "tnytTargetWords += [\"doctor\",\"lawyer\",\"plumber\",\"scientist\",\"hairdresser\", \"nanny\",\"carpenter\",\"entrepreneur\",\"musician\",\"writer\", \"banker\",\"poet\",\"nurse\", \"steak\", \"bacon\", \"croissant\", \"cheesecake\", \"salad\", \"cheeseburger\", \"vegetables\", \"beer\", \"wine\", \"pastry\", \"basketball\", \"baseball\", \"boxing\", \"softball\", \"volleyball\", \"tennis\", \"golf\", \"hockey\", \"soccer\"]\n",
    "\n",
    "\n",
    "wordsSubMatrix = []\n",
    "for word in tnytTargetWords:\n",
    "    wordsSubMatrix.append(nytimes_model[word])\n",
    "wordsSubMatrix = np.array(wordsSubMatrix)\n",
    "wordsSubMatrix"
   ]
  },
  {
   "cell_type": "code",
   "execution_count": 226,
   "metadata": {
    "collapsed": true
   },
   "outputs": [],
   "source": [
    "pcaWordsNYT = sklearn.decomposition.PCA(n_components = 50).fit(wordsSubMatrix)\n",
    "reducedPCA_dataNYT = pcaWordsNYT.transform(wordsSubMatrix)\n",
    "#T-SNE is theoretically better, but you should experiment\n",
    "tsneWordsNYT = sklearn.manifold.TSNE(n_components = 2).fit_transform(reducedPCA_dataNYT)"
   ]
  },
  {
   "cell_type": "code",
   "execution_count": 227,
   "metadata": {},
   "outputs": [
    {
     "data": {
      "image/png": "[encoded data removed]",
      "text/plain": [
       "<matplotlib.figure.Figure at 0x127906438>"
      ]
     },
     "metadata": {},
     "output_type": "display_data"
    }
   ],
   "source": [
    "fig = plt.figure(figsize = (10,6))\n",
    "ax = fig.add_subplot(111)\n",
    "ax.set_frame_on(False)\n",
    "plt.scatter(tsneWordsNYT[:, 0], tsneWordsNYT[:, 1], alpha = 0) #Making the points invisible\n",
    "for i, word in enumerate(tnytTargetWords):\n",
    "    ax.annotate(word, (tsneWordsNYT[:, 0][i],tsneWordsNYT[:, 1][i]), size =  20 * (len(tnytTargetWords) - i) / len(tnytTargetWords))\n",
    "plt.xticks(())\n",
    "plt.yticks(())\n",
    "plt.show()"
   ]
  },
  {
   "cell_type": "markdown",
   "metadata": {},
   "source": [
    "Define some convenient functions for getting dimensions. "
   ]
  },
  {
   "cell_type": "code",
   "execution_count": 228,
   "metadata": {
    "collapsed": true
   },
   "outputs": [],
   "source": [
    "def normalize(vector):\n",
    "    normalized_vector = vector / np.linalg.norm(vector)\n",
    "    return normalized_vector\n",
    "\n",
    "def dimension(model, positives, negatives):\n",
    "    diff = sum([normalize(model[x]) for x in positives]) - sum([normalize(model[y]) for y in negatives])\n",
    "    return diff"
   ]
  },
  {
   "cell_type": "markdown",
   "metadata": {},
   "source": [
    "Let's calculate three dimensions: gender, race, and class."
   ]
  },
  {
   "cell_type": "code",
   "execution_count": 229,
   "metadata": {
    "collapsed": true
   },
   "outputs": [],
   "source": [
    "Gender = dimension(nytimes_model, ['man','him','he'], ['woman', 'her', 'she'])\n",
    "Race = dimension(nytimes_model, ['black','blacks','African'], ['white', 'whites', 'Caucasian'])\n",
    "Class = dimension(nytimes_model, ['rich', 'richer', 'richest', 'expensive', 'wealthy'], ['poor', 'poorer', 'poorest', 'cheap', 'inexpensive'])"
   ]
  },
  {
   "cell_type": "markdown",
   "metadata": {},
   "source": [
    "Here we have some words."
   ]
  },
  {
   "cell_type": "code",
   "execution_count": 230,
   "metadata": {
    "collapsed": true
   },
   "outputs": [],
   "source": [
    "Occupations = [\"doctor\",\"lawyer\",\"plumber\",\"scientist\",\"hairdresser\", \"nanny\",\"carpenter\",\"entrepreneur\",\"musician\",\"writer\", \"banker\",\"poet\",\"nurse\"]\n",
    "\n",
    "Foods = [\"steak\", \"bacon\", \"croissant\", \"cheesecake\", \"salad\", \"cheeseburger\", \"vegetables\", \"beer\", \"wine\", \"pastry\"]\n",
    "\n",
    "Sports  = [\"basketball\", \"baseball\", \"boxing\", \"softball\", \"volleyball\", \"tennis\", \"golf\", \"hockey\", \"soccer\"]"
   ]
  },
  {
   "cell_type": "markdown",
   "metadata": {},
   "source": [
    "Define a function to project words in a word list to each of the three dimensions."
   ]
  },
  {
   "cell_type": "code",
   "execution_count": 231,
   "metadata": {
    "collapsed": true
   },
   "outputs": [],
   "source": [
    "def makeDF(model, word_list):\n",
    "    g = []\n",
    "    r = []\n",
    "    c = []\n",
    "    for word in word_list:\n",
    "        g.append(sklearn.metrics.pairwise.cosine_similarity(nytimes_model[word].reshape(1,-1), Gender.reshape(1,-1))[0][0])\n",
    "        r.append(sklearn.metrics.pairwise.cosine_similarity(nytimes_model[word].reshape(1,-1), Race.reshape(1,-1))[0][0])\n",
    "        c.append(sklearn.metrics.pairwise.cosine_similarity(nytimes_model[word].reshape(1,-1), Class.reshape(1,-1))[0][0])\n",
    "    df = pandas.DataFrame({'gender': g, 'race': r, 'class': c}, index = word_list)\n",
    "    return df"
   ]
  },
  {
   "cell_type": "markdown",
   "metadata": {},
   "source": [
    "Get the projections."
   ]
  },
  {
   "cell_type": "code",
   "execution_count": 232,
   "metadata": {
    "collapsed": true
   },
   "outputs": [],
   "source": [
    "OCCdf = makeDF(nytimes_model, Occupations) \n",
    "Fooddf = makeDF(nytimes_model, Foods)\n",
    "Sportsdf = makeDF(nytimes_model, Sports)"
   ]
  },
  {
   "cell_type": "markdown",
   "metadata": {},
   "source": [
    "Define some useful functions for plotting."
   ]
  },
  {
   "cell_type": "code",
   "execution_count": 233,
   "metadata": {
    "collapsed": true
   },
   "outputs": [],
   "source": [
    "def Coloring(Series):\n",
    "    x = Series.values\n",
    "    y = x-x.min()\n",
    "    z = y/y.max()\n",
    "    c = list(plt.cm.rainbow(z))\n",
    "    return c\n",
    "\n",
    "def PlotDimension(ax,df, dim):\n",
    "    ax.set_frame_on(False)\n",
    "    ax.set_title(dim, fontsize = 20)\n",
    "    colors = Coloring(df[dim])\n",
    "    for i, word in enumerate(df.index):\n",
    "        ax.annotate(word, (0, df[dim][i]), color = colors[i], alpha = 0.6, fontsize = 12)\n",
    "    MaxY = df[dim].max()\n",
    "    MinY = df[dim].min()\n",
    "    plt.ylim(MinY,MaxY)\n",
    "    plt.yticks(())\n",
    "    plt.xticks(())"
   ]
  },
  {
   "cell_type": "markdown",
   "metadata": {},
   "source": [
    "Plot the occupational words in each of the three dimensions."
   ]
  },
  {
   "cell_type": "code",
   "execution_count": 234,
   "metadata": {
    "scrolled": true
   },
   "outputs": [
    {
     "data": {
      "image/png": "[encoded data removed]",
      "text/plain": [
       "<matplotlib.figure.Figure at 0x1279a07f0>"
      ]
     },
     "metadata": {},
     "output_type": "display_data"
    }
   ],
   "source": [
    "fig = plt.figure(figsize = (12,4))\n",
    "ax1 = fig.add_subplot(131)\n",
    "PlotDimension(ax1, OCCdf, 'gender')\n",
    "ax2 = fig.add_subplot(132)\n",
    "PlotDimension(ax2, OCCdf, 'race')\n",
    "ax3 = fig.add_subplot(133)\n",
    "PlotDimension(ax3, OCCdf, 'class')\n",
    "plt.show()"
   ]
  },
  {
   "cell_type": "markdown",
   "metadata": {},
   "source": [
    "Foods:"
   ]
  },
  {
   "cell_type": "code",
   "execution_count": 235,
   "metadata": {},
   "outputs": [
    {
     "data": {
      "image/png": "[encoded data removed]",
      "text/plain": [
       "<matplotlib.figure.Figure at 0x127aeb710>"
      ]
     },
     "metadata": {},
     "output_type": "display_data"
    }
   ],
   "source": [
    "fig = plt.figure(figsize = (12,4))\n",
    "ax1 = fig.add_subplot(131)\n",
    "PlotDimension(ax1, Fooddf, 'gender')\n",
    "ax2 = fig.add_subplot(132)\n",
    "PlotDimension(ax2, Fooddf, 'race')\n",
    "ax3 = fig.add_subplot(133)\n",
    "PlotDimension(ax3, Fooddf, 'class')\n",
    "plt.show()"
   ]
  },
  {
   "cell_type": "markdown",
   "metadata": {},
   "source": [
    "Sports:"
   ]
  },
  {
   "cell_type": "code",
   "execution_count": 236,
   "metadata": {},
   "outputs": [
    {
     "data": {
      "image/png": "[encoded data removed]",
      "text/plain": [
       "<matplotlib.figure.Figure at 0x128765b38>"
      ]
     },
     "metadata": {},
     "output_type": "display_data"
    }
   ],
   "source": [
    "fig = plt.figure(figsize = (12,4))\n",
    "ax1 = fig.add_subplot(131)\n",
    "PlotDimension(ax1, Sportsdf, 'gender')\n",
    "ax2 = fig.add_subplot(132)\n",
    "PlotDimension(ax2, Sportsdf, 'race')\n",
    "ax3 = fig.add_subplot(133)\n",
    "PlotDimension(ax3, Sportsdf, 'class')\n",
    "plt.show()"
   ]
  },
  {
   "cell_type": "markdown",
   "metadata": {},
   "source": [
    "## <span style=\"color:red\">*Exercise 3*</span>\n",
    "\n",
    "<span style=\"color:red\">Construct cells immediately below this that identify semantic dimensions of interest from your data (e.g., gender: man-woman) and project words onto these dimensions. Plot the array of relevant words along each semantic dimension. Which words are most different. Which dimensions are most different? On which dimension are your words most different? Print three short textual examples from the corpus that illustrate the association you have explored.\n",
    "\n",
    "<span style=\"color:red\">***Stretch***: Project documents from your corpus along a dimension of interest. Sample relevant documents from your corpus with this functionality and explain your rationale? Calculate the cosine of the angle between two dimensions (encoded as vectors) of interest. What does this suggest about the relationship between them within your corpus? \n",
    "\n",
    "<span style=\"color:red\">***Stretch***: Create 90% bootstrap confidence intervals around your word projections onto a given dimension. Which words are *significantly* different on your semantic dimension of interest?"
   ]
  },
  {
   "cell_type": "code",
   "execution_count": 536,
   "metadata": {},
   "outputs": [
    {
     "data": {
      "text/plain": [
       "array([[-0.22410329, -0.421199  , -0.19139929, ..., -0.14770621,\n",
       "         0.12634061, -0.06883325],\n",
       "       [-0.0957909 , -0.18099894, -0.07985305, ..., -0.06912129,\n",
       "         0.0548082 , -0.03011935],\n",
       "       [-0.18270236, -0.34300303, -0.15540285, ..., -0.1199604 ,\n",
       "         0.10256726, -0.05639999],\n",
       "       ...,\n",
       "       [-0.14063005, -0.2524445 , -0.11478934, ..., -0.08885203,\n",
       "         0.07693323, -0.0369415 ],\n",
       "       [-0.25439247, -0.47083303, -0.21175872, ..., -0.16230257,\n",
       "         0.13644017, -0.07050789],\n",
       "       [-0.11277048, -0.22028907, -0.09877894, ..., -0.07890208,\n",
       "         0.06064532, -0.03669058]], dtype=float32)"
      ]
     },
     "execution_count": 536,
     "metadata": {},
     "output_type": "execute_result"
    }
   ],
   "source": [
    "#First, is use some target words to open up two dimensions. One of my dimensions is a gender dimension\n",
    "#the other dimension is a class dimension.\n",
    "tnytTargetWords = ['men','male','man', 'father', 'women', 'female', 'woman','mother', 'daughter',\n",
    "                   'rich', 'richer', 'richest', 'expensive', 'poor', 'poorer']\n",
    "\n",
    "#I use words like \"home\" \"children\" and \"home\" as well as words like \"business\" and \"work.\" My hypothesis\n",
    "#would be that in the two-dimensional space the former will be close to female words while \"business\"\n",
    "#will be close to \"rich\" and \"expensive.\" \"Unemployed\" should be close to \"poor.\" These are not exactly\n",
    "#adventurous hypotheses but given the weak results from one, I'd be happy to see any associations that make\n",
    "#sense at all.\n",
    "tnytTargetWords += [\"home\",\"children\",\"home\", \"kids\",\"business\", \"work\", \"unemployed\"] \n",
    "\n",
    "\n",
    "wordsSubMatrix1 = []\n",
    "for word in tnytTargetWords:\n",
    "    wordsSubMatrix1.append(discussionsW2V[word])\n",
    "wordsSubMatrix1 = np.array(wordsSubMatrix1)\n",
    "\n",
    "wordsSubMatrix1\n"
   ]
  },
  {
   "cell_type": "code",
   "execution_count": 253,
   "metadata": {
    "collapsed": true
   },
   "outputs": [],
   "source": [
    "#Again I run two principal component analyses to reduce the space to 50 and then to 2 plottable dimensions.\n",
    "pca_50 = sklearn.decomposition.PCA(n_components = 50).fit(wordsSubMatrix1)\n",
    "pca_sub = pca_50.transform(wordsSubMatrix1)\n",
    "pca_2 = sklearn.manifold.TSNE(n_components = 2).fit_transform(pca_sub)"
   ]
  },
  {
   "cell_type": "code",
   "execution_count": 254,
   "metadata": {},
   "outputs": [
    {
     "data": {
      "image/png": "[encoded data removed]",
      "text/plain": [
       "<matplotlib.figure.Figure at 0x127ab3550>"
      ]
     },
     "metadata": {},
     "output_type": "display_data"
    }
   ],
   "source": [
    "#Below I plot my twodimensional space. I cannot really see much in it.\n",
    "fig = plt.figure(figsize = (10,6))\n",
    "ax = fig.add_subplot(111)\n",
    "ax.set_frame_on(False)\n",
    "plt.scatter(pca_2[:, 0], pca_2[:, 1], alpha = 0) #Making the points invisible\n",
    "for i, word in enumerate(tnytTargetWords):\n",
    "    ax.annotate(word, (pca_2[:, 0][i],pca_2[:, 1][i]), size =  20 * (len(tnytTargetWords) - i) / len(tnytTargetWords))\n",
    "plt.xticks(())\n",
    "plt.yticks(())\n",
    "plt.show()"
   ]
  },
  {
   "cell_type": "code",
   "execution_count": 538,
   "metadata": {},
   "outputs": [],
   "source": [
    "#Next I define the two dimensions by binary opposition words words.\n",
    "#I use the functions that you defined above.\n",
    "gender = dimension(discussionsW2V, ['men','male','man', 'father'], ['women', 'female', 'woman','mother', 'daughter'])\n",
    "wealth = dimension(discussionsW2V, ['rich', 'richer', 'richest', 'expensive'], ['poor', 'poorer'])\n",
    "words = [\"home\",\"children\",\"home\", \"kids\",\"business\", \"work\", \"unemployed\", \"job\"]"
   ]
  },
  {
   "cell_type": "code",
   "execution_count": 540,
   "metadata": {
    "collapsed": true
   },
   "outputs": [],
   "source": [
    "#Here I redefine your function above.\n",
    "def makeDF_mine(model, word_list):\n",
    "    g = []\n",
    "    c = []\n",
    "    for word in word_list:\n",
    "        g.append(sklearn.metrics.pairwise.cosine_similarity(nytimes_model[word].reshape(1,-1), Gender.reshape(1,-1))[0][0])\n",
    "        c.append(sklearn.metrics.pairwise.cosine_similarity(nytimes_model[word].reshape(1,-1), Class.reshape(1,-1))[0][0])\n",
    "    df = pandas.DataFrame({'gender': g, 'class': c}, index = word_list)\n",
    "    return df"
   ]
  },
  {
   "cell_type": "code",
   "execution_count": 541,
   "metadata": {},
   "outputs": [],
   "source": [
    "mine_df = makeDF_mine(discussionsW2V, Products) "
   ]
  },
  {
   "cell_type": "code",
   "execution_count": 542,
   "metadata": {},
   "outputs": [
    {
     "data": {
      "image/png": "[encoded data removed]",
      "text/plain": [
       "<matplotlib.figure.Figure at 0x1288dda90>"
      ]
     },
     "metadata": {},
     "output_type": "display_data"
    }
   ],
   "source": [
    "#Plotting the results for the two dimensions yields ambivalent results.\n",
    "#We see that business and job load on the opposite side of children \n",
    "#for the gender dimension. This seems to make sense.\n",
    "#For the class dimension, we see that the strongest difference\n",
    "#lies between business and unemployed. This seems to make sense as well.\n",
    "fig = plt.figure(figsize = (12,4))\n",
    "ax1 = fig.add_subplot(131)\n",
    "PlotDimension(ax1, mine_df, 'gender')\n",
    "ax2 = fig.add_subplot(132)\n",
    "PlotDimension(ax2, mine_df, 'class')"
   ]
  },
  {
   "cell_type": "code",
   "execution_count": 529,
   "metadata": {},
   "outputs": [
    {
     "data": {
      "text/plain": [
       "[('business', 0.9998964071273804),\n",
       " (1500, 0.9997071623802185),\n",
       " ('school', 0.9995607733726501),\n",
       " (1497, 0.9995280504226685),\n",
       " (1499, 0.9995257258415222)]"
      ]
     },
     "execution_count": 529,
     "metadata": {},
     "output_type": "execute_result"
    }
   ],
   "source": [
    "discussionsD2V.docvecs.most_similar([discussionsD2V['business']+discussionsD2V['job']], topn=5 )"
   ]
  },
  {
   "cell_type": "code",
   "execution_count": 530,
   "metadata": {
    "collapsed": true
   },
   "outputs": [],
   "source": [
    "#Extract from doc 1500:\n",
    "#I actually dont think that wages are the biggest problem. What I was thinking about was this thing of saying \n",
    "#\"His job is worth more so he needs a golden handshake worth X million in case he gets fired.\" The idea that \n",
    "#\"his job security matters more. That's what I disagree with. But I actually think there's something which is more \n",
    "#interesting to discuss here. [...]\n",
    "\n",
    "#Extract from doc 1499:\n",
    "#That you won't get anything from the state is a good starting point because then you save up and you're \n",
    "#not dependent on anything, that I don't dispute. But the idea that there won't be an old-age pension \n",
    "#for our generation is nonsense, because there will and the funds are being set aside quietly bit by bit. \n",
    "#It's a discussion which ends with some sort of benefit for those who cannot be supported. I can't see any \n",
    "#point in that at all because we already have a reform which finances it. I did the maths on when I'll be \n",
    "#able to retire, and if we assume that the current age progression continues I'll be 72. But today it's easier \n",
    "#to make savings tax-free which means that you defer tax payment until you retire. In other words, we are \n",
    "#helping to fund our own old-age pensions.  I think the system will be fine but I don't buy that old Marxist \n",
    "#way of thinking, that money has no value. I definitely think we can discuss the real value of money. \n",
    "#However, I'm more interested in finding out how we're going to decide whether to put our efforts into older \n",
    "#or younger citizens. I mean, increasing benefits for elderly people and removing money from education, \n",
    "#research and state education support. Think again. Who's going to finance it in the future?\",\"Generations\",227,1247\n",
    "\n",
    "#Extract from doc 1497:\n",
    "#\"I agree that if we are going to have a good welfare system in 2040 then we need to view it from a different \n",
    "#angle. It's important to keep the Danish labour market model and that there is a social safety net. \n",
    "#We are very flexible compared to other countries and that represents a huge competitive advantage. \n",
    "# [...] If we abolished conventional farming we would see a drop in gross domestic \n",
    "#product corresponding to that seen during the financial crisis. It's not as crucial as back when we had this \n",
    "#huge export. It doesn't have the same social value today."
   ]
  },
  {
   "cell_type": "code",
   "execution_count": 531,
   "metadata": {},
   "outputs": [
    {
     "data": {
      "text/plain": [
       "[('business', 0.9997963905334473),\n",
       " ('school', 0.9996781349182129),\n",
       " (1500, 0.9996098279953003),\n",
       " (1497, 0.9995223879814148),\n",
       " (1498, 0.9994255900382996)]"
      ]
     },
     "execution_count": 531,
     "metadata": {},
     "output_type": "execute_result"
    }
   ],
   "source": []
  },
  {
   "cell_type": "code",
   "execution_count": null,
   "metadata": {
    "collapsed": true
   },
   "outputs": [],
   "source": []
  }
 ],
 "metadata": {
  "anaconda-cloud": {},
  "kernelspec": {
   "display_name": "Python 3",
   "language": "python",
   "name": "python3"
  },
  "language_info": {
   "codemirror_mode": {
    "name": "ipython",
    "version": 3
   },
   "file_extension": ".py",
   "mimetype": "text/x-python",
   "name": "python",
   "nbconvert_exporter": "python",
   "pygments_lexer": "ipython3",
   "version": "3.6.3"
  }
 },
 "nbformat": 4,
 "nbformat_minor": 1
}
